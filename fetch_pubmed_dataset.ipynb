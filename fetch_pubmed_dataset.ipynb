{
 "cells": [
  {
   "cell_type": "code",
   "execution_count": 1,
   "id": "21b20ffd",
   "metadata": {},
   "outputs": [],
   "source": [
    "from Bio import Entrez\n",
    "\n",
    "# Set your email address (required by NCBI for API access)\n",
    "Entrez.email = \"huqiaowen0104@outlook.com\""
   ]
  },
  {
   "cell_type": "code",
   "execution_count": 2,
   "id": "b2841d1b",
   "metadata": {},
   "outputs": [],
   "source": [
    "# Specify the search query\n",
    "search_query = \"intelligence AND datesearch.y_1\"\n",
    "\n",
    "# Perform the search\n",
    "retmax = 10000\n",
    "handle = Entrez.esearch(db=\"pubmed\", term=search_query, retmax=retmax)\n",
    "search_results = Entrez.read(handle)\n",
    "handle.close()"
   ]
  },
  {
   "cell_type": "code",
   "execution_count": 3,
   "id": "a43766ca",
   "metadata": {},
   "outputs": [
    {
     "name": "stdout",
     "output_type": "stream",
     "text": [
      "dict_keys(['Count', 'RetMax', 'RetStart', 'IdList', 'TranslationSet', 'QueryTranslation', 'ErrorList', 'WarningList'])\n",
      "109312\n",
      "9999\n",
      "38037663\n"
     ]
    }
   ],
   "source": [
    "print(search_results.keys())\n",
    "print(search_results[\"Count\"])\n",
    "print(len(search_results[\"IdList\"]))\n",
    "print(search_results[\"IdList\"][0])"
   ]
  },
  {
   "cell_type": "code",
   "execution_count": 4,
   "id": "dfc2f224",
   "metadata": {},
   "outputs": [
    {
     "name": "stdout",
     "output_type": "stream",
     "text": [
      "38037663\n",
      "///////////\n",
      "Title: Comparison of Human Experts and AI in Predicting Autism from Facial Behavior.\n",
      "Abstract: Advances in computational behavior analysis via artificial intelligence (AI) promise to improve mental healthcare services by providing clinicians with tools to assist diagnosis or measurement of treatment outcomes. This potential has spurred an increasing number of studies in which automated pipelines predict diagnoses of mental health conditions. However, a fundamental question remains unanswered: How do the predictions of the AI algorithms correspond and compare with the predictions of humans? This is a critical question if AI technology is to be used as an assistive tool, because the utility of an AI algorithm would be negligible if it provides little information beyond what clinicians can readily infer. In this paper, we compare the performance of 19 human raters (8 autism experts and 11 non-experts) and that of an AI algorithm in terms of predicting autism diagnosis from short (3-minute) videos of <i>N</i> = 42 participants in a naturalistic conversation. Results show that the AI algorithm achieves an average accuracy of 80.5%, which is comparable to that of clinicians with expertise in autism (83.1%) and clinical research staff without specialized expertise (78.3%). Critically, diagnoses that were inaccurately predicted by most humans (experts and non-experts, alike) were typically correctly predicted by AI. Our results highlight the potential of AI as an assistive tool that can augment clinician diagnostic decision-making.\n",
      "Publication Date: [DictElement({'Year': '2023', 'Month': '03', 'Day': '16'}, attributes={'DateType': 'Electronic'})]\n",
      "PMID: 38037663\n"
     ]
    },
    {
     "ename": "RuntimeError",
     "evalue": "Search Backend failed: Exception:\n'retstart' cannot be larger than 9998. For PubMed, ESearch can only retrieve the first 9,999 records matching the query. To obtain more than 9,999 PubMed records, consider using EDirect that contains additional logic to batch PubMed search results automatically so that an arbitrary number can be retrieved. For details see https://www.ncbi.nlm.nih.gov/books/NBK25499/",
     "output_type": "error",
     "traceback": [
      "\u001b[0;31m---------------------------------------------------------------------------\u001b[0m",
      "\u001b[0;31mRuntimeError\u001b[0m                              Traceback (most recent call last)",
      "Input \u001b[0;32mIn [4]\u001b[0m, in \u001b[0;36m<cell line: 2>\u001b[0;34m()\u001b[0m\n\u001b[1;32m      2\u001b[0m \u001b[38;5;28;01mfor\u001b[39;00m retstart \u001b[38;5;129;01min\u001b[39;00m \u001b[38;5;28mrange\u001b[39m(\u001b[38;5;241m0\u001b[39m, \u001b[38;5;28mint\u001b[39m(search_results[\u001b[38;5;124m\"\u001b[39m\u001b[38;5;124mCount\u001b[39m\u001b[38;5;124m\"\u001b[39m]), retmax):\n\u001b[1;32m      3\u001b[0m     handle \u001b[38;5;241m=\u001b[39m Entrez\u001b[38;5;241m.\u001b[39mesearch(db\u001b[38;5;241m=\u001b[39m\u001b[38;5;124m\"\u001b[39m\u001b[38;5;124mpubmed\u001b[39m\u001b[38;5;124m\"\u001b[39m, term\u001b[38;5;241m=\u001b[39msearch_query, retstart\u001b[38;5;241m=\u001b[39mretstart, retmax\u001b[38;5;241m=\u001b[39mretmax)\n\u001b[0;32m----> 4\u001b[0m     batch_results \u001b[38;5;241m=\u001b[39m \u001b[43mEntrez\u001b[49m\u001b[38;5;241;43m.\u001b[39;49m\u001b[43mread\u001b[49m\u001b[43m(\u001b[49m\u001b[43mhandle\u001b[49m\u001b[43m)\u001b[49m\n\u001b[1;32m      5\u001b[0m     handle\u001b[38;5;241m.\u001b[39mclose()\n\u001b[1;32m      7\u001b[0m     \u001b[38;5;66;03m# Retrieve information for the first result\u001b[39;00m\n",
      "File \u001b[0;32m~/Library/Python/3.8/lib/python/site-packages/Bio/Entrez/__init__.py:503\u001b[0m, in \u001b[0;36mread\u001b[0;34m(handle, validate, escape, ignore_errors)\u001b[0m\n\u001b[1;32m    500\u001b[0m \u001b[38;5;28;01mfrom\u001b[39;00m \u001b[38;5;21;01m.\u001b[39;00m\u001b[38;5;21;01mParser\u001b[39;00m \u001b[38;5;28;01mimport\u001b[39;00m DataHandler\n\u001b[1;32m    502\u001b[0m handler \u001b[38;5;241m=\u001b[39m DataHandler(validate, escape, ignore_errors)\n\u001b[0;32m--> 503\u001b[0m record \u001b[38;5;241m=\u001b[39m \u001b[43mhandler\u001b[49m\u001b[38;5;241;43m.\u001b[39;49m\u001b[43mread\u001b[49m\u001b[43m(\u001b[49m\u001b[43mhandle\u001b[49m\u001b[43m)\u001b[49m\n\u001b[1;32m    504\u001b[0m \u001b[38;5;28;01mreturn\u001b[39;00m record\n",
      "File \u001b[0;32m~/Library/Python/3.8/lib/python/site-packages/Bio/Entrez/Parser.py:392\u001b[0m, in \u001b[0;36mDataHandler.read\u001b[0;34m(self, handle)\u001b[0m\n\u001b[1;32m    390\u001b[0m     \u001b[38;5;28;01mraise\u001b[39;00m \u001b[38;5;167;01mTypeError\u001b[39;00m(\u001b[38;5;124m\"\u001b[39m\u001b[38;5;124mfile should be opened in binary mode\u001b[39m\u001b[38;5;124m\"\u001b[39m)\n\u001b[1;32m    391\u001b[0m \u001b[38;5;28;01mtry\u001b[39;00m:\n\u001b[0;32m--> 392\u001b[0m     \u001b[38;5;28;43mself\u001b[39;49m\u001b[38;5;241;43m.\u001b[39;49m\u001b[43mparser\u001b[49m\u001b[38;5;241;43m.\u001b[39;49m\u001b[43mParseFile\u001b[49m\u001b[43m(\u001b[49m\u001b[43mhandle\u001b[49m\u001b[43m)\u001b[49m\n\u001b[1;32m    393\u001b[0m \u001b[38;5;28;01mexcept\u001b[39;00m expat\u001b[38;5;241m.\u001b[39mExpatError \u001b[38;5;28;01mas\u001b[39;00m e:\n\u001b[1;32m    394\u001b[0m     \u001b[38;5;28;01mif\u001b[39;00m \u001b[38;5;28mself\u001b[39m\u001b[38;5;241m.\u001b[39mparser\u001b[38;5;241m.\u001b[39mStartElementHandler:\n\u001b[1;32m    395\u001b[0m         \u001b[38;5;66;03m# We saw the initial <!xml declaration, so we can be sure that\u001b[39;00m\n\u001b[1;32m    396\u001b[0m         \u001b[38;5;66;03m# we are parsing XML data. Most likely, the XML file is\u001b[39;00m\n\u001b[1;32m    397\u001b[0m         \u001b[38;5;66;03m# corrupted.\u001b[39;00m\n",
      "File \u001b[0;32m/AppleInternal/BuildRoot/Library/Caches/com.apple.xbs/Sources/python3/python3-103/Python/Modules/pyexpat.c:461\u001b[0m, in \u001b[0;36mEndElement\u001b[0;34m()\u001b[0m\n",
      "File \u001b[0;32m~/Library/Python/3.8/lib/python/site-packages/Bio/Entrez/Parser.py:790\u001b[0m, in \u001b[0;36mDataHandler.endErrorElementHandler\u001b[0;34m(self, tag)\u001b[0m\n\u001b[1;32m    788\u001b[0m     \u001b[38;5;28;01mreturn\u001b[39;00m\n\u001b[1;32m    789\u001b[0m \u001b[38;5;28;01mif\u001b[39;00m \u001b[38;5;28mself\u001b[39m\u001b[38;5;241m.\u001b[39mignore_errors \u001b[38;5;129;01mis\u001b[39;00m \u001b[38;5;28;01mFalse\u001b[39;00m:\n\u001b[0;32m--> 790\u001b[0m     \u001b[38;5;28;01mraise\u001b[39;00m \u001b[38;5;167;01mRuntimeError\u001b[39;00m(data)\n\u001b[1;32m    791\u001b[0m \u001b[38;5;28mself\u001b[39m\u001b[38;5;241m.\u001b[39mdata \u001b[38;5;241m=\u001b[39m []\n\u001b[1;32m    792\u001b[0m value \u001b[38;5;241m=\u001b[39m ErrorElement(data, tag)\n",
      "\u001b[0;31mRuntimeError\u001b[0m: Search Backend failed: Exception:\n'retstart' cannot be larger than 9998. For PubMed, ESearch can only retrieve the first 9,999 records matching the query. To obtain more than 9,999 PubMed records, consider using EDirect that contains additional logic to batch PubMed search results automatically so that an arbitrary number can be retrieved. For details see https://www.ncbi.nlm.nih.gov/books/NBK25499/"
     ]
    }
   ],
   "source": [
    "# Retrieve information for each result\n",
    "for retstart in range(0, int(search_results[\"Count\"]), retmax):\n",
    "    handle = Entrez.esearch(db=\"pubmed\", term=search_query, retstart=retstart, retmax=retmax)\n",
    "    batch_results = Entrez.read(handle)\n",
    "    handle.close()\n",
    "    \n",
    "    # Retrieve information for the first result\n",
    "    if search_results[\"IdList\"]:\n",
    "        article_id = search_results[\"IdList\"][0]\n",
    "        print(article_id)\n",
    "        article_handle = Entrez.efetch(db=\"pubmed\", id=article_id, rettype=\"xml\")\n",
    "        article_record = Entrez.read(article_handle)\n",
    "#         print(article_record['PubmedArticle'][0][\"MedlineCitation\"].keys())\n",
    "#         print(article_record['PubmedArticle'][0][\"MedlineCitation\"][\"Article\"].keys())\n",
    "        article_handle.close()\n",
    "\n",
    "        # Print relevant information\n",
    "        title = article_record['PubmedArticle'][0][\"MedlineCitation\"][\"Article\"][\"ArticleTitle\"]\n",
    "        abstract = article_record['PubmedArticle'][0][\"MedlineCitation\"][\"Article\"][\"Abstract\"][\"AbstractText\"][0]\n",
    "        pub_date = article_record['PubmedArticle'][0][\"MedlineCitation\"][\"Article\"][\"ArticleDate\"]\n",
    "        pmid = article_record['PubmedArticle'][0][\"MedlineCitation\"][\"PMID\"]\n",
    "        print(\"///////////\")\n",
    "        print(\"Title:\", title)\n",
    "        print(\"Abstract:\", abstract)\n",
    "        print(\"Publication Date:\", pub_date)\n",
    "        print(\"PMID:\", pmid)\n",
    "    else:\n",
    "        print(\"No results found.\")"
   ]
  },
  {
   "cell_type": "code",
   "execution_count": null,
   "id": "f6eead43",
   "metadata": {},
   "outputs": [],
   "source": []
  }
 ],
 "metadata": {
  "kernelspec": {
   "display_name": "Python 3 (ipykernel)",
   "language": "python",
   "name": "python3"
  },
  "language_info": {
   "codemirror_mode": {
    "name": "ipython",
    "version": 3
   },
   "file_extension": ".py",
   "mimetype": "text/x-python",
   "name": "python",
   "nbconvert_exporter": "python",
   "pygments_lexer": "ipython3",
   "version": "3.8.9"
  }
 },
 "nbformat": 4,
 "nbformat_minor": 5
}
