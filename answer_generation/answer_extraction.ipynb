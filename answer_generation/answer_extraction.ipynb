{
 "cells": [
  {
   "cell_type": "code",
   "execution_count": 1,
   "metadata": {},
   "outputs": [
    {
     "data": {
      "application/vnd.jupyter.widget-view+json": {
       "model_id": "2359e80776bc4797b03d92faf1dcc30d",
       "version_major": 2,
       "version_minor": 0
      },
      "text/plain": [
       "VBox(children=(HTML(value='<center> <img\\nsrc=https://huggingface.co/front/assets/huggingface_logo-noborder.sv…"
      ]
     },
     "metadata": {},
     "output_type": "display_data"
    }
   ],
   "source": [
    "from huggingface_hub import notebook_login\n",
    "notebook_login()"
   ]
  },
  {
   "cell_type": "code",
   "execution_count": 2,
   "metadata": {},
   "outputs": [],
   "source": [
    "\n",
    "# True: not answer all question，False: answer all questions mandatorily。\n",
    "answer_all = True\n",
    "# load Bert\n",
    "model_checkpoint = \"distilbert-base-uncased\"\n",
    "\n",
    "batch_size = 16\n"
   ]
  },
  {
   "cell_type": "code",
   "execution_count": 3,
   "metadata": {},
   "outputs": [],
   "source": [
    "# qa pairs\n",
    "import pandas as pd\n",
    "from datasets import Dataset, DatasetDict\n",
    "with open('../testing_QA/reformatting_testing_qa.csv','r',encoding='utf-8') as f:\n",
    "    df_c = pd.read_csv(f)\n"
   ]
  },
  {
   "cell_type": "code",
   "execution_count": 4,
   "metadata": {},
   "outputs": [
    {
     "data": {
      "text/html": [
       "<div>\n",
       "<style scoped>\n",
       "    .dataframe tbody tr th:only-of-type {\n",
       "        vertical-align: middle;\n",
       "    }\n",
       "\n",
       "    .dataframe tbody tr th {\n",
       "        vertical-align: top;\n",
       "    }\n",
       "\n",
       "    .dataframe thead th {\n",
       "        text-align: right;\n",
       "    }\n",
       "</style>\n",
       "<table border=\"1\" class=\"dataframe\">\n",
       "  <thead>\n",
       "    <tr style=\"text-align: right;\">\n",
       "      <th></th>\n",
       "      <th>question</th>\n",
       "      <th>answer</th>\n",
       "      <th>start_point</th>\n",
       "      <th>article_title</th>\n",
       "      <th>PMID</th>\n",
       "      <th>author</th>\n",
       "      <th>context</th>\n",
       "      <th>article_date</th>\n",
       "    </tr>\n",
       "  </thead>\n",
       "  <tbody>\n",
       "    <tr>\n",
       "      <th>0</th>\n",
       "      <td>What is the purpose of the prospective study m...</td>\n",
       "      <td>To define the very early neuropsychological pr...</td>\n",
       "      <td>259</td>\n",
       "      <td>Neuropsychological profile in new-onset benign...</td>\n",
       "      <td>26667848</td>\n",
       "      <td>Filippini M, Ardu E, Stefanelli S, Boni A, Gob...</td>\n",
       "      <td>PURPOSE: Increased evidence of subnormal neuro...</td>\n",
       "      <td>2015/12/16</td>\n",
       "    </tr>\n",
       "    <tr>\n",
       "      <th>1</th>\n",
       "      <td>How many children with BECTS were enrolled in ...</td>\n",
       "      <td>Fifteen school-aged children with BECTS.</td>\n",
       "      <td>438</td>\n",
       "      <td>Neuropsychological profile in new-onset benign...</td>\n",
       "      <td>26667848</td>\n",
       "      <td>Filippini M, Ardu E, Stefanelli S, Boni A, Gob...</td>\n",
       "      <td>PURPOSE: Increased evidence of subnormal neuro...</td>\n",
       "      <td>2015/12/16</td>\n",
       "    </tr>\n",
       "    <tr>\n",
       "      <th>2</th>\n",
       "      <td>What neuropsychological domains showed signifi...</td>\n",
       "      <td>Language, executive functions, and academic sk...</td>\n",
       "      <td>1041</td>\n",
       "      <td>Neuropsychological profile in new-onset benign...</td>\n",
       "      <td>26667848</td>\n",
       "      <td>Filippini M, Ardu E, Stefanelli S, Boni A, Gob...</td>\n",
       "      <td>PURPOSE: Increased evidence of subnormal neuro...</td>\n",
       "      <td>2015/12/16</td>\n",
       "    </tr>\n",
       "    <tr>\n",
       "      <th>3</th>\n",
       "      <td>What implications are drawn from the results r...</td>\n",
       "      <td>Children with new-onset BECTS may demonstrate ...</td>\n",
       "      <td>2288</td>\n",
       "      <td>Neuropsychological profile in new-onset benign...</td>\n",
       "      <td>26667848</td>\n",
       "      <td>Filippini M, Ardu E, Stefanelli S, Boni A, Gob...</td>\n",
       "      <td>PURPOSE: Increased evidence of subnormal neuro...</td>\n",
       "      <td>2015/12/16</td>\n",
       "    </tr>\n",
       "    <tr>\n",
       "      <th>4</th>\n",
       "      <td>What is the London Child Health and Developmen...</td>\n",
       "      <td>The London Child Health and Development Study ...</td>\n",
       "      <td>139</td>\n",
       "      <td>Toward earlier identification and preventative...</td>\n",
       "      <td>26670311</td>\n",
       "      <td>Laurens KR, Cullen AE</td>\n",
       "      <td>PURPOSE: The London Child Health and Developme...</td>\n",
       "      <td>2015/12/17</td>\n",
       "    </tr>\n",
       "    <tr>\n",
       "      <th>5</th>\n",
       "      <td>What is the purpose of the London Child Health...</td>\n",
       "      <td>The purpose of the London Child Health and Dev...</td>\n",
       "      <td>325</td>\n",
       "      <td>Toward earlier identification and preventative...</td>\n",
       "      <td>26670311</td>\n",
       "      <td>Laurens KR, Cullen AE</td>\n",
       "      <td>PURPOSE: The London Child Health and Developme...</td>\n",
       "      <td>2015/12/17</td>\n",
       "    </tr>\n",
       "    <tr>\n",
       "      <th>6</th>\n",
       "      <td>What does the London Child Health and Developm...</td>\n",
       "      <td>The London Child Health and Development Study ...</td>\n",
       "      <td>621</td>\n",
       "      <td>Toward earlier identification and preventative...</td>\n",
       "      <td>26670311</td>\n",
       "      <td>Laurens KR, Cullen AE</td>\n",
       "      <td>PURPOSE: The London Child Health and Developme...</td>\n",
       "      <td>2015/12/17</td>\n",
       "    </tr>\n",
       "    <tr>\n",
       "      <th>7</th>\n",
       "      <td>What are the findings of the London Child Heal...</td>\n",
       "      <td>The findings of the London Child Health and De...</td>\n",
       "      <td>900</td>\n",
       "      <td>Toward earlier identification and preventative...</td>\n",
       "      <td>26670311</td>\n",
       "      <td>Laurens KR, Cullen AE</td>\n",
       "      <td>PURPOSE: The London Child Health and Developme...</td>\n",
       "      <td>2015/12/17</td>\n",
       "    </tr>\n",
       "    <tr>\n",
       "      <th>8</th>\n",
       "      <td>What is the core hypothesis in developmental t...</td>\n",
       "      <td>genetic influences on intelligence and academi...</td>\n",
       "      <td>276</td>\n",
       "      <td>Large Cross-National Differences in Gene x Soc...</td>\n",
       "      <td>26671911</td>\n",
       "      <td>Tucker-Drob EM, Bates TC</td>\n",
       "      <td>A core hypothesis in developmental theory pred...</td>\n",
       "      <td>2015/12/17</td>\n",
       "    </tr>\n",
       "    <tr>\n",
       "      <th>9</th>\n",
       "      <td>What did the meta-analysis by Tucker-Drob and ...</td>\n",
       "      <td>Gene x SES interaction on intelligence and aca...</td>\n",
       "      <td>287</td>\n",
       "      <td>Large Cross-National Differences in Gene x Soc...</td>\n",
       "      <td>26671911</td>\n",
       "      <td>Tucker-Drob EM, Bates TC</td>\n",
       "      <td>A core hypothesis in developmental theory pred...</td>\n",
       "      <td>2015/12/17</td>\n",
       "    </tr>\n",
       "    <tr>\n",
       "      <th>10</th>\n",
       "      <td>Where were the clear Gene x SES effects found ...</td>\n",
       "      <td>U.S. studies</td>\n",
       "      <td>713</td>\n",
       "      <td>Large Cross-National Differences in Gene x Soc...</td>\n",
       "      <td>26671911</td>\n",
       "      <td>Tucker-Drob EM, Bates TC</td>\n",
       "      <td>A core hypothesis in developmental theory pred...</td>\n",
       "      <td>2015/12/17</td>\n",
       "    </tr>\n",
       "    <tr>\n",
       "      <th>11</th>\n",
       "      <td>In which regions were the Gene x SES effects z...</td>\n",
       "      <td>Western Europe and Australia</td>\n",
       "      <td>982</td>\n",
       "      <td>Large Cross-National Differences in Gene x Soc...</td>\n",
       "      <td>26671911</td>\n",
       "      <td>Tucker-Drob EM, Bates TC</td>\n",
       "      <td>A core hypothesis in developmental theory pred...</td>\n",
       "      <td>2015/12/17</td>\n",
       "    </tr>\n",
       "    <tr>\n",
       "      <th>12</th>\n",
       "      <td>Who authored the article on multifactorial det...</td>\n",
       "      <td>Moncayo R and Ortner K</td>\n",
       "      <td>BACKGROUND: Since the 1960s hypothyroidism tog...</td>\n",
       "      <td>Multifactorial determinants of cognition - Thy...</td>\n",
       "      <td>26672993</td>\n",
       "      <td>Moncayo R, Ortner K</td>\n",
       "      <td>BACKGROUND: Since the 1960s hypothyroidism tog...</td>\n",
       "      <td>2015/12/18</td>\n",
       "    </tr>\n",
       "    <tr>\n",
       "      <th>13</th>\n",
       "      <td>What was considered to be a principal determin...</td>\n",
       "      <td>Iodine deficiency</td>\n",
       "      <td>BACKGROUND: Since the 1960s hypothyroidism tog...</td>\n",
       "      <td>Multifactorial determinants of cognition - Thy...</td>\n",
       "      <td>26672993</td>\n",
       "      <td>Moncayo R, Ortner K</td>\n",
       "      <td>BACKGROUND: Since the 1960s hypothyroidism tog...</td>\n",
       "      <td>2015/12/18</td>\n",
       "    </tr>\n",
       "    <tr>\n",
       "      <th>14</th>\n",
       "      <td>According to recent studies, what type of stre...</td>\n",
       "      <td>Pre-natal stress</td>\n",
       "      <td>SCOPE OF REVIEW: We will examine the character...</td>\n",
       "      <td>Multifactorial determinants of cognition - Thy...</td>\n",
       "      <td>26672993</td>\n",
       "      <td>Moncayo R, Ortner K</td>\n",
       "      <td>BACKGROUND: Since the 1960s hypothyroidism tog...</td>\n",
       "      <td>2015/12/18</td>\n",
       "    </tr>\n",
       "    <tr>\n",
       "      <th>15</th>\n",
       "      <td>Aside from thyroid function, what are some add...</td>\n",
       "      <td>Nutrition, infection, prenatal stress, and ear...</td>\n",
       "      <td>MAJOR CONCLUSIONS: Recent studies have failed ...</td>\n",
       "      <td>Multifactorial determinants of cognition - Thy...</td>\n",
       "      <td>26672993</td>\n",
       "      <td>Moncayo R, Ortner K</td>\n",
       "      <td>BACKGROUND: Since the 1960s hypothyroidism tog...</td>\n",
       "      <td>2015/12/18</td>\n",
       "    </tr>\n",
       "    <tr>\n",
       "      <th>16</th>\n",
       "      <td>What is the significance of studying psycholog...</td>\n",
       "      <td>Psychological gender and emotional intelligenc...</td>\n",
       "      <td>497</td>\n",
       "      <td>Psychological Gender and Emotional Intelligenc...</td>\n",
       "      <td>26673062</td>\n",
       "      <td>Rutkowska K, Bergier J</td>\n",
       "      <td>Many sports (for instance soccer) are stereoty...</td>\n",
       "      <td>2015/12/18</td>\n",
       "    </tr>\n",
       "    <tr>\n",
       "      <th>17</th>\n",
       "      <td>What is emotional intelligence defined as?</td>\n",
       "      <td>Emotional intelligence is defined as a set of ...</td>\n",
       "      <td>1979</td>\n",
       "      <td>Psychological Gender and Emotional Intelligenc...</td>\n",
       "      <td>26673062</td>\n",
       "      <td>Rutkowska K, Bergier J</td>\n",
       "      <td>Many sports (for instance soccer) are stereoty...</td>\n",
       "      <td>2015/12/18</td>\n",
       "    </tr>\n",
       "    <tr>\n",
       "      <th>18</th>\n",
       "      <td>What tools were used in the research on female...</td>\n",
       "      <td>The Gender Assessment Inventory (IPP) and the ...</td>\n",
       "      <td>691</td>\n",
       "      <td>Psychological Gender and Emotional Intelligenc...</td>\n",
       "      <td>26673062</td>\n",
       "      <td>Rutkowska K, Bergier J</td>\n",
       "      <td>Many sports (for instance soccer) are stereoty...</td>\n",
       "      <td>2015/12/18</td>\n",
       "    </tr>\n",
       "    <tr>\n",
       "      <th>19</th>\n",
       "      <td>How does the level of emotional intelligence i...</td>\n",
       "      <td>The level of emotional intelligence in female ...</td>\n",
       "      <td>1364</td>\n",
       "      <td>Psychological Gender and Emotional Intelligenc...</td>\n",
       "      <td>26673062</td>\n",
       "      <td>Rutkowska K, Bergier J</td>\n",
       "      <td>Many sports (for instance soccer) are stereoty...</td>\n",
       "      <td>2015/12/18</td>\n",
       "    </tr>\n",
       "  </tbody>\n",
       "</table>\n",
       "</div>"
      ],
      "text/plain": [
       "                                             question  \\\n",
       "0   What is the purpose of the prospective study m...   \n",
       "1   How many children with BECTS were enrolled in ...   \n",
       "2   What neuropsychological domains showed signifi...   \n",
       "3   What implications are drawn from the results r...   \n",
       "4   What is the London Child Health and Developmen...   \n",
       "5   What is the purpose of the London Child Health...   \n",
       "6   What does the London Child Health and Developm...   \n",
       "7   What are the findings of the London Child Heal...   \n",
       "8   What is the core hypothesis in developmental t...   \n",
       "9   What did the meta-analysis by Tucker-Drob and ...   \n",
       "10  Where were the clear Gene x SES effects found ...   \n",
       "11  In which regions were the Gene x SES effects z...   \n",
       "12  Who authored the article on multifactorial det...   \n",
       "13  What was considered to be a principal determin...   \n",
       "14  According to recent studies, what type of stre...   \n",
       "15  Aside from thyroid function, what are some add...   \n",
       "16  What is the significance of studying psycholog...   \n",
       "17         What is emotional intelligence defined as?   \n",
       "18  What tools were used in the research on female...   \n",
       "19  How does the level of emotional intelligence i...   \n",
       "\n",
       "                                               answer  \\\n",
       "0   To define the very early neuropsychological pr...   \n",
       "1            Fifteen school-aged children with BECTS.   \n",
       "2   Language, executive functions, and academic sk...   \n",
       "3   Children with new-onset BECTS may demonstrate ...   \n",
       "4   The London Child Health and Development Study ...   \n",
       "5   The purpose of the London Child Health and Dev...   \n",
       "6   The London Child Health and Development Study ...   \n",
       "7   The findings of the London Child Health and De...   \n",
       "8   genetic influences on intelligence and academi...   \n",
       "9   Gene x SES interaction on intelligence and aca...   \n",
       "10                                       U.S. studies   \n",
       "11                       Western Europe and Australia   \n",
       "12                             Moncayo R and Ortner K   \n",
       "13                                  Iodine deficiency   \n",
       "14                                   Pre-natal stress   \n",
       "15  Nutrition, infection, prenatal stress, and ear...   \n",
       "16  Psychological gender and emotional intelligenc...   \n",
       "17  Emotional intelligence is defined as a set of ...   \n",
       "18  The Gender Assessment Inventory (IPP) and the ...   \n",
       "19  The level of emotional intelligence in female ...   \n",
       "\n",
       "                                          start_point  \\\n",
       "0                                                 259   \n",
       "1                                                 438   \n",
       "2                                                1041   \n",
       "3                                                2288   \n",
       "4                                                 139   \n",
       "5                                                 325   \n",
       "6                                                 621   \n",
       "7                                                 900   \n",
       "8                                                 276   \n",
       "9                                                 287   \n",
       "10                                                713   \n",
       "11                                                982   \n",
       "12  BACKGROUND: Since the 1960s hypothyroidism tog...   \n",
       "13  BACKGROUND: Since the 1960s hypothyroidism tog...   \n",
       "14  SCOPE OF REVIEW: We will examine the character...   \n",
       "15  MAJOR CONCLUSIONS: Recent studies have failed ...   \n",
       "16                                                497   \n",
       "17                                               1979   \n",
       "18                                                691   \n",
       "19                                               1364   \n",
       "\n",
       "                                        article_title      PMID  \\\n",
       "0   Neuropsychological profile in new-onset benign...  26667848   \n",
       "1   Neuropsychological profile in new-onset benign...  26667848   \n",
       "2   Neuropsychological profile in new-onset benign...  26667848   \n",
       "3   Neuropsychological profile in new-onset benign...  26667848   \n",
       "4   Toward earlier identification and preventative...  26670311   \n",
       "5   Toward earlier identification and preventative...  26670311   \n",
       "6   Toward earlier identification and preventative...  26670311   \n",
       "7   Toward earlier identification and preventative...  26670311   \n",
       "8   Large Cross-National Differences in Gene x Soc...  26671911   \n",
       "9   Large Cross-National Differences in Gene x Soc...  26671911   \n",
       "10  Large Cross-National Differences in Gene x Soc...  26671911   \n",
       "11  Large Cross-National Differences in Gene x Soc...  26671911   \n",
       "12  Multifactorial determinants of cognition - Thy...  26672993   \n",
       "13  Multifactorial determinants of cognition - Thy...  26672993   \n",
       "14  Multifactorial determinants of cognition - Thy...  26672993   \n",
       "15  Multifactorial determinants of cognition - Thy...  26672993   \n",
       "16  Psychological Gender and Emotional Intelligenc...  26673062   \n",
       "17  Psychological Gender and Emotional Intelligenc...  26673062   \n",
       "18  Psychological Gender and Emotional Intelligenc...  26673062   \n",
       "19  Psychological Gender and Emotional Intelligenc...  26673062   \n",
       "\n",
       "                                               author  \\\n",
       "0   Filippini M, Ardu E, Stefanelli S, Boni A, Gob...   \n",
       "1   Filippini M, Ardu E, Stefanelli S, Boni A, Gob...   \n",
       "2   Filippini M, Ardu E, Stefanelli S, Boni A, Gob...   \n",
       "3   Filippini M, Ardu E, Stefanelli S, Boni A, Gob...   \n",
       "4                               Laurens KR, Cullen AE   \n",
       "5                               Laurens KR, Cullen AE   \n",
       "6                               Laurens KR, Cullen AE   \n",
       "7                               Laurens KR, Cullen AE   \n",
       "8                            Tucker-Drob EM, Bates TC   \n",
       "9                            Tucker-Drob EM, Bates TC   \n",
       "10                           Tucker-Drob EM, Bates TC   \n",
       "11                           Tucker-Drob EM, Bates TC   \n",
       "12                                Moncayo R, Ortner K   \n",
       "13                                Moncayo R, Ortner K   \n",
       "14                                Moncayo R, Ortner K   \n",
       "15                                Moncayo R, Ortner K   \n",
       "16                             Rutkowska K, Bergier J   \n",
       "17                             Rutkowska K, Bergier J   \n",
       "18                             Rutkowska K, Bergier J   \n",
       "19                             Rutkowska K, Bergier J   \n",
       "\n",
       "                                              context article_date  \n",
       "0   PURPOSE: Increased evidence of subnormal neuro...   2015/12/16  \n",
       "1   PURPOSE: Increased evidence of subnormal neuro...   2015/12/16  \n",
       "2   PURPOSE: Increased evidence of subnormal neuro...   2015/12/16  \n",
       "3   PURPOSE: Increased evidence of subnormal neuro...   2015/12/16  \n",
       "4   PURPOSE: The London Child Health and Developme...   2015/12/17  \n",
       "5   PURPOSE: The London Child Health and Developme...   2015/12/17  \n",
       "6   PURPOSE: The London Child Health and Developme...   2015/12/17  \n",
       "7   PURPOSE: The London Child Health and Developme...   2015/12/17  \n",
       "8   A core hypothesis in developmental theory pred...   2015/12/17  \n",
       "9   A core hypothesis in developmental theory pred...   2015/12/17  \n",
       "10  A core hypothesis in developmental theory pred...   2015/12/17  \n",
       "11  A core hypothesis in developmental theory pred...   2015/12/17  \n",
       "12  BACKGROUND: Since the 1960s hypothyroidism tog...   2015/12/18  \n",
       "13  BACKGROUND: Since the 1960s hypothyroidism tog...   2015/12/18  \n",
       "14  BACKGROUND: Since the 1960s hypothyroidism tog...   2015/12/18  \n",
       "15  BACKGROUND: Since the 1960s hypothyroidism tog...   2015/12/18  \n",
       "16  Many sports (for instance soccer) are stereoty...   2015/12/18  \n",
       "17  Many sports (for instance soccer) are stereoty...   2015/12/18  \n",
       "18  Many sports (for instance soccer) are stereoty...   2015/12/18  \n",
       "19  Many sports (for instance soccer) are stereoty...   2015/12/18  "
      ]
     },
     "execution_count": 4,
     "metadata": {},
     "output_type": "execute_result"
    }
   ],
   "source": [
    "df_c"
   ]
  },
  {
   "cell_type": "code",
   "execution_count": 5,
   "metadata": {},
   "outputs": [],
   "source": [
    "pd.options.mode.copy_on_write = True"
   ]
  },
  {
   "cell_type": "code",
   "execution_count": 6,
   "metadata": {},
   "outputs": [
    {
     "name": "stderr",
     "output_type": "stream",
     "text": [
      "C:\\Users\\Choi\\AppData\\Local\\Temp\\ipykernel_32648\\3762812901.py:27: FutureWarning: Setting an item of incompatible dtype is deprecated and will raise in a future error of pandas. Value '0' has dtype incompatible with float64, please explicitly cast to a compatible dtype first.\n",
      "  df_latest.at[i, 'id']= str(int(i))\n"
     ]
    }
   ],
   "source": [
    "from copy import deepcopy\n",
    "df_latest = deepcopy(df_c)\n",
    "\n",
    "col_name=df_latest.columns.tolist() \n",
    "col_name.insert(0, 'id')\n",
    "\n",
    "df_latest = df_latest.reindex(columns=col_name)  \n",
    "\n",
    "for i in range(len(df_c['answer'])):\n",
    "    new_context = f\"{df_c['article_title'][i]}\\n{df_c['author'][i]}\\n{df_c['context'][i]}\\n{df_c['article_date'][i]}\\n{df_c['PMID'][i]}\"\n",
    "    if not df_c['start_point'][i].isnumeric():\n",
    "        start_point = new_context.index(' '.join(df_c['start_point'][i].split()[0:2]))\n",
    "        df_latest.replace({\"start_point\": {\n",
    "                df_c['start_point'][i]: str([start_point])\n",
    "            }}, inplace=True)\n",
    "        temp_answer = {'text': [df_c['answer'][i]], 'answer_start': [start_point]}\n",
    "    else:\n",
    "        temp_answer = {'text': [df_c['answer'][i]], 'answer_start': [df_c['start_point'][i]]}\n",
    "    df_latest.replace({\"answer\": {\n",
    "                df_c['answer'][i]: str(temp_answer)\n",
    "            }}, inplace=True)\n",
    "\n",
    "    df_latest.replace({\"context\": {\n",
    "                df_c['context'][i]: new_context\n",
    "            }}, inplace=True)\n",
    "    \n",
    "    df_latest.at[i, 'id']= str(int(i))"
   ]
  },
  {
   "cell_type": "code",
   "execution_count": 7,
   "metadata": {},
   "outputs": [
    {
     "data": {
      "text/html": [
       "<div>\n",
       "<style scoped>\n",
       "    .dataframe tbody tr th:only-of-type {\n",
       "        vertical-align: middle;\n",
       "    }\n",
       "\n",
       "    .dataframe tbody tr th {\n",
       "        vertical-align: top;\n",
       "    }\n",
       "\n",
       "    .dataframe thead th {\n",
       "        text-align: right;\n",
       "    }\n",
       "</style>\n",
       "<table border=\"1\" class=\"dataframe\">\n",
       "  <thead>\n",
       "    <tr style=\"text-align: right;\">\n",
       "      <th></th>\n",
       "      <th>id</th>\n",
       "      <th>question</th>\n",
       "      <th>answer</th>\n",
       "      <th>start_point</th>\n",
       "      <th>article_title</th>\n",
       "      <th>PMID</th>\n",
       "      <th>author</th>\n",
       "      <th>context</th>\n",
       "      <th>article_date</th>\n",
       "    </tr>\n",
       "  </thead>\n",
       "  <tbody>\n",
       "    <tr>\n",
       "      <th>0</th>\n",
       "      <td>0</td>\n",
       "      <td>What is the purpose of the prospective study m...</td>\n",
       "      <td>{'text': ['To define the very early neuropsych...</td>\n",
       "      <td>259</td>\n",
       "      <td>Neuropsychological profile in new-onset benign...</td>\n",
       "      <td>26667848</td>\n",
       "      <td>Filippini M, Ardu E, Stefanelli S, Boni A, Gob...</td>\n",
       "      <td>Neuropsychological profile in new-onset benign...</td>\n",
       "      <td>2015/12/16</td>\n",
       "    </tr>\n",
       "    <tr>\n",
       "      <th>1</th>\n",
       "      <td>1</td>\n",
       "      <td>How many children with BECTS were enrolled in ...</td>\n",
       "      <td>{'text': ['Fifteen school-aged children with B...</td>\n",
       "      <td>438</td>\n",
       "      <td>Neuropsychological profile in new-onset benign...</td>\n",
       "      <td>26667848</td>\n",
       "      <td>Filippini M, Ardu E, Stefanelli S, Boni A, Gob...</td>\n",
       "      <td>Neuropsychological profile in new-onset benign...</td>\n",
       "      <td>2015/12/16</td>\n",
       "    </tr>\n",
       "    <tr>\n",
       "      <th>2</th>\n",
       "      <td>2</td>\n",
       "      <td>What neuropsychological domains showed signifi...</td>\n",
       "      <td>{'text': ['Language, executive functions, and ...</td>\n",
       "      <td>1041</td>\n",
       "      <td>Neuropsychological profile in new-onset benign...</td>\n",
       "      <td>26667848</td>\n",
       "      <td>Filippini M, Ardu E, Stefanelli S, Boni A, Gob...</td>\n",
       "      <td>Neuropsychological profile in new-onset benign...</td>\n",
       "      <td>2015/12/16</td>\n",
       "    </tr>\n",
       "    <tr>\n",
       "      <th>3</th>\n",
       "      <td>3</td>\n",
       "      <td>What implications are drawn from the results r...</td>\n",
       "      <td>{'text': ['Children with new-onset BECTS may d...</td>\n",
       "      <td>2288</td>\n",
       "      <td>Neuropsychological profile in new-onset benign...</td>\n",
       "      <td>26667848</td>\n",
       "      <td>Filippini M, Ardu E, Stefanelli S, Boni A, Gob...</td>\n",
       "      <td>Neuropsychological profile in new-onset benign...</td>\n",
       "      <td>2015/12/16</td>\n",
       "    </tr>\n",
       "    <tr>\n",
       "      <th>4</th>\n",
       "      <td>4</td>\n",
       "      <td>What is the London Child Health and Developmen...</td>\n",
       "      <td>{'text': ['The London Child Health and Develop...</td>\n",
       "      <td>139</td>\n",
       "      <td>Toward earlier identification and preventative...</td>\n",
       "      <td>26670311</td>\n",
       "      <td>Laurens KR, Cullen AE</td>\n",
       "      <td>Toward earlier identification and preventative...</td>\n",
       "      <td>2015/12/17</td>\n",
       "    </tr>\n",
       "    <tr>\n",
       "      <th>5</th>\n",
       "      <td>5</td>\n",
       "      <td>What is the purpose of the London Child Health...</td>\n",
       "      <td>{'text': ['The purpose of the London Child Hea...</td>\n",
       "      <td>325</td>\n",
       "      <td>Toward earlier identification and preventative...</td>\n",
       "      <td>26670311</td>\n",
       "      <td>Laurens KR, Cullen AE</td>\n",
       "      <td>Toward earlier identification and preventative...</td>\n",
       "      <td>2015/12/17</td>\n",
       "    </tr>\n",
       "    <tr>\n",
       "      <th>6</th>\n",
       "      <td>6</td>\n",
       "      <td>What does the London Child Health and Developm...</td>\n",
       "      <td>{'text': ['The London Child Health and Develop...</td>\n",
       "      <td>621</td>\n",
       "      <td>Toward earlier identification and preventative...</td>\n",
       "      <td>26670311</td>\n",
       "      <td>Laurens KR, Cullen AE</td>\n",
       "      <td>Toward earlier identification and preventative...</td>\n",
       "      <td>2015/12/17</td>\n",
       "    </tr>\n",
       "    <tr>\n",
       "      <th>7</th>\n",
       "      <td>7</td>\n",
       "      <td>What are the findings of the London Child Heal...</td>\n",
       "      <td>{'text': ['The findings of the London Child He...</td>\n",
       "      <td>900</td>\n",
       "      <td>Toward earlier identification and preventative...</td>\n",
       "      <td>26670311</td>\n",
       "      <td>Laurens KR, Cullen AE</td>\n",
       "      <td>Toward earlier identification and preventative...</td>\n",
       "      <td>2015/12/17</td>\n",
       "    </tr>\n",
       "    <tr>\n",
       "      <th>8</th>\n",
       "      <td>8</td>\n",
       "      <td>What is the core hypothesis in developmental t...</td>\n",
       "      <td>{'text': ['genetic influences on intelligence ...</td>\n",
       "      <td>276</td>\n",
       "      <td>Large Cross-National Differences in Gene x Soc...</td>\n",
       "      <td>26671911</td>\n",
       "      <td>Tucker-Drob EM, Bates TC</td>\n",
       "      <td>Large Cross-National Differences in Gene x Soc...</td>\n",
       "      <td>2015/12/17</td>\n",
       "    </tr>\n",
       "    <tr>\n",
       "      <th>9</th>\n",
       "      <td>9</td>\n",
       "      <td>What did the meta-analysis by Tucker-Drob and ...</td>\n",
       "      <td>{'text': ['Gene x SES interaction on intellige...</td>\n",
       "      <td>287</td>\n",
       "      <td>Large Cross-National Differences in Gene x Soc...</td>\n",
       "      <td>26671911</td>\n",
       "      <td>Tucker-Drob EM, Bates TC</td>\n",
       "      <td>Large Cross-National Differences in Gene x Soc...</td>\n",
       "      <td>2015/12/17</td>\n",
       "    </tr>\n",
       "    <tr>\n",
       "      <th>10</th>\n",
       "      <td>10</td>\n",
       "      <td>Where were the clear Gene x SES effects found ...</td>\n",
       "      <td>{'text': ['U.S. studies'], 'answer_start': ['7...</td>\n",
       "      <td>713</td>\n",
       "      <td>Large Cross-National Differences in Gene x Soc...</td>\n",
       "      <td>26671911</td>\n",
       "      <td>Tucker-Drob EM, Bates TC</td>\n",
       "      <td>Large Cross-National Differences in Gene x Soc...</td>\n",
       "      <td>2015/12/17</td>\n",
       "    </tr>\n",
       "    <tr>\n",
       "      <th>11</th>\n",
       "      <td>11</td>\n",
       "      <td>In which regions were the Gene x SES effects z...</td>\n",
       "      <td>{'text': ['Western Europe and Australia'], 'an...</td>\n",
       "      <td>982</td>\n",
       "      <td>Large Cross-National Differences in Gene x Soc...</td>\n",
       "      <td>26671911</td>\n",
       "      <td>Tucker-Drob EM, Bates TC</td>\n",
       "      <td>Large Cross-National Differences in Gene x Soc...</td>\n",
       "      <td>2015/12/17</td>\n",
       "    </tr>\n",
       "    <tr>\n",
       "      <th>12</th>\n",
       "      <td>12</td>\n",
       "      <td>Who authored the article on multifactorial det...</td>\n",
       "      <td>{'text': ['Moncayo R and Ortner K'], 'answer_s...</td>\n",
       "      <td>[101]</td>\n",
       "      <td>Multifactorial determinants of cognition - Thy...</td>\n",
       "      <td>26672993</td>\n",
       "      <td>Moncayo R, Ortner K</td>\n",
       "      <td>Multifactorial determinants of cognition - Thy...</td>\n",
       "      <td>2015/12/18</td>\n",
       "    </tr>\n",
       "    <tr>\n",
       "      <th>13</th>\n",
       "      <td>13</td>\n",
       "      <td>What was considered to be a principal determin...</td>\n",
       "      <td>{'text': ['Iodine deficiency'], 'answer_start'...</td>\n",
       "      <td>[101]</td>\n",
       "      <td>Multifactorial determinants of cognition - Thy...</td>\n",
       "      <td>26672993</td>\n",
       "      <td>Moncayo R, Ortner K</td>\n",
       "      <td>Multifactorial determinants of cognition - Thy...</td>\n",
       "      <td>2015/12/18</td>\n",
       "    </tr>\n",
       "    <tr>\n",
       "      <th>14</th>\n",
       "      <td>14</td>\n",
       "      <td>According to recent studies, what type of stre...</td>\n",
       "      <td>{'text': ['Pre-natal stress'], 'answer_start':...</td>\n",
       "      <td>[474]</td>\n",
       "      <td>Multifactorial determinants of cognition - Thy...</td>\n",
       "      <td>26672993</td>\n",
       "      <td>Moncayo R, Ortner K</td>\n",
       "      <td>Multifactorial determinants of cognition - Thy...</td>\n",
       "      <td>2015/12/18</td>\n",
       "    </tr>\n",
       "    <tr>\n",
       "      <th>15</th>\n",
       "      <td>15</td>\n",
       "      <td>Aside from thyroid function, what are some add...</td>\n",
       "      <td>{'text': ['Nutrition, infection, prenatal stre...</td>\n",
       "      <td>[1036]</td>\n",
       "      <td>Multifactorial determinants of cognition - Thy...</td>\n",
       "      <td>26672993</td>\n",
       "      <td>Moncayo R, Ortner K</td>\n",
       "      <td>Multifactorial determinants of cognition - Thy...</td>\n",
       "      <td>2015/12/18</td>\n",
       "    </tr>\n",
       "    <tr>\n",
       "      <th>16</th>\n",
       "      <td>16</td>\n",
       "      <td>What is the significance of studying psycholog...</td>\n",
       "      <td>{'text': ['Psychological gender and emotional ...</td>\n",
       "      <td>497</td>\n",
       "      <td>Psychological Gender and Emotional Intelligenc...</td>\n",
       "      <td>26673062</td>\n",
       "      <td>Rutkowska K, Bergier J</td>\n",
       "      <td>Psychological Gender and Emotional Intelligenc...</td>\n",
       "      <td>2015/12/18</td>\n",
       "    </tr>\n",
       "    <tr>\n",
       "      <th>17</th>\n",
       "      <td>17</td>\n",
       "      <td>What is emotional intelligence defined as?</td>\n",
       "      <td>{'text': ['Emotional intelligence is defined a...</td>\n",
       "      <td>1979</td>\n",
       "      <td>Psychological Gender and Emotional Intelligenc...</td>\n",
       "      <td>26673062</td>\n",
       "      <td>Rutkowska K, Bergier J</td>\n",
       "      <td>Psychological Gender and Emotional Intelligenc...</td>\n",
       "      <td>2015/12/18</td>\n",
       "    </tr>\n",
       "    <tr>\n",
       "      <th>18</th>\n",
       "      <td>18</td>\n",
       "      <td>What tools were used in the research on female...</td>\n",
       "      <td>{'text': ['The Gender Assessment Inventory (IP...</td>\n",
       "      <td>691</td>\n",
       "      <td>Psychological Gender and Emotional Intelligenc...</td>\n",
       "      <td>26673062</td>\n",
       "      <td>Rutkowska K, Bergier J</td>\n",
       "      <td>Psychological Gender and Emotional Intelligenc...</td>\n",
       "      <td>2015/12/18</td>\n",
       "    </tr>\n",
       "    <tr>\n",
       "      <th>19</th>\n",
       "      <td>19</td>\n",
       "      <td>How does the level of emotional intelligence i...</td>\n",
       "      <td>{'text': ['The level of emotional intelligence...</td>\n",
       "      <td>1364</td>\n",
       "      <td>Psychological Gender and Emotional Intelligenc...</td>\n",
       "      <td>26673062</td>\n",
       "      <td>Rutkowska K, Bergier J</td>\n",
       "      <td>Psychological Gender and Emotional Intelligenc...</td>\n",
       "      <td>2015/12/18</td>\n",
       "    </tr>\n",
       "  </tbody>\n",
       "</table>\n",
       "</div>"
      ],
      "text/plain": [
       "    id                                           question  \\\n",
       "0    0  What is the purpose of the prospective study m...   \n",
       "1    1  How many children with BECTS were enrolled in ...   \n",
       "2    2  What neuropsychological domains showed signifi...   \n",
       "3    3  What implications are drawn from the results r...   \n",
       "4    4  What is the London Child Health and Developmen...   \n",
       "5    5  What is the purpose of the London Child Health...   \n",
       "6    6  What does the London Child Health and Developm...   \n",
       "7    7  What are the findings of the London Child Heal...   \n",
       "8    8  What is the core hypothesis in developmental t...   \n",
       "9    9  What did the meta-analysis by Tucker-Drob and ...   \n",
       "10  10  Where were the clear Gene x SES effects found ...   \n",
       "11  11  In which regions were the Gene x SES effects z...   \n",
       "12  12  Who authored the article on multifactorial det...   \n",
       "13  13  What was considered to be a principal determin...   \n",
       "14  14  According to recent studies, what type of stre...   \n",
       "15  15  Aside from thyroid function, what are some add...   \n",
       "16  16  What is the significance of studying psycholog...   \n",
       "17  17         What is emotional intelligence defined as?   \n",
       "18  18  What tools were used in the research on female...   \n",
       "19  19  How does the level of emotional intelligence i...   \n",
       "\n",
       "                                               answer start_point  \\\n",
       "0   {'text': ['To define the very early neuropsych...         259   \n",
       "1   {'text': ['Fifteen school-aged children with B...         438   \n",
       "2   {'text': ['Language, executive functions, and ...        1041   \n",
       "3   {'text': ['Children with new-onset BECTS may d...        2288   \n",
       "4   {'text': ['The London Child Health and Develop...         139   \n",
       "5   {'text': ['The purpose of the London Child Hea...         325   \n",
       "6   {'text': ['The London Child Health and Develop...         621   \n",
       "7   {'text': ['The findings of the London Child He...         900   \n",
       "8   {'text': ['genetic influences on intelligence ...         276   \n",
       "9   {'text': ['Gene x SES interaction on intellige...         287   \n",
       "10  {'text': ['U.S. studies'], 'answer_start': ['7...         713   \n",
       "11  {'text': ['Western Europe and Australia'], 'an...         982   \n",
       "12  {'text': ['Moncayo R and Ortner K'], 'answer_s...       [101]   \n",
       "13  {'text': ['Iodine deficiency'], 'answer_start'...       [101]   \n",
       "14  {'text': ['Pre-natal stress'], 'answer_start':...       [474]   \n",
       "15  {'text': ['Nutrition, infection, prenatal stre...      [1036]   \n",
       "16  {'text': ['Psychological gender and emotional ...         497   \n",
       "17  {'text': ['Emotional intelligence is defined a...        1979   \n",
       "18  {'text': ['The Gender Assessment Inventory (IP...         691   \n",
       "19  {'text': ['The level of emotional intelligence...        1364   \n",
       "\n",
       "                                        article_title      PMID  \\\n",
       "0   Neuropsychological profile in new-onset benign...  26667848   \n",
       "1   Neuropsychological profile in new-onset benign...  26667848   \n",
       "2   Neuropsychological profile in new-onset benign...  26667848   \n",
       "3   Neuropsychological profile in new-onset benign...  26667848   \n",
       "4   Toward earlier identification and preventative...  26670311   \n",
       "5   Toward earlier identification and preventative...  26670311   \n",
       "6   Toward earlier identification and preventative...  26670311   \n",
       "7   Toward earlier identification and preventative...  26670311   \n",
       "8   Large Cross-National Differences in Gene x Soc...  26671911   \n",
       "9   Large Cross-National Differences in Gene x Soc...  26671911   \n",
       "10  Large Cross-National Differences in Gene x Soc...  26671911   \n",
       "11  Large Cross-National Differences in Gene x Soc...  26671911   \n",
       "12  Multifactorial determinants of cognition - Thy...  26672993   \n",
       "13  Multifactorial determinants of cognition - Thy...  26672993   \n",
       "14  Multifactorial determinants of cognition - Thy...  26672993   \n",
       "15  Multifactorial determinants of cognition - Thy...  26672993   \n",
       "16  Psychological Gender and Emotional Intelligenc...  26673062   \n",
       "17  Psychological Gender and Emotional Intelligenc...  26673062   \n",
       "18  Psychological Gender and Emotional Intelligenc...  26673062   \n",
       "19  Psychological Gender and Emotional Intelligenc...  26673062   \n",
       "\n",
       "                                               author  \\\n",
       "0   Filippini M, Ardu E, Stefanelli S, Boni A, Gob...   \n",
       "1   Filippini M, Ardu E, Stefanelli S, Boni A, Gob...   \n",
       "2   Filippini M, Ardu E, Stefanelli S, Boni A, Gob...   \n",
       "3   Filippini M, Ardu E, Stefanelli S, Boni A, Gob...   \n",
       "4                               Laurens KR, Cullen AE   \n",
       "5                               Laurens KR, Cullen AE   \n",
       "6                               Laurens KR, Cullen AE   \n",
       "7                               Laurens KR, Cullen AE   \n",
       "8                            Tucker-Drob EM, Bates TC   \n",
       "9                            Tucker-Drob EM, Bates TC   \n",
       "10                           Tucker-Drob EM, Bates TC   \n",
       "11                           Tucker-Drob EM, Bates TC   \n",
       "12                                Moncayo R, Ortner K   \n",
       "13                                Moncayo R, Ortner K   \n",
       "14                                Moncayo R, Ortner K   \n",
       "15                                Moncayo R, Ortner K   \n",
       "16                             Rutkowska K, Bergier J   \n",
       "17                             Rutkowska K, Bergier J   \n",
       "18                             Rutkowska K, Bergier J   \n",
       "19                             Rutkowska K, Bergier J   \n",
       "\n",
       "                                              context article_date  \n",
       "0   Neuropsychological profile in new-onset benign...   2015/12/16  \n",
       "1   Neuropsychological profile in new-onset benign...   2015/12/16  \n",
       "2   Neuropsychological profile in new-onset benign...   2015/12/16  \n",
       "3   Neuropsychological profile in new-onset benign...   2015/12/16  \n",
       "4   Toward earlier identification and preventative...   2015/12/17  \n",
       "5   Toward earlier identification and preventative...   2015/12/17  \n",
       "6   Toward earlier identification and preventative...   2015/12/17  \n",
       "7   Toward earlier identification and preventative...   2015/12/17  \n",
       "8   Large Cross-National Differences in Gene x Soc...   2015/12/17  \n",
       "9   Large Cross-National Differences in Gene x Soc...   2015/12/17  \n",
       "10  Large Cross-National Differences in Gene x Soc...   2015/12/17  \n",
       "11  Large Cross-National Differences in Gene x Soc...   2015/12/17  \n",
       "12  Multifactorial determinants of cognition - Thy...   2015/12/18  \n",
       "13  Multifactorial determinants of cognition - Thy...   2015/12/18  \n",
       "14  Multifactorial determinants of cognition - Thy...   2015/12/18  \n",
       "15  Multifactorial determinants of cognition - Thy...   2015/12/18  \n",
       "16  Psychological Gender and Emotional Intelligenc...   2015/12/18  \n",
       "17  Psychological Gender and Emotional Intelligenc...   2015/12/18  \n",
       "18  Psychological Gender and Emotional Intelligenc...   2015/12/18  \n",
       "19  Psychological Gender and Emotional Intelligenc...   2015/12/18  "
      ]
     },
     "execution_count": 7,
     "metadata": {},
     "output_type": "execute_result"
    }
   ],
   "source": [
    "df_latest"
   ]
  },
  {
   "cell_type": "code",
   "execution_count": 8,
   "metadata": {},
   "outputs": [],
   "source": [
    "# from datasets import DatasetDict\n",
    "# dataset = DatasetDict.from_csv(\n",
    "#         path_or_paths{'train': '../testing_QA/reformatting_testing_qa.csv'},\n",
    "#         features: Optional[Features] = None,\n",
    "#         cache_dir: str = None,\n",
    "#         keep_in_memory: bool = False,\n",
    "#         **kwargs,\n",
    "#     )\n",
    "# or we can do\n",
    "# load_dataset(\"csv\", data_files=\"my_file.csv\")"
   ]
  },
  {
   "cell_type": "code",
   "execution_count": 9,
   "metadata": {},
   "outputs": [],
   "source": [
    "training_df = df_latest.sample(frac=0.8, axis=0, replace=False, random_state=0)"
   ]
  },
  {
   "cell_type": "code",
   "execution_count": 10,
   "metadata": {},
   "outputs": [],
   "source": [
    "testing_df = df_latest[~df_latest.index.isin(training_df.index)]"
   ]
  },
  {
   "cell_type": "code",
   "execution_count": 11,
   "metadata": {},
   "outputs": [],
   "source": [
    "# construct datasets\n",
    "training_data = Dataset.from_pandas(training_df, preserve_index=False)"
   ]
  },
  {
   "cell_type": "code",
   "execution_count": 12,
   "metadata": {},
   "outputs": [
    {
     "data": {
      "text/plain": [
       "Dataset({\n",
       "    features: ['id', 'question', 'answer', 'start_point', 'article_title', 'PMID', 'author', 'context', 'article_date'],\n",
       "    num_rows: 16\n",
       "})"
      ]
     },
     "execution_count": 12,
     "metadata": {},
     "output_type": "execute_result"
    }
   ],
   "source": [
    "training_data"
   ]
  },
  {
   "cell_type": "code",
   "execution_count": 13,
   "metadata": {},
   "outputs": [],
   "source": [
    "testing_data = Dataset.from_pandas(testing_df, preserve_index=False)"
   ]
  },
  {
   "cell_type": "code",
   "execution_count": 14,
   "metadata": {},
   "outputs": [],
   "source": [
    "dataset = DatasetDict()\n",
    "dataset['train'] = training_data\n",
    "dataset['validation'] = testing_data"
   ]
  },
  {
   "cell_type": "code",
   "execution_count": 15,
   "metadata": {},
   "outputs": [],
   "source": [
    "import numpy as np\n",
    "from transformers import AutoTokenizer\n",
    "from transformers import AutoModelForQuestionAnswering, TrainingArguments, Trainer\n",
    "from transformers import default_data_collator\n",
    "import torch\n",
    "import collections\n",
    "from tqdm.auto import tqdm\n",
    "import ast"
   ]
  },
  {
   "cell_type": "code",
   "execution_count": 16,
   "metadata": {},
   "outputs": [],
   "source": [
    "from transformers import AutoTokenizer\n",
    "    \n",
    "tokenizer = AutoTokenizer.from_pretrained(model_checkpoint)"
   ]
  },
  {
   "cell_type": "code",
   "execution_count": 17,
   "metadata": {},
   "outputs": [],
   "source": [
    "max_length = 384 # max length of input feature\n",
    "doc_stride = 128 # repeat tokens number between 2 slices"
   ]
  },
  {
   "cell_type": "code",
   "execution_count": 18,
   "metadata": {},
   "outputs": [],
   "source": [
    "import transformers\n",
    "assert isinstance(tokenizer, transformers.PreTrainedTokenizerFast)"
   ]
  },
  {
   "cell_type": "code",
   "execution_count": 19,
   "metadata": {},
   "outputs": [
    {
     "data": {
      "text/plain": [
       "{'input_ids': [101, 2054, 2003, 2115, 2171, 1029, 102], 'attention_mask': [1, 1, 1, 1, 1, 1, 1]}"
      ]
     },
     "execution_count": 19,
     "metadata": {},
     "output_type": "execute_result"
    }
   ],
   "source": [
    "tokenizer(\"What is your name?\")"
   ]
  },
  {
   "cell_type": "code",
   "execution_count": 20,
   "metadata": {},
   "outputs": [],
   "source": [
    "for i, example in enumerate(training_data):\n",
    "    if len(tokenizer(example[\"question\"], example[\"context\"])[\"input_ids\"]) > 384:\n",
    "        break\n",
    "example = training_data[i]"
   ]
  },
  {
   "cell_type": "code",
   "execution_count": 21,
   "metadata": {},
   "outputs": [
    {
     "data": {
      "text/plain": [
       "416"
      ]
     },
     "execution_count": 21,
     "metadata": {},
     "output_type": "execute_result"
    }
   ],
   "source": [
    "len(tokenizer(example[\"question\"], example[\"context\"])[\"input_ids\"])"
   ]
  },
  {
   "cell_type": "code",
   "execution_count": 22,
   "metadata": {},
   "outputs": [],
   "source": [
    "tokenized_example = tokenizer(\n",
    "    example[\"question\"], # question\n",
    "    example[\"context\"],  # abstract\n",
    "    max_length=max_length, \n",
    "    truncation=\"only_second\", # slice only in the context\n",
    "    return_overflowing_tokens=True,  # flag the slicing if exceed max length\n",
    "    return_offsets_mapping=True,\n",
    "    stride=doc_stride # slice step size\n",
    ")"
   ]
  },
  {
   "cell_type": "code",
   "execution_count": 23,
   "metadata": {},
   "outputs": [
    {
     "data": {
      "text/plain": [
       "[384, 181]"
      ]
     },
     "execution_count": 23,
     "metadata": {},
     "output_type": "execute_result"
    }
   ],
   "source": [
    "[len(x) for x in tokenized_example[\"input_ids\"]]"
   ]
  },
  {
   "cell_type": "code",
   "execution_count": 24,
   "metadata": {},
   "outputs": [
    {
     "name": "stdout",
     "output_type": "stream",
     "text": [
      "[(0, 0), (0, 4), (5, 10), (11, 15), (16, 20), (21, 23), (24, 27), (28, 36), (37, 39), (40, 46), (47, 53), (54, 61), (61, 62), (63, 76), (77, 83), (84, 87), (88, 97), (98, 110), (110, 111), (0, 0), (0, 13), (14, 20), (21, 24), (25, 34), (35, 47), (48, 50), (51, 56), (57, 63), (64, 70), (71, 78), (78, 79), (80, 82), (82, 83), (83, 86), (86, 89), (90, 91), (91, 92), (93, 97), (97, 100), (101, 102), (103, 107), (108, 114), (115, 116), (116, 119), (120, 128), (129, 135), (135, 136), (137, 140), (141, 147), (147, 154), (154, 156), (157, 166), (167, 169), (170, 171), (172, 176), (177, 185), (185, 186), (187, 191), (192, 194), (194, 195), (196, 200), (201, 204), (205, 209), (210, 215), (216, 222), (223, 225), (226, 232), (233, 244), (245, 253), (253, 254), (255, 260), (261, 264), (265, 271), (272, 274), (275, 280), (281, 289), (290, 303), (304, 316), (317, 320), (321, 324), (325, 333), (334, 336), (337, 342), (343, 348), (349, 354), (355, 365), (365, 366), (367, 384), (385, 392), (393, 397), (398, 401), (402, 408), (409, 411), (412, 417), (417, 418), (419, 428), (429, 432), (433, 446), (447, 454), (454, 455)]\n"
     ]
    }
   ],
   "source": [
    "print(tokenized_example[\"offset_mapping\"][0][:100])"
   ]
  },
  {
   "cell_type": "code",
   "execution_count": 25,
   "metadata": {},
   "outputs": [
    {
     "name": "stdout",
     "output_type": "stream",
     "text": [
      "[None, 0, 0, 0, 0, 0, 0, 0, 0, 0, 0, 0, 0, 0, 0, 0, 0, 0, 0, None, 1, 1, 1, 1, 1, 1, 1, 1, 1, 1, 1, 1, 1, 1, 1, 1, 1, 1, 1, 1, 1, 1, 1, 1, 1, 1, 1, 1, 1, 1, 1, 1, 1, 1, 1, 1, 1, 1, 1, 1, 1, 1, 1, 1, 1, 1, 1, 1, 1, 1, 1, 1, 1, 1, 1, 1, 1, 1, 1, 1, 1, 1, 1, 1, 1, 1, 1, 1, 1, 1, 1, 1, 1, 1, 1, 1, 1, 1, 1, 1, 1, 1, 1, 1, 1, 1, 1, 1, 1, 1, 1, 1, 1, 1, 1, 1, 1, 1, 1, 1, 1, 1, 1, 1, 1, 1, 1, 1, 1, 1, 1, 1, 1, 1, 1, 1, 1, 1, 1, 1, 1, 1, 1, 1, 1, 1, 1, 1, 1, 1, 1, 1, 1, 1, 1, 1, 1, 1, 1, 1, 1, 1, 1, 1, 1, 1, 1, 1, 1, 1, 1, 1, 1, 1, 1, 1, 1, 1, 1, 1, 1, 1, 1, 1, 1, 1, 1, 1, 1, 1, 1, 1, 1, 1, 1, 1, 1, 1, 1, 1, 1, 1, 1, 1, 1, 1, 1, 1, 1, 1, 1, 1, 1, 1, 1, 1, 1, 1, 1, 1, 1, 1, 1, 1, 1, 1, 1, 1, 1, 1, 1, 1, 1, 1, 1, 1, 1, 1, 1, 1, 1, 1, 1, 1, 1, 1, 1, 1, 1, 1, 1, 1, 1, 1, 1, 1, 1, 1, 1, 1, 1, 1, 1, 1, 1, 1, 1, 1, 1, 1, 1, 1, 1, 1, 1, 1, 1, 1, 1, 1, 1, 1, 1, 1, 1, 1, 1, 1, 1, 1, 1, 1, 1, 1, 1, 1, 1, 1, 1, 1, 1, 1, 1, 1, 1, 1, 1, 1, 1, 1, 1, 1, 1, 1, 1, 1, 1, 1, 1, 1, 1, 1, 1, 1, 1, 1, 1, 1, 1, 1, 1, 1, 1, 1, 1, 1, 1, 1, 1, 1, 1, 1, 1, 1, 1, 1, 1, 1, 1, 1, 1, 1, 1, 1, 1, 1, 1, 1, 1, 1, 1, 1, 1, 1, 1, 1, 1, 1, 1, 1, 1, 1, 1, 1, 1, 1, 1, 1, 1, 1, 1, 1, 1, None]\n"
     ]
    }
   ],
   "source": [
    "sequence_ids = tokenized_example.sequence_ids()\n",
    "print(sequence_ids)"
   ]
  },
  {
   "cell_type": "code",
   "execution_count": 26,
   "metadata": {},
   "outputs": [],
   "source": [
    "pad_on_right = tokenizer.padding_side == \"right\" #context on the right"
   ]
  },
  {
   "cell_type": "code",
   "execution_count": 27,
   "metadata": {},
   "outputs": [],
   "source": [
    "def prepare_train_features(examples):\n",
    "    # truncation and padding\n",
    "    tokenized_examples = tokenizer(\n",
    "        examples['question' if pad_on_right else \"context\"],\n",
    "        examples['context' if pad_on_right else \"question\"],\n",
    "        truncation=\"only_second\" if pad_on_right else \"only_first\",\n",
    "        max_length=max_length,\n",
    "        stride=doc_stride,\n",
    "        return_overflowing_tokens=True,\n",
    "        return_offsets_mapping=True,\n",
    "        padding=\"max_length\",\n",
    "    )\n",
    "\n",
    "    sample_mapping = tokenized_examples.pop(\"overflow_to_sample_mapping\")\n",
    "\n",
    "    offset_mapping = tokenized_examples.pop(\"offset_mapping\")\n",
    "\n",
    "    # tag data again\n",
    "    tokenized_examples[\"start_positions\"] = []\n",
    "    tokenized_examples[\"end_positions\"] = []\n",
    "\n",
    "    for i, offsets in enumerate(offset_mapping):\n",
    "        # each slice processing\n",
    "        # no answer sample tagged to CLS\n",
    "        input_ids = tokenized_examples[\"input_ids\"][i]\n",
    "        cls_index = input_ids.index(tokenizer.cls_token_id)\n",
    "\n",
    "        # distinguish question and context\n",
    "        sequence_ids = tokenized_examples.sequence_ids(i)\n",
    "\n",
    "        # original example index\n",
    "        sample_index = sample_mapping[i]\n",
    "        answers = examples[\"answer\"][sample_index]\n",
    "        # no answer, CLS location as answer\n",
    "        if type(answers)==str:\n",
    "            answers = ast.literal_eval(answers)\n",
    "        if len(answers[\"answer_start\"]) == 0:\n",
    "            tokenized_examples[\"start_positions\"].append(cls_index)\n",
    "            tokenized_examples[\"end_positions\"].append(cls_index)\n",
    "        else:\n",
    "            # character level's start/end\n",
    "            start_char = int(answers[\"answer_start\"][0])\n",
    "            end_char = start_char + len(answers[\"text\"][0])\n",
    "\n",
    "            # token level's index start\n",
    "            token_start_index = 0\n",
    "            while sequence_ids[token_start_index] != (1 if pad_on_right else 0):\n",
    "                token_start_index += 1\n",
    "\n",
    "            # token level's index end\n",
    "            token_end_index = len(input_ids) - 1\n",
    "            while sequence_ids[token_end_index] != (1 if pad_on_right else 0):\n",
    "                token_end_index -= 1\n",
    "\n",
    "            # checking if exceeding length，if so, CLS index as tag\n",
    "            if not (offsets[token_start_index][0] <= start_char and offsets[token_end_index][1] >= end_char):\n",
    "                tokenized_examples[\"start_positions\"].append(cls_index)\n",
    "                tokenized_examples[\"end_positions\"].append(cls_index)\n",
    "            else:\n",
    "                # Note: we could go after the last offset if the answer is the last word (edge case)\n",
    "                while token_start_index < len(offsets) and offsets[token_start_index][0] <= start_char:\n",
    "                    token_start_index += 1\n",
    "                tokenized_examples[\"start_positions\"].append(token_start_index - 1)\n",
    "                while offsets[token_end_index][1] >= end_char:\n",
    "                    token_end_index -= 1\n",
    "                tokenized_examples[\"end_positions\"].append(token_end_index + 1)\n",
    "\n",
    "    return tokenized_examples"
   ]
  },
  {
   "cell_type": "code",
   "execution_count": 28,
   "metadata": {},
   "outputs": [],
   "source": [
    "features = prepare_train_features(training_data[:5])\n"
   ]
  },
  {
   "cell_type": "code",
   "execution_count": 29,
   "metadata": {},
   "outputs": [
    {
     "data": {
      "application/vnd.jupyter.widget-view+json": {
       "model_id": "9552cb3967e74f8b991125d785cf5e07",
       "version_major": 2,
       "version_minor": 0
      },
      "text/plain": [
       "Map:   0%|          | 0/16 [00:00<?, ? examples/s]"
      ]
     },
     "metadata": {},
     "output_type": "display_data"
    },
    {
     "data": {
      "application/vnd.jupyter.widget-view+json": {
       "model_id": "1c21bd399c33414abac9b735139cac67",
       "version_major": 2,
       "version_minor": 0
      },
      "text/plain": [
       "Map:   0%|          | 0/4 [00:00<?, ? examples/s]"
      ]
     },
     "metadata": {},
     "output_type": "display_data"
    }
   ],
   "source": [
    "tokenized_datasets = dataset.map(prepare_train_features, batched=True, remove_columns=training_data.column_names)"
   ]
  },
  {
   "cell_type": "code",
   "execution_count": 30,
   "metadata": {},
   "outputs": [
    {
     "name": "stderr",
     "output_type": "stream",
     "text": [
      "Some weights of DistilBertForQuestionAnswering were not initialized from the model checkpoint at distilbert-base-uncased and are newly initialized: ['qa_outputs.weight', 'qa_outputs.bias']\n",
      "You should probably TRAIN this model on a down-stream task to be able to use it for predictions and inference.\n"
     ]
    }
   ],
   "source": [
    "from transformers import AutoModelForQuestionAnswering, TrainingArguments, Trainer\n",
    "\n",
    "model = AutoModelForQuestionAnswering.from_pretrained(model_checkpoint)"
   ]
  },
  {
   "cell_type": "code",
   "execution_count": 31,
   "metadata": {},
   "outputs": [],
   "source": [
    "args = TrainingArguments(\n",
    "    \"transformer_qa_with_batch\",\n",
    "    evaluation_strategy = \"epoch\",\n",
    "    learning_rate=2e-5, \n",
    "    per_device_train_batch_size=batch_size,\n",
    "    per_device_eval_batch_size=batch_size,\n",
    "    num_train_epochs=3, \n",
    "    weight_decay=0.01,\n",
    ")"
   ]
  },
  {
   "cell_type": "code",
   "execution_count": 32,
   "metadata": {},
   "outputs": [],
   "source": [
    "from transformers import default_data_collator\n",
    "\n",
    "data_collator = default_data_collator"
   ]
  },
  {
   "cell_type": "code",
   "execution_count": 33,
   "metadata": {},
   "outputs": [],
   "source": [
    "pushing_args = TrainingArguments(\n",
    "    output_dir= \"transformer_qa_with_batch\",\n",
    "    evaluation_strategy = \"epoch\",\n",
    "    learning_rate=2e-5, \n",
    "    per_device_train_batch_size=batch_size,\n",
    "    per_device_eval_batch_size=batch_size,\n",
    "    num_train_epochs=3, \n",
    "    weight_decay=0.01,\n",
    "    push_to_hub= True\n",
    ")\n"
   ]
  },
  {
   "cell_type": "code",
   "execution_count": 34,
   "metadata": {},
   "outputs": [],
   "source": [
    "trainer = Trainer(\n",
    "    model,\n",
    "    pushing_args,\n",
    "    train_dataset=tokenized_datasets[\"train\"],\n",
    "    eval_dataset=tokenized_datasets[\"validation\"],\n",
    "    data_collator=data_collator,\n",
    "    tokenizer=tokenizer,\n",
    ")"
   ]
  },
  {
   "cell_type": "code",
   "execution_count": 35,
   "metadata": {},
   "outputs": [
    {
     "data": {
      "application/vnd.jupyter.widget-view+json": {
       "model_id": "5730d48fe44b4e49a36d9a6d16002699",
       "version_major": 2,
       "version_minor": 0
      },
      "text/plain": [
       "  0%|          | 0/6 [00:00<?, ?it/s]"
      ]
     },
     "metadata": {},
     "output_type": "display_data"
    },
    {
     "data": {
      "application/vnd.jupyter.widget-view+json": {
       "model_id": "2f640d8021e94bc7ba9328dee00aa0fd",
       "version_major": 2,
       "version_minor": 0
      },
      "text/plain": [
       "  0%|          | 0/1 [00:00<?, ?it/s]"
      ]
     },
     "metadata": {},
     "output_type": "display_data"
    },
    {
     "name": "stdout",
     "output_type": "stream",
     "text": [
      "{'eval_loss': 6.011537551879883, 'eval_runtime': 1.0409, 'eval_samples_per_second': 5.764, 'eval_steps_per_second': 0.961, 'epoch': 1.0}\n"
     ]
    },
    {
     "data": {
      "application/vnd.jupyter.widget-view+json": {
       "model_id": "7343aee3eb574e649bd68efc2b056270",
       "version_major": 2,
       "version_minor": 0
      },
      "text/plain": [
       "  0%|          | 0/1 [00:00<?, ?it/s]"
      ]
     },
     "metadata": {},
     "output_type": "display_data"
    },
    {
     "name": "stdout",
     "output_type": "stream",
     "text": [
      "{'eval_loss': 5.955865383148193, 'eval_runtime': 1.0268, 'eval_samples_per_second': 5.843, 'eval_steps_per_second': 0.974, 'epoch': 2.0}\n"
     ]
    },
    {
     "data": {
      "application/vnd.jupyter.widget-view+json": {
       "model_id": "4d7c2ea5d5e04151b3ca068d1adc8fc3",
       "version_major": 2,
       "version_minor": 0
      },
      "text/plain": [
       "  0%|          | 0/1 [00:00<?, ?it/s]"
      ]
     },
     "metadata": {},
     "output_type": "display_data"
    },
    {
     "name": "stdout",
     "output_type": "stream",
     "text": [
      "{'eval_loss': 5.932653903961182, 'eval_runtime': 1.0527, 'eval_samples_per_second': 5.7, 'eval_steps_per_second': 0.95, 'epoch': 3.0}\n",
      "{'train_runtime': 47.3446, 'train_samples_per_second': 1.647, 'train_steps_per_second': 0.127, 'train_loss': 5.888701756795247, 'epoch': 3.0}\n"
     ]
    },
    {
     "data": {
      "text/plain": [
       "TrainOutput(global_step=6, training_loss=5.888701756795247, metrics={'train_runtime': 47.3446, 'train_samples_per_second': 1.647, 'train_steps_per_second': 0.127, 'train_loss': 5.888701756795247, 'epoch': 3.0})"
      ]
     },
     "execution_count": 35,
     "metadata": {},
     "output_type": "execute_result"
    }
   ],
   "source": [
    "trainer.train()"
   ]
  },
  {
   "cell_type": "code",
   "execution_count": 36,
   "metadata": {},
   "outputs": [
    {
     "data": {
      "application/vnd.jupyter.widget-view+json": {
       "model_id": "307764caaf53422a818f38bd0573204b",
       "version_major": 2,
       "version_minor": 0
      },
      "text/plain": [
       "training_args.bin:   0%|          | 0.00/4.66k [00:00<?, ?B/s]"
      ]
     },
     "metadata": {},
     "output_type": "display_data"
    },
    {
     "data": {
      "application/vnd.jupyter.widget-view+json": {
       "model_id": "e14ec1b35e534bddb4c59c62a2e3ec4a",
       "version_major": 2,
       "version_minor": 0
      },
      "text/plain": [
       "Upload 2 LFS files:   0%|          | 0/2 [00:00<?, ?it/s]"
      ]
     },
     "metadata": {},
     "output_type": "display_data"
    },
    {
     "data": {
      "application/vnd.jupyter.widget-view+json": {
       "model_id": "d3440fd4f6bb4a868ee45b870b300073",
       "version_major": 2,
       "version_minor": 0
      },
      "text/plain": [
       "model.safetensors:   0%|          | 0.00/265M [00:00<?, ?B/s]"
      ]
     },
     "metadata": {},
     "output_type": "display_data"
    },
    {
     "data": {
      "text/plain": [
       "CommitInfo(commit_url='https://huggingface.co/choichoi/transformer_qa_with_batch/commit/952b870fc4b989343c890ee55cf3485618e34189', commit_message='transformer_qa_with_batch', commit_description='', oid='952b870fc4b989343c890ee55cf3485618e34189', pr_url=None, pr_revision=None, pr_num=None)"
      ]
     },
     "execution_count": 36,
     "metadata": {},
     "output_type": "execute_result"
    }
   ],
   "source": [
    "trainer.push_to_hub(\"transformer_qa_with_batch\")"
   ]
  },
  {
   "cell_type": "code",
   "execution_count": 37,
   "metadata": {},
   "outputs": [],
   "source": [
    "\n",
    "trainer.save_model(f\"transformer_qa_with_batch\")\n",
    "torch.save(model.state_dict(),f\"transformer_qa_with_batch/model.bin\")\n",
    "# trainer.save_model(\"test-qa-trained\")"
   ]
  },
  {
   "cell_type": "code",
   "execution_count": null,
   "metadata": {},
   "outputs": [],
   "source": [
    "# from transformers import AutoModelForQuestionAnswering\n",
    "# import torch\n",
    "# model_custom = AutoModelForQuestionAnswering.from_pretrained(\"transformer_qa_with_batch\")\n",
    "# model_custom.load_state_dict(torch.load(\"transformer_qa_with_batch/model.bin\"))"
   ]
  },
  {
   "cell_type": "markdown",
   "metadata": {},
   "source": [
    "## Evaluation"
   ]
  },
  {
   "cell_type": "code",
   "execution_count": 38,
   "metadata": {},
   "outputs": [
    {
     "data": {
      "text/plain": [
       "odict_keys(['loss', 'start_logits', 'end_logits'])"
      ]
     },
     "execution_count": 38,
     "metadata": {},
     "output_type": "execute_result"
    }
   ],
   "source": [
    "import torch\n",
    "\n",
    "for batch in trainer.get_eval_dataloader():\n",
    "    break\n",
    "batch = {k: v.to(trainer.args.device) for k, v in batch.items()}\n",
    "with torch.no_grad():\n",
    "    output = trainer.model(**batch)\n",
    "output.keys()\n"
   ]
  },
  {
   "cell_type": "code",
   "execution_count": 39,
   "metadata": {},
   "outputs": [
    {
     "data": {
      "text/plain": [
       "(torch.Size([6, 384]), torch.Size([6, 384]))"
      ]
     },
     "execution_count": 39,
     "metadata": {},
     "output_type": "execute_result"
    }
   ],
   "source": [
    "output.start_logits.shape, output.end_logits.shape"
   ]
  },
  {
   "cell_type": "markdown",
   "metadata": {},
   "source": [
    "## Testing Answer"
   ]
  },
  {
   "cell_type": "code",
   "execution_count": 40,
   "metadata": {},
   "outputs": [
    {
     "data": {
      "text/plain": [
       "(tensor([183, 250, 186, 256, 292, 290]),\n",
       " tensor([122, 311, 280, 317, 264, 262]))"
      ]
     },
     "execution_count": 40,
     "metadata": {},
     "output_type": "execute_result"
    }
   ],
   "source": [
    "output.start_logits.argmax(dim=-1), output.end_logits.argmax(dim=-1)"
   ]
  },
  {
   "cell_type": "code",
   "execution_count": 41,
   "metadata": {},
   "outputs": [],
   "source": [
    "n_best_size = 20"
   ]
  },
  {
   "cell_type": "code",
   "execution_count": 42,
   "metadata": {},
   "outputs": [],
   "source": [
    "def prepare_validation_features(examples):\n",
    "    # Tokenize our examples with truncation and maybe padding, but keep the overflows using a stride. This results\n",
    "    # in one example possible giving several features when a context is long, each of those features having a\n",
    "    # context that overlaps a bit the context of the previous feature.\n",
    "    tokenized_examples = tokenizer(\n",
    "        examples[\"question\" if pad_on_right else \"context\"],\n",
    "        examples[\"context\" if pad_on_right else \"question\"],\n",
    "        truncation=\"only_second\" if pad_on_right else \"only_first\",\n",
    "        max_length=max_length,\n",
    "        stride=doc_stride,\n",
    "        return_overflowing_tokens=True,\n",
    "        return_offsets_mapping=True,\n",
    "        padding=\"max_length\",\n",
    "    )\n",
    "\n",
    "    # Since one example might give us several features if it has a long context, we need a map from a feature to\n",
    "    # its corresponding example. This key gives us just that.\n",
    "    sample_mapping = tokenized_examples.pop(\"overflow_to_sample_mapping\")\n",
    "\n",
    "    # We keep the example_id that gave us this feature and we will store the offset mappings.\n",
    "    tokenized_examples[\"example_id\"] = []\n",
    "\n",
    "    for i in range(len(tokenized_examples[\"input_ids\"])):\n",
    "        # Grab the sequence corresponding to that example (to know what is the context and what is the question).\n",
    "        sequence_ids = tokenized_examples.sequence_ids(i)\n",
    "        context_index = 1 if pad_on_right else 0\n",
    "\n",
    "        # One example can give several spans, this is the index of the example containing this span of text.\n",
    "        sample_index = sample_mapping[i]\n",
    "        tokenized_examples[\"example_id\"].append(examples[\"id\"][sample_index])\n",
    "\n",
    "        # Set to None the offset_mapping that are not part of the context so it's easy to determine if a token\n",
    "        # position is part of the context or not.\n",
    "        tokenized_examples[\"offset_mapping\"][i] = [\n",
    "            (o if sequence_ids[k] == context_index else None)\n",
    "            for k, o in enumerate(tokenized_examples[\"offset_mapping\"][i])\n",
    "        ]\n",
    "\n",
    "    return tokenized_examples"
   ]
  },
  {
   "cell_type": "code",
   "execution_count": 43,
   "metadata": {},
   "outputs": [],
   "source": [
    "f_t = prepare_validation_features(testing_data[:5])"
   ]
  },
  {
   "cell_type": "code",
   "execution_count": 44,
   "metadata": {},
   "outputs": [
    {
     "data": {
      "application/vnd.jupyter.widget-view+json": {
       "model_id": "8191a531a4154212b0c37bde38294c01",
       "version_major": 2,
       "version_minor": 0
      },
      "text/plain": [
       "Map:   0%|          | 0/4 [00:00<?, ? examples/s]"
      ]
     },
     "metadata": {},
     "output_type": "display_data"
    }
   ],
   "source": [
    "validation_features = dataset[\"validation\"].map(\n",
    "    prepare_validation_features,\n",
    "    batched=True,\n",
    "    remove_columns=dataset[\"validation\"].column_names\n",
    ")"
   ]
  },
  {
   "cell_type": "code",
   "execution_count": 45,
   "metadata": {},
   "outputs": [
    {
     "data": {
      "application/vnd.jupyter.widget-view+json": {
       "model_id": "0c2eb0b7c715445e93cd8c29a1308a96",
       "version_major": 2,
       "version_minor": 0
      },
      "text/plain": [
       "  0%|          | 0/1 [00:00<?, ?it/s]"
      ]
     },
     "metadata": {},
     "output_type": "display_data"
    }
   ],
   "source": [
    "raw_predictions = trainer.predict(validation_features)"
   ]
  },
  {
   "cell_type": "code",
   "execution_count": 46,
   "metadata": {},
   "outputs": [],
   "source": [
    "validation_features.set_format(type=validation_features.format[\"type\"], columns=list(validation_features.features.keys()))"
   ]
  },
  {
   "cell_type": "code",
   "execution_count": 47,
   "metadata": {},
   "outputs": [],
   "source": [
    "max_answer_length = 30"
   ]
  },
  {
   "cell_type": "code",
   "execution_count": 48,
   "metadata": {},
   "outputs": [],
   "source": [
    "start_logits = output.start_logits[0].cpu().numpy()\n",
    "end_logits = output.end_logits[0].cpu().numpy()\n",
    "offset_mapping = validation_features[0][\"offset_mapping\"]\n",
    "# The first feature comes from the first example. For the more general case, we will need to be match the example_id to\n",
    "# an example index\n",
    "context = dataset[\"validation\"][0][\"context\"]\n",
    "\n",
    "# Gather the indices the best start/end logits:\n",
    "start_indexes = np.argsort(start_logits)[-1 : -n_best_size - 1 : -1].tolist()\n",
    "end_indexes = np.argsort(end_logits)[-1 : -n_best_size - 1 : -1].tolist()\n",
    "valid_answers = []\n",
    "for start_index in start_indexes:\n",
    "    for end_index in end_indexes:\n",
    "        # Don't consider out-of-scope answers, either because the indices are out of bounds or correspond\n",
    "        # to part of the input_ids that are not in the context.\n",
    "        if (\n",
    "            start_index >= len(offset_mapping)\n",
    "            or end_index >= len(offset_mapping)\n",
    "            or offset_mapping[start_index] is None\n",
    "            or offset_mapping[end_index] is None\n",
    "        ):\n",
    "            continue\n",
    "        # Don't consider answers with a length that is either < 0 or > max_answer_length.\n",
    "        if end_index < start_index or end_index - start_index + 1 > max_answer_length:\n",
    "            continue\n",
    "        if start_index <= end_index: # We need to refine that test to check the answer is inside the context\n",
    "            start_char = offset_mapping[start_index][0]\n",
    "            end_char = offset_mapping[end_index][1]\n",
    "            valid_answers.append(\n",
    "                {\n",
    "                    \"score\": start_logits[start_index] + end_logits[end_index],\n",
    "                    \"text\": context[start_char: end_char]\n",
    "                }\n",
    "            )\n",
    "\n",
    "valid_answers = sorted(valid_answers, key=lambda x: x[\"score\"], reverse=True)[:n_best_size]\n"
   ]
  },
  {
   "cell_type": "code",
   "execution_count": 49,
   "metadata": {},
   "outputs": [
    {
     "data": {
      "text/plain": [
       "[{'score': 1.2899544,\n",
       "  'text': 'comprehensive neuropsychological battery. The assessment'},\n",
       " {'score': 1.0906212,\n",
       "  'text': 'years) were enrolled and assessed with a comprehensive neuropsychological battery. The assessment'},\n",
       " {'score': 1.055043,\n",
       "  'text': 'years, [SD]: 2.5years) were enrolled and assessed with a comprehensive neuropsychological battery. The assessment'},\n",
       " {'score': 1.0356641, 'text': 'comprehensive neuropsychological battery. The'},\n",
       " {'score': 1.033291,\n",
       "  'text': 'comprehensive neuropsychological battery. The assessment included domain'},\n",
       " {'score': 1.0298985,\n",
       "  'text': 'tient equal or superior to 85, in order to exclude additional effects on the neuropsychological functioning. METHODS: Fifteen school'},\n",
       " {'score': 1.0171204,\n",
       "  'text': 's) were enrolled and assessed with a comprehensive neuropsychological battery. The assessment'},\n",
       " {'score': 1.0049071,\n",
       "  'text': 's, [SD]: 2.5years) were enrolled and assessed with a comprehensive neuropsychological battery. The assessment'},\n",
       " {'score': 0.9171568, 'text': 'Fifteen school-aged children with BECTS (mean'},\n",
       " {'score': 0.9154796,\n",
       "  'text': 'years, standard deviation [SD]: 2.4years) and fifteen healthy children (mean'},\n",
       " {'score': 0.9115371, 'text': 'fifteen healthy children (mean'},\n",
       " {'score': 0.9022573,\n",
       "  'text': 'spikes (BECTS), including executive functions (EF) because of their key role in learning. Additionally, we enrolled'},\n",
       " {'score': 0.8603133, 'text': 'years) and fifteen healthy children (mean'},\n",
       " {'score': 0.8363309,\n",
       "  'text': 'years) were enrolled and assessed with a comprehensive neuropsychological battery. The'},\n",
       " {'score': 0.8339578,\n",
       "  'text': 'years) were enrolled and assessed with a comprehensive neuropsychological battery. The assessment included domain'},\n",
       " {'score': 0.83132374,\n",
       "  'text': 'childhood epilepsy has been obtained, although results are still rare and controversial. With a prospective'},\n",
       " {'score': 0.8185052,\n",
       "  'text': 'childhood epilepsy has been obtained, although results are still rare and controversial. With a prospective study'},\n",
       " {'score': 0.81013113,\n",
       "  'text': 's, standard deviation [SD]: 2.4years) and fifteen healthy children (mean'},\n",
       " {'score': 0.8007526,\n",
       "  'text': 'years, [SD]: 2.5years) were enrolled and assessed with a comprehensive neuropsychological battery. The'},\n",
       " {'score': 0.78299296, 'text': 'Fifteen school'}]"
      ]
     },
     "execution_count": 49,
     "metadata": {},
     "output_type": "execute_result"
    }
   ],
   "source": [
    "valid_answers"
   ]
  },
  {
   "cell_type": "code",
   "execution_count": 50,
   "metadata": {},
   "outputs": [
    {
     "data": {
      "text/plain": [
       "'What is the purpose of the prospective study mentioned in the article?'"
      ]
     },
     "execution_count": 50,
     "metadata": {},
     "output_type": "execute_result"
    }
   ],
   "source": [
    "dataset[\"validation\"][0]['question']"
   ]
  },
  {
   "cell_type": "code",
   "execution_count": 51,
   "metadata": {},
   "outputs": [
    {
     "data": {
      "text/plain": [
       "\"{'text': ['To define the very early neuropsychological profile of children with benign epilepsy with centrotemporal spikes (BECTS), including executive functions (EF).'], 'answer_start': ['259']}\""
      ]
     },
     "execution_count": 51,
     "metadata": {},
     "output_type": "execute_result"
    }
   ],
   "source": [
    "dataset[\"validation\"][0][\"answer\"]"
   ]
  },
  {
   "cell_type": "code",
   "execution_count": null,
   "metadata": {},
   "outputs": [],
   "source": []
  }
 ],
 "metadata": {
  "kernelspec": {
   "display_name": ".venv",
   "language": "python",
   "name": "python3"
  },
  "language_info": {
   "codemirror_mode": {
    "name": "ipython",
    "version": 3
   },
   "file_extension": ".py",
   "mimetype": "text/x-python",
   "name": "python",
   "nbconvert_exporter": "python",
   "pygments_lexer": "ipython3",
   "version": "3.10.11"
  }
 },
 "nbformat": 4,
 "nbformat_minor": 2
}
