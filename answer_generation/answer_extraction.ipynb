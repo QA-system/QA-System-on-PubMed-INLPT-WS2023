{
 "cells": [
  {
   "cell_type": "code",
   "execution_count": 7,
   "metadata": {},
   "outputs": [],
   "source": [
    "\n",
    "# True: not answer all question，False: answer all questions mandatorily。\n",
    "answer_all = True\n",
    "# load Bert\n",
    "model_checkpoint = \"distilbert-base-uncased\"\n",
    "\n",
    "batch_size = 16\n"
   ]
  },
  {
   "cell_type": "code",
   "execution_count": 3,
   "metadata": {},
   "outputs": [
    {
     "data": {
      "text/plain": [
       "[{'question': 'What was the purpose of the study on new-onset benign epilepsy with centrotemporal spikes (BECTS)?',\n",
       "  'answer': 'T',\n",
       "  'article_title': 'Neuropsychological profile in new-onset benign epilepsy with centrotemporal spikes (BECTS): Focusing on executive functions.',\n",
       "  'PMID': '26667848',\n",
       "  'author': \"['Filippini M', 'Ardu E', 'Stefanelli S', 'Boni A', 'Gobbi G', 'Benso F']\",\n",
       "  'context': 'PURPOSE: Increased evidence of subnormal neuropsychological functioning in new-onset childhood epilepsy has been obtained, although results are still rare and controversial. With a prospective study, we aimed to define the very early neuropsychological profile of children with benign epilepsy with centrotemporal spikes (BECTS), including executive functions (EF) because of their key role in learning. Additionally, we enrolled drug-naive children, with a NREM sleep frequency of discharges <85% and with a Performance Intelligence Quotient equal or superior to 85, in order to exclude additional effects on the neuropsychological functioning. METHODS: Fifteen school-aged children with BECTS (mean age: 8.8years, standard deviation [SD]: 2.4years) and fifteen healthy children (mean age: 9.2years, [SD]: 2.5years) were enrolled and assessed with a comprehensive neuropsychological battery. The assessment included domain-specific standardized tests of language, EF, academic skills, visuomotor and visuospatial skills, and short-term memory. A p-value<0.05 was considered significant. RESULTS: Significant differences between patients and controls emerged with respect to 3 domains. Language was affected in color naming (p=.026), spoonerism (p=.003), and phonemic synthesis (p=.009). Executive functions appeared inadequate in the five point test with respect to the number of correct figures (p=.003) and errors (p=.008). In the domain of academic skills, significant differences between groups emerged regarding the number of mistakes in nonword writing (p=.001), nonword reading speed (p=.027), nonword reading number of mistakes (p=.019), and word reading errors (p=.023). DISCUSSION: Results showed that children with new-onset BECTS may demonstrate a range of neuropsychological dysfunctions, particularly affecting executive attention, despite a normal IQ, a low frequency of NREM sleep discharges, and the absence of drugs. These difficulties indicate a frontal dysfunction with cascading effects on language and academic skills. The inclusion of EF in the assessment battery and in the intervention since the very onset is warranted in order to avoid further and persistent academic difficulties.',\n",
       "  'article_date': '2015/12/16'},\n",
       " {'question': 'How many children with BECTS and healthy children were enrolled in the study?',\n",
       "  'answer': 'F',\n",
       "  'article_title': 'Neuropsychological profile in new-onset benign epilepsy with centrotemporal spikes (BECTS): Focusing on executive functions.',\n",
       "  'PMID': '26667848',\n",
       "  'author': \"['Filippini M', 'Ardu E', 'Stefanelli S', 'Boni A', 'Gobbi G', 'Benso F']\",\n",
       "  'context': 'PURPOSE: Increased evidence of subnormal neuropsychological functioning in new-onset childhood epilepsy has been obtained, although results are still rare and controversial. With a prospective study, we aimed to define the very early neuropsychological profile of children with benign epilepsy with centrotemporal spikes (BECTS), including executive functions (EF) because of their key role in learning. Additionally, we enrolled drug-naive children, with a NREM sleep frequency of discharges <85% and with a Performance Intelligence Quotient equal or superior to 85, in order to exclude additional effects on the neuropsychological functioning. METHODS: Fifteen school-aged children with BECTS (mean age: 8.8years, standard deviation [SD]: 2.4years) and fifteen healthy children (mean age: 9.2years, [SD]: 2.5years) were enrolled and assessed with a comprehensive neuropsychological battery. The assessment included domain-specific standardized tests of language, EF, academic skills, visuomotor and visuospatial skills, and short-term memory. A p-value<0.05 was considered significant. RESULTS: Significant differences between patients and controls emerged with respect to 3 domains. Language was affected in color naming (p=.026), spoonerism (p=.003), and phonemic synthesis (p=.009). Executive functions appeared inadequate in the five point test with respect to the number of correct figures (p=.003) and errors (p=.008). In the domain of academic skills, significant differences between groups emerged regarding the number of mistakes in nonword writing (p=.001), nonword reading speed (p=.027), nonword reading number of mistakes (p=.019), and word reading errors (p=.023). DISCUSSION: Results showed that children with new-onset BECTS may demonstrate a range of neuropsychological dysfunctions, particularly affecting executive attention, despite a normal IQ, a low frequency of NREM sleep discharges, and the absence of drugs. These difficulties indicate a frontal dysfunction with cascading effects on language and academic skills. The inclusion of EF in the assessment battery and in the intervention since the very onset is warranted in order to avoid further and persistent academic difficulties.',\n",
       "  'article_date': '2015/12/16'},\n",
       " {'question': 'Which domains showed significant differences between patients with BECTS and healthy controls?',\n",
       "  'answer': 'S',\n",
       "  'article_title': 'Neuropsychological profile in new-onset benign epilepsy with centrotemporal spikes (BECTS): Focusing on executive functions.',\n",
       "  'PMID': '26667848',\n",
       "  'author': \"['Filippini M', 'Ardu E', 'Stefanelli S', 'Boni A', 'Gobbi G', 'Benso F']\",\n",
       "  'context': 'PURPOSE: Increased evidence of subnormal neuropsychological functioning in new-onset childhood epilepsy has been obtained, although results are still rare and controversial. With a prospective study, we aimed to define the very early neuropsychological profile of children with benign epilepsy with centrotemporal spikes (BECTS), including executive functions (EF) because of their key role in learning. Additionally, we enrolled drug-naive children, with a NREM sleep frequency of discharges <85% and with a Performance Intelligence Quotient equal or superior to 85, in order to exclude additional effects on the neuropsychological functioning. METHODS: Fifteen school-aged children with BECTS (mean age: 8.8years, standard deviation [SD]: 2.4years) and fifteen healthy children (mean age: 9.2years, [SD]: 2.5years) were enrolled and assessed with a comprehensive neuropsychological battery. The assessment included domain-specific standardized tests of language, EF, academic skills, visuomotor and visuospatial skills, and short-term memory. A p-value<0.05 was considered significant. RESULTS: Significant differences between patients and controls emerged with respect to 3 domains. Language was affected in color naming (p=.026), spoonerism (p=.003), and phonemic synthesis (p=.009). Executive functions appeared inadequate in the five point test with respect to the number of correct figures (p=.003) and errors (p=.008). In the domain of academic skills, significant differences between groups emerged regarding the number of mistakes in nonword writing (p=.001), nonword reading speed (p=.027), nonword reading number of mistakes (p=.019), and word reading errors (p=.023). DISCUSSION: Results showed that children with new-onset BECTS may demonstrate a range of neuropsychological dysfunctions, particularly affecting executive attention, despite a normal IQ, a low frequency of NREM sleep discharges, and the absence of drugs. These difficulties indicate a frontal dysfunction with cascading effects on language and academic skills. The inclusion of EF in the assessment battery and in the intervention since the very onset is warranted in order to avoid further and persistent academic difficulties.',\n",
       "  'article_date': '2015/12/16'},\n",
       " {'question': \"What implications did the study's results suggest for the assessment and intervention of children with new-onset BECTS?\",\n",
       "  'answer': 'T',\n",
       "  'article_title': 'Neuropsychological profile in new-onset benign epilepsy with centrotemporal spikes (BECTS): Focusing on executive functions.',\n",
       "  'PMID': '26667848',\n",
       "  'author': \"['Filippini M', 'Ardu E', 'Stefanelli S', 'Boni A', 'Gobbi G', 'Benso F']\",\n",
       "  'context': 'PURPOSE: Increased evidence of subnormal neuropsychological functioning in new-onset childhood epilepsy has been obtained, although results are still rare and controversial. With a prospective study, we aimed to define the very early neuropsychological profile of children with benign epilepsy with centrotemporal spikes (BECTS), including executive functions (EF) because of their key role in learning. Additionally, we enrolled drug-naive children, with a NREM sleep frequency of discharges <85% and with a Performance Intelligence Quotient equal or superior to 85, in order to exclude additional effects on the neuropsychological functioning. METHODS: Fifteen school-aged children with BECTS (mean age: 8.8years, standard deviation [SD]: 2.4years) and fifteen healthy children (mean age: 9.2years, [SD]: 2.5years) were enrolled and assessed with a comprehensive neuropsychological battery. The assessment included domain-specific standardized tests of language, EF, academic skills, visuomotor and visuospatial skills, and short-term memory. A p-value<0.05 was considered significant. RESULTS: Significant differences between patients and controls emerged with respect to 3 domains. Language was affected in color naming (p=.026), spoonerism (p=.003), and phonemic synthesis (p=.009). Executive functions appeared inadequate in the five point test with respect to the number of correct figures (p=.003) and errors (p=.008). In the domain of academic skills, significant differences between groups emerged regarding the number of mistakes in nonword writing (p=.001), nonword reading speed (p=.027), nonword reading number of mistakes (p=.019), and word reading errors (p=.023). DISCUSSION: Results showed that children with new-onset BECTS may demonstrate a range of neuropsychological dysfunctions, particularly affecting executive attention, despite a normal IQ, a low frequency of NREM sleep discharges, and the absence of drugs. These difficulties indicate a frontal dysfunction with cascading effects on language and academic skills. The inclusion of EF in the assessment battery and in the intervention since the very onset is warranted in order to avoid further and persistent academic difficulties.',\n",
       "  'article_date': '2015/12/16'},\n",
       " {'question': 'What is the purpose of the London Child Health and Development Study (CHADS)?',\n",
       "  'answer': 'The purpose of the London Child Health and Development Study (CHADS) is to characterise developmental trajectories of psychological, cognitive, and biological functioning in at-risk children and identify potential targets for early preventative intervention.',\n",
       "  'article_title': 'Toward earlier identification and preventative intervention in schizophrenia: evidence from the London Child Health and Development Study.',\n",
       "  'PMID': '26670311',\n",
       "  'author': \"['Laurens KR', 'Cullen AE']\",\n",
       "  'context': 'PURPOSE: The London Child Health and Development Study (CHADS) is a prospective, longitudinal investigation of children, sampled from the general community aged 9-11 years and assessed biennially, who present premorbid risk markers for schizophrenia. The study aims to characterise developmental trajectories of psychological, cognitive, and biological functioning in at-risk children and identify potential targets for early preventative intervention. This review summarises CHADS findings, discusses these in the context of recent theory regarding aetiology and prevention of schizophrenia, and highlights challenges to be addressed with future research. METHODS: We review (1) epidemiological information on the prevalence and correlates of developmental antecedents of schizophrenia in the general child population, (2) evidence of psychosocial, cognitive, and biological dysfunctions in at-risk children presenting multiple antecedents of schizophrenia and at-risk children with a family history of schizophrenia, and (3) related findings from an associated sample of help-seeking children receiving intervention. RESULTS: Community-based screening of 9-11-year olds identified ~9 % with a triad of antecedents of schizophrenia [including psychotic-like experiences (PLEs)] who are putatively at-risk of psychosis; these children reported greater exposure and responsivity to stressors, impairments in general intelligence and specific cognitive functions, brain structure and function abnormalities, and neuromotor dysfunction. Preliminary evidence suggests distressing PLEs are a viable target for cognitive-behavioural intervention in at-risk children. CONCLUSIONS: Intervention in early, premorbid phases of illness might alleviate current difficulties and avert future schizophrenia using benign treatments. The CHADS programme has identified several markers that may index early pathophysiology and constitute potential targets for preventative intervention.',\n",
       "  'article_date': '2015/12/17'},\n",
       " {'question': 'What methods were used in the review of the London Child Health and Development Study findings?',\n",
       "  'answer': 'The review of the London Child Health and Development Study findings included epidemiological information on developmental antecedents of schizophrenia, evidence of psychosocial, cognitive, and biological dysfunctions in at-risk children, and related findings from help-seeking children receiving intervention.',\n",
       "  'article_title': 'Toward earlier identification and preventative intervention in schizophrenia: evidence from the London Child Health and Development Study.',\n",
       "  'PMID': '26670311',\n",
       "  'author': \"['Laurens KR', 'Cullen AE']\",\n",
       "  'context': 'PURPOSE: The London Child Health and Development Study (CHADS) is a prospective, longitudinal investigation of children, sampled from the general community aged 9-11 years and assessed biennially, who present premorbid risk markers for schizophrenia. The study aims to characterise developmental trajectories of psychological, cognitive, and biological functioning in at-risk children and identify potential targets for early preventative intervention. This review summarises CHADS findings, discusses these in the context of recent theory regarding aetiology and prevention of schizophrenia, and highlights challenges to be addressed with future research. METHODS: We review (1) epidemiological information on the prevalence and correlates of developmental antecedents of schizophrenia in the general child population, (2) evidence of psychosocial, cognitive, and biological dysfunctions in at-risk children presenting multiple antecedents of schizophrenia and at-risk children with a family history of schizophrenia, and (3) related findings from an associated sample of help-seeking children receiving intervention. RESULTS: Community-based screening of 9-11-year olds identified ~9 % with a triad of antecedents of schizophrenia [including psychotic-like experiences (PLEs)] who are putatively at-risk of psychosis; these children reported greater exposure and responsivity to stressors, impairments in general intelligence and specific cognitive functions, brain structure and function abnormalities, and neuromotor dysfunction. Preliminary evidence suggests distressing PLEs are a viable target for cognitive-behavioural intervention in at-risk children. CONCLUSIONS: Intervention in early, premorbid phases of illness might alleviate current difficulties and avert future schizophrenia using benign treatments. The CHADS programme has identified several markers that may index early pathophysiology and constitute potential targets for preventative intervention.',\n",
       "  'article_date': '2015/12/17'},\n",
       " {'question': 'What were the results of the community-based screening of 9-11-year olds in the CHADS programme?',\n",
       "  'answer': 'Community-based screening of 9-11-year olds in the CHADS programme identified approximately 9% with a triad of antecedents of schizophrenia, including psychotic-like experiences (PLEs), who exhibited increased exposure and responsivity to stressors, impairments in intelligence and cognitive functions, brain abnormalities, and neuromotor dysfunction.',\n",
       "  'article_title': 'Toward earlier identification and preventative intervention in schizophrenia: evidence from the London Child Health and Development Study.',\n",
       "  'PMID': '26670311',\n",
       "  'author': \"['Laurens KR', 'Cullen AE']\",\n",
       "  'context': 'PURPOSE: The London Child Health and Development Study (CHADS) is a prospective, longitudinal investigation of children, sampled from the general community aged 9-11 years and assessed biennially, who present premorbid risk markers for schizophrenia. The study aims to characterise developmental trajectories of psychological, cognitive, and biological functioning in at-risk children and identify potential targets for early preventative intervention. This review summarises CHADS findings, discusses these in the context of recent theory regarding aetiology and prevention of schizophrenia, and highlights challenges to be addressed with future research. METHODS: We review (1) epidemiological information on the prevalence and correlates of developmental antecedents of schizophrenia in the general child population, (2) evidence of psychosocial, cognitive, and biological dysfunctions in at-risk children presenting multiple antecedents of schizophrenia and at-risk children with a family history of schizophrenia, and (3) related findings from an associated sample of help-seeking children receiving intervention. RESULTS: Community-based screening of 9-11-year olds identified ~9 % with a triad of antecedents of schizophrenia [including psychotic-like experiences (PLEs)] who are putatively at-risk of psychosis; these children reported greater exposure and responsivity to stressors, impairments in general intelligence and specific cognitive functions, brain structure and function abnormalities, and neuromotor dysfunction. Preliminary evidence suggests distressing PLEs are a viable target for cognitive-behavioural intervention in at-risk children. CONCLUSIONS: Intervention in early, premorbid phases of illness might alleviate current difficulties and avert future schizophrenia using benign treatments. The CHADS programme has identified several markers that may index early pathophysiology and constitute potential targets for preventative intervention.',\n",
       "  'article_date': '2015/12/17'},\n",
       " {'question': 'What are the potential benefits of early intervention in the premorbid phases of schizophrenia according to the CHADS programme?',\n",
       "  'answer': 'According to the CHADS programme, early intervention in the premorbid phases of schizophrenia may alleviate current difficulties and prevent future onset of the illness using benign treatments.',\n",
       "  'article_title': 'Toward earlier identification and preventative intervention in schizophrenia: evidence from the London Child Health and Development Study.',\n",
       "  'PMID': '26670311',\n",
       "  'author': \"['Laurens KR', 'Cullen AE']\",\n",
       "  'context': 'PURPOSE: The London Child Health and Development Study (CHADS) is a prospective, longitudinal investigation of children, sampled from the general community aged 9-11 years and assessed biennially, who present premorbid risk markers for schizophrenia. The study aims to characterise developmental trajectories of psychological, cognitive, and biological functioning in at-risk children and identify potential targets for early preventative intervention. This review summarises CHADS findings, discusses these in the context of recent theory regarding aetiology and prevention of schizophrenia, and highlights challenges to be addressed with future research. METHODS: We review (1) epidemiological information on the prevalence and correlates of developmental antecedents of schizophrenia in the general child population, (2) evidence of psychosocial, cognitive, and biological dysfunctions in at-risk children presenting multiple antecedents of schizophrenia and at-risk children with a family history of schizophrenia, and (3) related findings from an associated sample of help-seeking children receiving intervention. RESULTS: Community-based screening of 9-11-year olds identified ~9 % with a triad of antecedents of schizophrenia [including psychotic-like experiences (PLEs)] who are putatively at-risk of psychosis; these children reported greater exposure and responsivity to stressors, impairments in general intelligence and specific cognitive functions, brain structure and function abnormalities, and neuromotor dysfunction. Preliminary evidence suggests distressing PLEs are a viable target for cognitive-behavioural intervention in at-risk children. CONCLUSIONS: Intervention in early, premorbid phases of illness might alleviate current difficulties and avert future schizophrenia using benign treatments. The CHADS programme has identified several markers that may index early pathophysiology and constitute potential targets for preventative intervention.',\n",
       "  'article_date': '2015/12/17'},\n",
       " {'question': 'What is the core hypothesis in developmental theory regarding gene x childhood socioeconomic status interaction on intelligence and academic achievement?',\n",
       "  'answer': 'T',\n",
       "  'article_title': 'Large Cross-National Differences in Gene x Socioeconomic Status Interaction on Intelligence.',\n",
       "  'PMID': '26671911',\n",
       "  'author': \"['Tucker-Drob EM', 'Bates TC']\",\n",
       "  'context': 'A core hypothesis in developmental theory predicts that genetic influences on intelligence and academic achievement are suppressed under conditions of socioeconomic privation and more fully realized under conditions of socioeconomic advantage: a Gene x Childhood Socioeconomic Status (SES) interaction. Tests of this hypothesis have produced apparently inconsistent results. We performed a meta-analysis of tests of Gene x SES interaction on intelligence and academic-achievement test scores, allowing for stratification by nation (United States vs. non-United States), and we conducted rigorous tests for publication bias and between-studies heterogeneity. In U.S. studies, we found clear support for moderately sized Gene x SES effects. In studies from Western Europe and Australia, where social policies ensure more uniform access to high-quality education and health care, Gene x SES effects were zero or reversed.',\n",
       "  'article_date': '2015/12/17'},\n",
       " {'question': 'What did a meta-analysis of tests of gene x socioeconomic status interaction on intelligence and academic-achievement test scores find in U.S. studies?',\n",
       "  'answer': 'I',\n",
       "  'article_title': 'Large Cross-National Differences in Gene x Socioeconomic Status Interaction on Intelligence.',\n",
       "  'PMID': '26671911',\n",
       "  'author': \"['Tucker-Drob EM', 'Bates TC']\",\n",
       "  'context': 'A core hypothesis in developmental theory predicts that genetic influences on intelligence and academic achievement are suppressed under conditions of socioeconomic privation and more fully realized under conditions of socioeconomic advantage: a Gene x Childhood Socioeconomic Status (SES) interaction. Tests of this hypothesis have produced apparently inconsistent results. We performed a meta-analysis of tests of Gene x SES interaction on intelligence and academic-achievement test scores, allowing for stratification by nation (United States vs. non-United States), and we conducted rigorous tests for publication bias and between-studies heterogeneity. In U.S. studies, we found clear support for moderately sized Gene x SES effects. In studies from Western Europe and Australia, where social policies ensure more uniform access to high-quality education and health care, Gene x SES effects were zero or reversed.',\n",
       "  'article_date': '2015/12/17'},\n",
       " {'question': 'In what regions did Gene x SES effects show zero or reversed results, according to the study?',\n",
       "  'answer': 'G',\n",
       "  'article_title': 'Large Cross-National Differences in Gene x Socioeconomic Status Interaction on Intelligence.',\n",
       "  'PMID': '26671911',\n",
       "  'author': \"['Tucker-Drob EM', 'Bates TC']\",\n",
       "  'context': 'A core hypothesis in developmental theory predicts that genetic influences on intelligence and academic achievement are suppressed under conditions of socioeconomic privation and more fully realized under conditions of socioeconomic advantage: a Gene x Childhood Socioeconomic Status (SES) interaction. Tests of this hypothesis have produced apparently inconsistent results. We performed a meta-analysis of tests of Gene x SES interaction on intelligence and academic-achievement test scores, allowing for stratification by nation (United States vs. non-United States), and we conducted rigorous tests for publication bias and between-studies heterogeneity. In U.S. studies, we found clear support for moderately sized Gene x SES effects. In studies from Western Europe and Australia, where social policies ensure more uniform access to high-quality education and health care, Gene x SES effects were zero or reversed.',\n",
       "  'article_date': '2015/12/17'},\n",
       " {'question': 'When was the study on large cross-national differences in gene x socioeconomic status interaction on intelligence conducted?',\n",
       "  'answer': 'T',\n",
       "  'article_title': 'Large Cross-National Differences in Gene x Socioeconomic Status Interaction on Intelligence.',\n",
       "  'PMID': '26671911',\n",
       "  'author': \"['Tucker-Drob EM', 'Bates TC']\",\n",
       "  'context': 'A core hypothesis in developmental theory predicts that genetic influences on intelligence and academic achievement are suppressed under conditions of socioeconomic privation and more fully realized under conditions of socioeconomic advantage: a Gene x Childhood Socioeconomic Status (SES) interaction. Tests of this hypothesis have produced apparently inconsistent results. We performed a meta-analysis of tests of Gene x SES interaction on intelligence and academic-achievement test scores, allowing for stratification by nation (United States vs. non-United States), and we conducted rigorous tests for publication bias and between-studies heterogeneity. In U.S. studies, we found clear support for moderately sized Gene x SES effects. In studies from Western Europe and Australia, where social policies ensure more uniform access to high-quality education and health care, Gene x SES effects were zero or reversed.',\n",
       "  'article_date': '2015/12/17'},\n",
       " {'question': 'Who are the authors of the study on multifactorial determinants of cognition?',\n",
       "  'answer': 'Moncayo R',\n",
       "  'article_title': 'Multifactorial determinants of cognition - Thyroid function is not the only one.',\n",
       "  'PMID': '26672993',\n",
       "  'author': \"['Moncayo R', 'Ortner K']\",\n",
       "  'context': 'BACKGROUND: Since the 1960s hypothyroidism together with iodine deficiency have been considered to be a principal determinant of cognition development. Following iodine supplementation programs and improved treatment options for hypothyroidism this relation might not be valid in 2015. On the other hand neurosciences have added different inputs also related to cognition. SCOPE OF REVIEW: We will examine the characteristics of the original and current publications on thyroid function and cognition and also add some general determinants of intelligence and cognition. One central issue for us is the relation of stress to cognition knowing that both physical and psychological stress, are frequent elements in subjects with thyroid dysfunction. We have considered a special type of stress called pre-natal stress which can influence cognitive functions. Fear and anxiety can be intermingled requiring mechanisms of fear extinction. MAJOR CONCLUSIONS: Recent studies have failed to show an influence of thyroid medication during pregnancy on intellectual development. Neuroscience offers a better explanation of cognition than hypothyroidism and iodine deficiency. Additional factors relevant to cognition are nutrition, infection, prenatal stress, and early life stress. In turn stress is related to low magnesium levels. Magnesium supplementation can correct both latent hypothyroidism and acquired mild cognitive deficits. GENERAL SIGNIFICANCE: Cognition is a complex process that depends on many determinants and not only on thyroid function. Magnesium deficiency appears to be a basic mechanism for changes in thyroid function as well as of cognition.',\n",
       "  'article_date': '2015/12/18'},\n",
       " {'question': 'What has been considered a principal determinant of cognition development since the 1960s?',\n",
       "  'answer': 'Hypothyroidism together with iodine deficiency',\n",
       "  'article_title': 'Multifactorial determinants of cognition - Thyroid function is not the only one.',\n",
       "  'PMID': '26672993',\n",
       "  'author': \"['Moncayo R', 'Ortner K']\",\n",
       "  'context': 'BACKGROUND: Since the 1960s hypothyroidism together with iodine deficiency have been considered to be a principal determinant of cognition development. Following iodine supplementation programs and improved treatment options for hypothyroidism this relation might not be valid in 2015. On the other hand neurosciences have added different inputs also related to cognition. SCOPE OF REVIEW: We will examine the characteristics of the original and current publications on thyroid function and cognition and also add some general determinants of intelligence and cognition. One central issue for us is the relation of stress to cognition knowing that both physical and psychological stress, are frequent elements in subjects with thyroid dysfunction. We have considered a special type of stress called pre-natal stress which can influence cognitive functions. Fear and anxiety can be intermingled requiring mechanisms of fear extinction. MAJOR CONCLUSIONS: Recent studies have failed to show an influence of thyroid medication during pregnancy on intellectual development. Neuroscience offers a better explanation of cognition than hypothyroidism and iodine deficiency. Additional factors relevant to cognition are nutrition, infection, prenatal stress, and early life stress. In turn stress is related to low magnesium levels. Magnesium supplementation can correct both latent hypothyroidism and acquired mild cognitive deficits. GENERAL SIGNIFICANCE: Cognition is a complex process that depends on many determinants and not only on thyroid function. Magnesium deficiency appears to be a basic mechanism for changes in thyroid function as well as of cognition.',\n",
       "  'article_date': '2015/12/18'},\n",
       " {'question': 'What factors, in addition to thyroid function, have been found to be relevant to cognition?',\n",
       "  'answer': 'Nutrition, infection, prenatal stress, and early life stress',\n",
       "  'article_title': 'Multifactorial determinants of cognition - Thyroid function is not the only one.',\n",
       "  'PMID': '26672993',\n",
       "  'author': \"['Moncayo R', 'Ortner K']\",\n",
       "  'context': 'BACKGROUND: Since the 1960s hypothyroidism together with iodine deficiency have been considered to be a principal determinant of cognition development. Following iodine supplementation programs and improved treatment options for hypothyroidism this relation might not be valid in 2015. On the other hand neurosciences have added different inputs also related to cognition. SCOPE OF REVIEW: We will examine the characteristics of the original and current publications on thyroid function and cognition and also add some general determinants of intelligence and cognition. One central issue for us is the relation of stress to cognition knowing that both physical and psychological stress, are frequent elements in subjects with thyroid dysfunction. We have considered a special type of stress called pre-natal stress which can influence cognitive functions. Fear and anxiety can be intermingled requiring mechanisms of fear extinction. MAJOR CONCLUSIONS: Recent studies have failed to show an influence of thyroid medication during pregnancy on intellectual development. Neuroscience offers a better explanation of cognition than hypothyroidism and iodine deficiency. Additional factors relevant to cognition are nutrition, infection, prenatal stress, and early life stress. In turn stress is related to low magnesium levels. Magnesium supplementation can correct both latent hypothyroidism and acquired mild cognitive deficits. GENERAL SIGNIFICANCE: Cognition is a complex process that depends on many determinants and not only on thyroid function. Magnesium deficiency appears to be a basic mechanism for changes in thyroid function as well as of cognition.',\n",
       "  'article_date': '2015/12/18'},\n",
       " {'question': 'What is the importance of magnesium deficiency in relation to changes in thyroid function and cognition?',\n",
       "  'answer': 'Magnesium deficiency appears to be a basic mechanism for changes in thyroid function as well as of cognition',\n",
       "  'article_title': 'Multifactorial determinants of cognition - Thyroid function is not the only one.',\n",
       "  'PMID': '26672993',\n",
       "  'author': \"['Moncayo R', 'Ortner K']\",\n",
       "  'context': 'BACKGROUND: Since the 1960s hypothyroidism together with iodine deficiency have been considered to be a principal determinant of cognition development. Following iodine supplementation programs and improved treatment options for hypothyroidism this relation might not be valid in 2015. On the other hand neurosciences have added different inputs also related to cognition. SCOPE OF REVIEW: We will examine the characteristics of the original and current publications on thyroid function and cognition and also add some general determinants of intelligence and cognition. One central issue for us is the relation of stress to cognition knowing that both physical and psychological stress, are frequent elements in subjects with thyroid dysfunction. We have considered a special type of stress called pre-natal stress which can influence cognitive functions. Fear and anxiety can be intermingled requiring mechanisms of fear extinction. MAJOR CONCLUSIONS: Recent studies have failed to show an influence of thyroid medication during pregnancy on intellectual development. Neuroscience offers a better explanation of cognition than hypothyroidism and iodine deficiency. Additional factors relevant to cognition are nutrition, infection, prenatal stress, and early life stress. In turn stress is related to low magnesium levels. Magnesium supplementation can correct both latent hypothyroidism and acquired mild cognitive deficits. GENERAL SIGNIFICANCE: Cognition is a complex process that depends on many determinants and not only on thyroid function. Magnesium deficiency appears to be a basic mechanism for changes in thyroid function as well as of cognition.',\n",
       "  'article_date': '2015/12/18'},\n",
       " {'question': 'What is the significance of studying the psychological profile of female soccer players?',\n",
       "  'answer': 'Studying the psychological profile of female soccer players provides insights into the specific character of female youth sport and aids in identifying areas for improvement in athletic training programs, especially in mental training.',\n",
       "  'article_title': 'Psychological Gender and Emotional Intelligence in Youth Female Soccer Players.',\n",
       "  'PMID': '26673062',\n",
       "  'author': \"['Rutkowska K', 'Bergier J']\",\n",
       "  'context': \"Many sports (for instance soccer) are stereotypically perceived as a male activity. Even so, more and more women decide to become competitive athletes. Since the theory of sport requires comprehensive explanations and the practice of sport needs clear guidelines, interdisciplinary studies into the nature of sport, including its psychological aspects, are necessary. Analysing the psychological profile of female soccer players, particularly those who are about to become professional athletes, can provide many interesting insights into the specific character of female youth sport and show where improvements can be made in athletic training programmes (especially in mental training). It is therefore important to study psychological gender that determines social behaviours and to analyse female athletes' emotional intelligence. Emotional intelligence is defined as a set of emotional competencies that determine the effectiveness of human behaviours. Psychological gender and emotional intelligence have a significant effect on human adaptability and the efficiency of psychosocial functioning. This research was undertaken with the dual purpose of identifying the psychological gender and emotional intelligence of female soccer players. It involved 54 secondary-school girls, some of whom attended a sports class and others played on the Polish national team. The following tools were used to carry out the research: the Gender Assessment Inventory (IPP [This and the other acronyms derive from the Polish language]-developed by Kuczynska) and the Emotional Intelligence Questionnaire (INTE; created by Jaworowska and Matczak). As shown by the analysis of the results, most female soccer players in the study were androgynous and the level of their emotional intelligence was significantly higher than in other participants. This also seems to point to their significantly greater adaptability. At the same time, the level of emotional intelligence in many players was average or low, which seems insufficient and calls for adequate intervention measures to be taken.\",\n",
       "  'article_date': '2015/12/18'},\n",
       " {'question': 'How does emotional intelligence impact human adaptability and psychosocial functioning?',\n",
       "  'answer': 'Emotional intelligence plays a significant role in human adaptability and the efficiency of psychosocial functioning, influencing the effectiveness of human behaviors.',\n",
       "  'article_title': 'Psychological Gender and Emotional Intelligence in Youth Female Soccer Players.',\n",
       "  'PMID': '26673062',\n",
       "  'author': \"['Rutkowska K', 'Bergier J']\",\n",
       "  'context': \"Many sports (for instance soccer) are stereotypically perceived as a male activity. Even so, more and more women decide to become competitive athletes. Since the theory of sport requires comprehensive explanations and the practice of sport needs clear guidelines, interdisciplinary studies into the nature of sport, including its psychological aspects, are necessary. Analysing the psychological profile of female soccer players, particularly those who are about to become professional athletes, can provide many interesting insights into the specific character of female youth sport and show where improvements can be made in athletic training programmes (especially in mental training). It is therefore important to study psychological gender that determines social behaviours and to analyse female athletes' emotional intelligence. Emotional intelligence is defined as a set of emotional competencies that determine the effectiveness of human behaviours. Psychological gender and emotional intelligence have a significant effect on human adaptability and the efficiency of psychosocial functioning. This research was undertaken with the dual purpose of identifying the psychological gender and emotional intelligence of female soccer players. It involved 54 secondary-school girls, some of whom attended a sports class and others played on the Polish national team. The following tools were used to carry out the research: the Gender Assessment Inventory (IPP [This and the other acronyms derive from the Polish language]-developed by Kuczynska) and the Emotional Intelligence Questionnaire (INTE; created by Jaworowska and Matczak). As shown by the analysis of the results, most female soccer players in the study were androgynous and the level of their emotional intelligence was significantly higher than in other participants. This also seems to point to their significantly greater adaptability. At the same time, the level of emotional intelligence in many players was average or low, which seems insufficient and calls for adequate intervention measures to be taken.\",\n",
       "  'article_date': '2015/12/18'},\n",
       " {'question': 'What tools were used in the research on psychological gender and emotional intelligence in female soccer players?',\n",
       "  'answer': 'The Gender Assessment Inventory (IPP) developed by Kuczynska and the Emotional Intelligence Questionnaire (INTE) created by Jaworowska and Matczak were used in the research.',\n",
       "  'article_title': 'Psychological Gender and Emotional Intelligence in Youth Female Soccer Players.',\n",
       "  'PMID': '26673062',\n",
       "  'author': \"['Rutkowska K', 'Bergier J']\",\n",
       "  'context': \"Many sports (for instance soccer) are stereotypically perceived as a male activity. Even so, more and more women decide to become competitive athletes. Since the theory of sport requires comprehensive explanations and the practice of sport needs clear guidelines, interdisciplinary studies into the nature of sport, including its psychological aspects, are necessary. Analysing the psychological profile of female soccer players, particularly those who are about to become professional athletes, can provide many interesting insights into the specific character of female youth sport and show where improvements can be made in athletic training programmes (especially in mental training). It is therefore important to study psychological gender that determines social behaviours and to analyse female athletes' emotional intelligence. Emotional intelligence is defined as a set of emotional competencies that determine the effectiveness of human behaviours. Psychological gender and emotional intelligence have a significant effect on human adaptability and the efficiency of psychosocial functioning. This research was undertaken with the dual purpose of identifying the psychological gender and emotional intelligence of female soccer players. It involved 54 secondary-school girls, some of whom attended a sports class and others played on the Polish national team. The following tools were used to carry out the research: the Gender Assessment Inventory (IPP [This and the other acronyms derive from the Polish language]-developed by Kuczynska) and the Emotional Intelligence Questionnaire (INTE; created by Jaworowska and Matczak). As shown by the analysis of the results, most female soccer players in the study were androgynous and the level of their emotional intelligence was significantly higher than in other participants. This also seems to point to their significantly greater adaptability. At the same time, the level of emotional intelligence in many players was average or low, which seems insufficient and calls for adequate intervention measures to be taken.\",\n",
       "  'article_date': '2015/12/18'},\n",
       " {'question': 'What were the key findings regarding psychological gender and emotional intelligence in the study of female soccer players?',\n",
       "  'answer': 'Most female soccer players in the study were androgynous, indicating a balanced psychological gender, and their emotional intelligence levels were significantly higher compared to other participants. However, some players exhibited average or low levels of emotional intelligence, suggesting the need for intervention measures.',\n",
       "  'article_title': 'Psychological Gender and Emotional Intelligence in Youth Female Soccer Players.',\n",
       "  'PMID': '26673062',\n",
       "  'author': \"['Rutkowska K', 'Bergier J']\",\n",
       "  'context': \"Many sports (for instance soccer) are stereotypically perceived as a male activity. Even so, more and more women decide to become competitive athletes. Since the theory of sport requires comprehensive explanations and the practice of sport needs clear guidelines, interdisciplinary studies into the nature of sport, including its psychological aspects, are necessary. Analysing the psychological profile of female soccer players, particularly those who are about to become professional athletes, can provide many interesting insights into the specific character of female youth sport and show where improvements can be made in athletic training programmes (especially in mental training). It is therefore important to study psychological gender that determines social behaviours and to analyse female athletes' emotional intelligence. Emotional intelligence is defined as a set of emotional competencies that determine the effectiveness of human behaviours. Psychological gender and emotional intelligence have a significant effect on human adaptability and the efficiency of psychosocial functioning. This research was undertaken with the dual purpose of identifying the psychological gender and emotional intelligence of female soccer players. It involved 54 secondary-school girls, some of whom attended a sports class and others played on the Polish national team. The following tools were used to carry out the research: the Gender Assessment Inventory (IPP [This and the other acronyms derive from the Polish language]-developed by Kuczynska) and the Emotional Intelligence Questionnaire (INTE; created by Jaworowska and Matczak). As shown by the analysis of the results, most female soccer players in the study were androgynous and the level of their emotional intelligence was significantly higher than in other participants. This also seems to point to their significantly greater adaptability. At the same time, the level of emotional intelligence in many players was average or low, which seems insufficient and calls for adequate intervention measures to be taken.\",\n",
       "  'article_date': '2015/12/18'}]"
      ]
     },
     "execution_count": 3,
     "metadata": {},
     "output_type": "execute_result"
    }
   ],
   "source": [
    "# qa pairs\n",
    "import csv\n",
    "with open('../testing_QA/reformatting_testing_qa.csv','r',encoding='utf-8') as f:\n",
    "    reader = csv.DictReader(f)\n",
    "    datasets = [row for row in reader]\n",
    "\n",
    "# construct datasets\n",
    "datasets "
   ]
  },
  {
   "cell_type": "code",
   "execution_count": 14,
   "metadata": {},
   "outputs": [],
   "source": [
    "from random import sample\n",
    "\n",
    "training_data = sample(datasets, int(len(datasets)*0.8))\n",
    "testing_data = [i for i in datasets if i not in training_data]"
   ]
  },
  {
   "cell_type": "code",
   "execution_count": 19,
   "metadata": {},
   "outputs": [
    {
     "data": {
      "text/plain": [
       "[{'question': 'How many children with BECTS and healthy children were enrolled in the study?',\n",
       "  'answer': 'F',\n",
       "  'article_title': 'Neuropsychological profile in new-onset benign epilepsy with centrotemporal spikes (BECTS): Focusing on executive functions.',\n",
       "  'PMID': '26667848',\n",
       "  'author': \"['Filippini M', 'Ardu E', 'Stefanelli S', 'Boni A', 'Gobbi G', 'Benso F']\",\n",
       "  'context': 'PURPOSE: Increased evidence of subnormal neuropsychological functioning in new-onset childhood epilepsy has been obtained, although results are still rare and controversial. With a prospective study, we aimed to define the very early neuropsychological profile of children with benign epilepsy with centrotemporal spikes (BECTS), including executive functions (EF) because of their key role in learning. Additionally, we enrolled drug-naive children, with a NREM sleep frequency of discharges <85% and with a Performance Intelligence Quotient equal or superior to 85, in order to exclude additional effects on the neuropsychological functioning. METHODS: Fifteen school-aged children with BECTS (mean age: 8.8years, standard deviation [SD]: 2.4years) and fifteen healthy children (mean age: 9.2years, [SD]: 2.5years) were enrolled and assessed with a comprehensive neuropsychological battery. The assessment included domain-specific standardized tests of language, EF, academic skills, visuomotor and visuospatial skills, and short-term memory. A p-value<0.05 was considered significant. RESULTS: Significant differences between patients and controls emerged with respect to 3 domains. Language was affected in color naming (p=.026), spoonerism (p=.003), and phonemic synthesis (p=.009). Executive functions appeared inadequate in the five point test with respect to the number of correct figures (p=.003) and errors (p=.008). In the domain of academic skills, significant differences between groups emerged regarding the number of mistakes in nonword writing (p=.001), nonword reading speed (p=.027), nonword reading number of mistakes (p=.019), and word reading errors (p=.023). DISCUSSION: Results showed that children with new-onset BECTS may demonstrate a range of neuropsychological dysfunctions, particularly affecting executive attention, despite a normal IQ, a low frequency of NREM sleep discharges, and the absence of drugs. These difficulties indicate a frontal dysfunction with cascading effects on language and academic skills. The inclusion of EF in the assessment battery and in the intervention since the very onset is warranted in order to avoid further and persistent academic difficulties.',\n",
       "  'article_date': '2015/12/16'},\n",
       " {'question': 'Which domains showed significant differences between patients with BECTS and healthy controls?',\n",
       "  'answer': 'S',\n",
       "  'article_title': 'Neuropsychological profile in new-onset benign epilepsy with centrotemporal spikes (BECTS): Focusing on executive functions.',\n",
       "  'PMID': '26667848',\n",
       "  'author': \"['Filippini M', 'Ardu E', 'Stefanelli S', 'Boni A', 'Gobbi G', 'Benso F']\",\n",
       "  'context': 'PURPOSE: Increased evidence of subnormal neuropsychological functioning in new-onset childhood epilepsy has been obtained, although results are still rare and controversial. With a prospective study, we aimed to define the very early neuropsychological profile of children with benign epilepsy with centrotemporal spikes (BECTS), including executive functions (EF) because of their key role in learning. Additionally, we enrolled drug-naive children, with a NREM sleep frequency of discharges <85% and with a Performance Intelligence Quotient equal or superior to 85, in order to exclude additional effects on the neuropsychological functioning. METHODS: Fifteen school-aged children with BECTS (mean age: 8.8years, standard deviation [SD]: 2.4years) and fifteen healthy children (mean age: 9.2years, [SD]: 2.5years) were enrolled and assessed with a comprehensive neuropsychological battery. The assessment included domain-specific standardized tests of language, EF, academic skills, visuomotor and visuospatial skills, and short-term memory. A p-value<0.05 was considered significant. RESULTS: Significant differences between patients and controls emerged with respect to 3 domains. Language was affected in color naming (p=.026), spoonerism (p=.003), and phonemic synthesis (p=.009). Executive functions appeared inadequate in the five point test with respect to the number of correct figures (p=.003) and errors (p=.008). In the domain of academic skills, significant differences between groups emerged regarding the number of mistakes in nonword writing (p=.001), nonword reading speed (p=.027), nonword reading number of mistakes (p=.019), and word reading errors (p=.023). DISCUSSION: Results showed that children with new-onset BECTS may demonstrate a range of neuropsychological dysfunctions, particularly affecting executive attention, despite a normal IQ, a low frequency of NREM sleep discharges, and the absence of drugs. These difficulties indicate a frontal dysfunction with cascading effects on language and academic skills. The inclusion of EF in the assessment battery and in the intervention since the very onset is warranted in order to avoid further and persistent academic difficulties.',\n",
       "  'article_date': '2015/12/16'},\n",
       " {'question': 'What is the core hypothesis in developmental theory regarding gene x childhood socioeconomic status interaction on intelligence and academic achievement?',\n",
       "  'answer': 'T',\n",
       "  'article_title': 'Large Cross-National Differences in Gene x Socioeconomic Status Interaction on Intelligence.',\n",
       "  'PMID': '26671911',\n",
       "  'author': \"['Tucker-Drob EM', 'Bates TC']\",\n",
       "  'context': 'A core hypothesis in developmental theory predicts that genetic influences on intelligence and academic achievement are suppressed under conditions of socioeconomic privation and more fully realized under conditions of socioeconomic advantage: a Gene x Childhood Socioeconomic Status (SES) interaction. Tests of this hypothesis have produced apparently inconsistent results. We performed a meta-analysis of tests of Gene x SES interaction on intelligence and academic-achievement test scores, allowing for stratification by nation (United States vs. non-United States), and we conducted rigorous tests for publication bias and between-studies heterogeneity. In U.S. studies, we found clear support for moderately sized Gene x SES effects. In studies from Western Europe and Australia, where social policies ensure more uniform access to high-quality education and health care, Gene x SES effects were zero or reversed.',\n",
       "  'article_date': '2015/12/17'},\n",
       " {'question': 'How does emotional intelligence impact human adaptability and psychosocial functioning?',\n",
       "  'answer': 'Emotional intelligence plays a significant role in human adaptability and the efficiency of psychosocial functioning, influencing the effectiveness of human behaviors.',\n",
       "  'article_title': 'Psychological Gender and Emotional Intelligence in Youth Female Soccer Players.',\n",
       "  'PMID': '26673062',\n",
       "  'author': \"['Rutkowska K', 'Bergier J']\",\n",
       "  'context': \"Many sports (for instance soccer) are stereotypically perceived as a male activity. Even so, more and more women decide to become competitive athletes. Since the theory of sport requires comprehensive explanations and the practice of sport needs clear guidelines, interdisciplinary studies into the nature of sport, including its psychological aspects, are necessary. Analysing the psychological profile of female soccer players, particularly those who are about to become professional athletes, can provide many interesting insights into the specific character of female youth sport and show where improvements can be made in athletic training programmes (especially in mental training). It is therefore important to study psychological gender that determines social behaviours and to analyse female athletes' emotional intelligence. Emotional intelligence is defined as a set of emotional competencies that determine the effectiveness of human behaviours. Psychological gender and emotional intelligence have a significant effect on human adaptability and the efficiency of psychosocial functioning. This research was undertaken with the dual purpose of identifying the psychological gender and emotional intelligence of female soccer players. It involved 54 secondary-school girls, some of whom attended a sports class and others played on the Polish national team. The following tools were used to carry out the research: the Gender Assessment Inventory (IPP [This and the other acronyms derive from the Polish language]-developed by Kuczynska) and the Emotional Intelligence Questionnaire (INTE; created by Jaworowska and Matczak). As shown by the analysis of the results, most female soccer players in the study were androgynous and the level of their emotional intelligence was significantly higher than in other participants. This also seems to point to their significantly greater adaptability. At the same time, the level of emotional intelligence in many players was average or low, which seems insufficient and calls for adequate intervention measures to be taken.\",\n",
       "  'article_date': '2015/12/18'}]"
      ]
     },
     "execution_count": 19,
     "metadata": {},
     "output_type": "execute_result"
    }
   ],
   "source": [
    "testing_data"
   ]
  },
  {
   "cell_type": "code",
   "execution_count": 4,
   "metadata": {},
   "outputs": [
    {
     "name": "stderr",
     "output_type": "stream",
     "text": [
      "f:\\Heidelberg\\semester_5\\INLPT\\Final Project\\.venv\\lib\\site-packages\\tqdm\\auto.py:21: TqdmWarning: IProgress not found. Please update jupyter and ipywidgets. See https://ipywidgets.readthedocs.io/en/stable/user_install.html\n",
      "  from .autonotebook import tqdm as notebook_tqdm\n"
     ]
    }
   ],
   "source": [
    "import numpy as np\n",
    "from transformers import AutoTokenizer\n",
    "from transformers import AutoModelForQuestionAnswering, TrainingArguments, Trainer\n",
    "from transformers import default_data_collator\n",
    "import torch\n",
    "import collections\n",
    "from tqdm.auto import tqdm"
   ]
  },
  {
   "cell_type": "code",
   "execution_count": 8,
   "metadata": {},
   "outputs": [],
   "source": [
    "from transformers import AutoTokenizer\n",
    "    \n",
    "tokenizer = AutoTokenizer.from_pretrained(model_checkpoint)"
   ]
  },
  {
   "cell_type": "code",
   "execution_count": 9,
   "metadata": {},
   "outputs": [],
   "source": [
    "max_length = 384 # max length of input feature\n",
    "doc_stride = 128 # repeat tokens number between 2 slices"
   ]
  },
  {
   "cell_type": "code",
   "execution_count": 10,
   "metadata": {},
   "outputs": [],
   "source": [
    "import transformers\n",
    "assert isinstance(tokenizer, transformers.PreTrainedTokenizerFast)"
   ]
  },
  {
   "cell_type": "code",
   "execution_count": 11,
   "metadata": {},
   "outputs": [
    {
     "data": {
      "text/plain": [
       "{'input_ids': [101, 2054, 2003, 2115, 2171, 1029, 102], 'attention_mask': [1, 1, 1, 1, 1, 1, 1]}"
      ]
     },
     "execution_count": 11,
     "metadata": {},
     "output_type": "execute_result"
    }
   ],
   "source": [
    "tokenizer(\"What is your name?\")"
   ]
  },
  {
   "cell_type": "code",
   "execution_count": 20,
   "metadata": {},
   "outputs": [],
   "source": [
    "for i, example in enumerate(training_data):\n",
    "    if len(tokenizer(example[\"question\"], example[\"context\"])[\"input_ids\"]) > 384:\n",
    "        break\n",
    "example = training_data[i]"
   ]
  },
  {
   "cell_type": "code",
   "execution_count": 21,
   "metadata": {},
   "outputs": [
    {
     "data": {
      "text/plain": [
       "392"
      ]
     },
     "execution_count": 21,
     "metadata": {},
     "output_type": "execute_result"
    }
   ],
   "source": [
    "len(tokenizer(example[\"question\"], example[\"context\"])[\"input_ids\"])"
   ]
  },
  {
   "cell_type": "code",
   "execution_count": 25,
   "metadata": {},
   "outputs": [],
   "source": [
    "tokenized_example = tokenizer(\n",
    "    example[\"question\"], # question\n",
    "    example[\"context\"],  # abstract\n",
    "    max_length=max_length, \n",
    "    truncation=\"only_second\", # slice only in the context\n",
    "    return_overflowing_tokens=True,  # flag the slicing if exceed max length\n",
    "    return_offsets_mapping=True,\n",
    "    stride=doc_stride # slice step size\n",
    ")"
   ]
  },
  {
   "cell_type": "code",
   "execution_count": 26,
   "metadata": {},
   "outputs": [
    {
     "data": {
      "text/plain": [
       "[384, 162]"
      ]
     },
     "execution_count": 26,
     "metadata": {},
     "output_type": "execute_result"
    }
   ],
   "source": [
    "[len(x) for x in tokenized_example[\"input_ids\"]]"
   ]
  },
  {
   "cell_type": "code",
   "execution_count": 27,
   "metadata": {},
   "outputs": [
    {
     "name": "stdout",
     "output_type": "stream",
     "text": [
      "[(0, 0), (0, 4), (5, 8), (9, 12), (13, 22), (23, 31), (32, 34), (35, 40), (41, 53), (54, 56), (57, 60), (61, 65), (65, 67), (67, 70), (71, 77), (78, 80), (81, 94), (95, 104), (105, 107), (108, 111), (112, 116), (116, 117), (118, 127), (127, 128), (0, 0), (0, 7), (7, 8), (9, 12), (13, 19), (20, 25), (26, 32), (33, 36), (37, 48), (49, 54), (55, 56), (56, 60), (60, 61), (61, 62), (63, 65), (66, 67), (68, 79), (79, 80), (81, 93), (94, 107), (108, 110), (111, 119), (119, 120), (121, 128), (129, 133), (134, 137), (138, 145), (146, 155), (156, 160), (161, 162), (162, 163), (163, 165), (166, 171), (172, 175), (176, 184), (185, 193), (193, 195), (195, 196), (197, 200), (201, 208), (209, 213), (213, 215), (215, 218), (219, 223), (224, 231), (232, 235), (236, 249), (249, 250), (251, 254), (255, 260), (261, 265), (266, 268), (269, 278), (278, 281), (282, 295), (296, 298), (298, 300), (300, 303), (303, 308), (309, 311), (312, 325), (325, 326), (327, 336), (336, 337), (338, 341), (342, 352), (353, 364), (365, 367), (368, 370), (370, 371), (371, 375), (376, 384), (385, 388), (389, 397), (398, 407), (408, 415)]\n"
     ]
    }
   ],
   "source": [
    "print(tokenized_example[\"offset_mapping\"][0][:100])"
   ]
  },
  {
   "cell_type": "code",
   "execution_count": 28,
   "metadata": {},
   "outputs": [
    {
     "name": "stdout",
     "output_type": "stream",
     "text": [
      "[None, 0, 0, 0, 0, 0, 0, 0, 0, 0, 0, 0, 0, 0, 0, 0, 0, 0, 0, 0, 0, 0, 0, 0, None, 1, 1, 1, 1, 1, 1, 1, 1, 1, 1, 1, 1, 1, 1, 1, 1, 1, 1, 1, 1, 1, 1, 1, 1, 1, 1, 1, 1, 1, 1, 1, 1, 1, 1, 1, 1, 1, 1, 1, 1, 1, 1, 1, 1, 1, 1, 1, 1, 1, 1, 1, 1, 1, 1, 1, 1, 1, 1, 1, 1, 1, 1, 1, 1, 1, 1, 1, 1, 1, 1, 1, 1, 1, 1, 1, 1, 1, 1, 1, 1, 1, 1, 1, 1, 1, 1, 1, 1, 1, 1, 1, 1, 1, 1, 1, 1, 1, 1, 1, 1, 1, 1, 1, 1, 1, 1, 1, 1, 1, 1, 1, 1, 1, 1, 1, 1, 1, 1, 1, 1, 1, 1, 1, 1, 1, 1, 1, 1, 1, 1, 1, 1, 1, 1, 1, 1, 1, 1, 1, 1, 1, 1, 1, 1, 1, 1, 1, 1, 1, 1, 1, 1, 1, 1, 1, 1, 1, 1, 1, 1, 1, 1, 1, 1, 1, 1, 1, 1, 1, 1, 1, 1, 1, 1, 1, 1, 1, 1, 1, 1, 1, 1, 1, 1, 1, 1, 1, 1, 1, 1, 1, 1, 1, 1, 1, 1, 1, 1, 1, 1, 1, 1, 1, 1, 1, 1, 1, 1, 1, 1, 1, 1, 1, 1, 1, 1, 1, 1, 1, 1, 1, 1, 1, 1, 1, 1, 1, 1, 1, 1, 1, 1, 1, 1, 1, 1, 1, 1, 1, 1, 1, 1, 1, 1, 1, 1, 1, 1, 1, 1, 1, 1, 1, 1, 1, 1, 1, 1, 1, 1, 1, 1, 1, 1, 1, 1, 1, 1, 1, 1, 1, 1, 1, 1, 1, 1, 1, 1, 1, 1, 1, 1, 1, 1, 1, 1, 1, 1, 1, 1, 1, 1, 1, 1, 1, 1, 1, 1, 1, 1, 1, 1, 1, 1, 1, 1, 1, 1, 1, 1, 1, 1, 1, 1, 1, 1, 1, 1, 1, 1, 1, 1, 1, 1, 1, 1, 1, 1, 1, 1, 1, 1, 1, 1, 1, 1, 1, 1, 1, 1, 1, 1, 1, 1, 1, 1, 1, 1, 1, 1, 1, 1, 1, 1, 1, 1, 1, 1, None]\n"
     ]
    }
   ],
   "source": [
    "sequence_ids = tokenized_example.sequence_ids()\n",
    "print(sequence_ids)"
   ]
  }
 ],
 "metadata": {
  "kernelspec": {
   "display_name": ".venv",
   "language": "python",
   "name": "python3"
  },
  "language_info": {
   "codemirror_mode": {
    "name": "ipython",
    "version": 3
   },
   "file_extension": ".py",
   "mimetype": "text/x-python",
   "name": "python",
   "nbconvert_exporter": "python",
   "pygments_lexer": "ipython3",
   "version": "3.10.11"
  }
 },
 "nbformat": 4,
 "nbformat_minor": 2
}
