{
 "cells": [
  {
   "cell_type": "code",
   "execution_count": 22,
   "metadata": {},
   "outputs": [
    {
     "data": {
      "application/vnd.jupyter.widget-view+json": {
       "model_id": "65e03fec64b44e9eb097e1e06a74d39c",
       "version_major": 2,
       "version_minor": 0
      },
      "text/plain": [
       "VBox(children=(HTML(value='<center> <img\\nsrc=https://huggingface.co/front/assets/huggingface_logo-noborder.sv…"
      ]
     },
     "metadata": {},
     "output_type": "display_data"
    }
   ],
   "source": [
    "from huggingface_hub import notebook_login\n",
    "notebook_login()"
   ]
  },
  {
   "cell_type": "code",
   "execution_count": 1,
   "metadata": {},
   "outputs": [],
   "source": [
    "\n",
    "# True: not answer all question，False: answer all questions mandatorily。\n",
    "answer_all = True\n",
    "# load Bert\n",
    "model_checkpoint = \"distilbert-base-uncased\"\n",
    "\n",
    "batch_size = 16\n"
   ]
  },
  {
   "cell_type": "code",
   "execution_count": 3,
   "metadata": {},
   "outputs": [],
   "source": [
    "# qa pairs\n",
    "import pandas as pd\n",
    "from datasets import Dataset, DatasetDict\n",
    "with open('../testing_QA/reformatting_testing_qa.csv','r',encoding='utf-8') as f:\n",
    "    df_c = pd.read_csv(f)\n"
   ]
  },
  {
   "cell_type": "code",
   "execution_count": 5,
   "metadata": {},
   "outputs": [
    {
     "data": {
      "text/html": [
       "<div>\n",
       "<style scoped>\n",
       "    .dataframe tbody tr th:only-of-type {\n",
       "        vertical-align: middle;\n",
       "    }\n",
       "\n",
       "    .dataframe tbody tr th {\n",
       "        vertical-align: top;\n",
       "    }\n",
       "\n",
       "    .dataframe thead th {\n",
       "        text-align: right;\n",
       "    }\n",
       "</style>\n",
       "<table border=\"1\" class=\"dataframe\">\n",
       "  <thead>\n",
       "    <tr style=\"text-align: right;\">\n",
       "      <th></th>\n",
       "      <th>question</th>\n",
       "      <th>answer</th>\n",
       "      <th>start_point</th>\n",
       "      <th>article_title</th>\n",
       "      <th>PMID</th>\n",
       "      <th>author</th>\n",
       "      <th>context</th>\n",
       "      <th>article_date</th>\n",
       "    </tr>\n",
       "  </thead>\n",
       "  <tbody>\n",
       "    <tr>\n",
       "      <th>0</th>\n",
       "      <td>Who are the authors of the article on the disc...</td>\n",
       "      <td>Nader AM', 'Jelenic P', 'Soulieres I'</td>\n",
       "      <td>Author: ['Nader AM', 'Jelenic P', 'Soulieres I']</td>\n",
       "      <td>Discrepancy between WISC-III and WISC-IV Cogni...</td>\n",
       "      <td>26673881</td>\n",
       "      <td>Nader AM, Jelenic P, Soulieres I</td>\n",
       "      <td>The cognitive profile and measured intellectua...</td>\n",
       "      <td>2015/12/18</td>\n",
       "    </tr>\n",
       "    <tr>\n",
       "      <th>1</th>\n",
       "      <td>What is the focus of the cognitive profile exa...</td>\n",
       "      <td>Examine the cognitive profile on the Wechsler ...</td>\n",
       "      <td>Abstract:The cognitive profile and measured in...</td>\n",
       "      <td>Discrepancy between WISC-III and WISC-IV Cogni...</td>\n",
       "      <td>26673881</td>\n",
       "      <td>Nader AM, Jelenic P, Soulieres I</td>\n",
       "      <td>The cognitive profile and measured intellectua...</td>\n",
       "      <td>2015/12/18</td>\n",
       "    </tr>\n",
       "    <tr>\n",
       "      <th>2</th>\n",
       "      <td>How many children with autism were part of the...</td>\n",
       "      <td>51</td>\n",
       "      <td>The third aim was to examine the impact of the...</td>\n",
       "      <td>Discrepancy between WISC-III and WISC-IV Cogni...</td>\n",
       "      <td>26673881</td>\n",
       "      <td>Nader AM, Jelenic P, Soulieres I</td>\n",
       "      <td>The cognitive profile and measured intellectua...</td>\n",
       "      <td>2015/12/18</td>\n",
       "    </tr>\n",
       "    <tr>\n",
       "      <th>3</th>\n",
       "      <td>What percentage increase was observed in the d...</td>\n",
       "      <td>nearly tripled</td>\n",
       "      <td>Autistic children scored significantly higher ...</td>\n",
       "      <td>Discrepancy between WISC-III and WISC-IV Cogni...</td>\n",
       "      <td>26673881</td>\n",
       "      <td>Nader AM, Jelenic P, Soulieres I</td>\n",
       "      <td>The cognitive profile and measured intellectua...</td>\n",
       "      <td>2015/12/18</td>\n",
       "    </tr>\n",
       "    <tr>\n",
       "      <th>4</th>\n",
       "      <td>What are the two main perspectives focused on ...</td>\n",
       "      <td>Two different perspectives are the main focus ...</td>\n",
       "      <td>69</td>\n",
       "      <td>Systems Medicine in Oncology: Signaling Networ...</td>\n",
       "      <td>26677185</td>\n",
       "      <td>Parodi S, Riccardi G, Castagnino N, Tortolina ...</td>\n",
       "      <td>Two different perspectives are the main focus ...</td>\n",
       "      <td>2015/12/18</td>\n",
       "    </tr>\n",
       "    <tr>\n",
       "      <th>...</th>\n",
       "      <td>...</td>\n",
       "      <td>...</td>\n",
       "      <td>...</td>\n",
       "      <td>...</td>\n",
       "      <td>...</td>\n",
       "      <td>...</td>\n",
       "      <td>...</td>\n",
       "      <td>...</td>\n",
       "    </tr>\n",
       "    <tr>\n",
       "      <th>74</th>\n",
       "      <td>What signs of manipulation were found in the c...</td>\n",
       "      <td>addition of glue on the boxes and the vials, d...</td>\n",
       "      <td>1171</td>\n",
       "      <td>Counterfeit analysis strategy illustrated by a...</td>\n",
       "      <td>26692552</td>\n",
       "      <td>Degardin K, Roggo Y</td>\n",
       "      <td>Medicine counterfeiting is a current problem t...</td>\n",
       "      <td>2015/12/23</td>\n",
       "    </tr>\n",
       "    <tr>\n",
       "      <th>75</th>\n",
       "      <td>Who are the authors of the paper on nature-ins...</td>\n",
       "      <td>Siddique N', 'Adeli H</td>\n",
       "      <td>Author: ['Siddique N', 'Adeli H']</td>\n",
       "      <td>Nature Inspired Computing: An Overview and Som...</td>\n",
       "      <td>26693257</td>\n",
       "      <td>Siddique N, Adeli H</td>\n",
       "      <td>This paper presents an overview of significant...</td>\n",
       "      <td>2015/12/23</td>\n",
       "    </tr>\n",
       "    <tr>\n",
       "      <th>76</th>\n",
       "      <td>What is the focus of the paper on nature-inspi...</td>\n",
       "      <td>significant advances made in the emerging fiel...</td>\n",
       "      <td>This paper presents an overview of significant...</td>\n",
       "      <td>Nature Inspired Computing: An Overview and Som...</td>\n",
       "      <td>26693257</td>\n",
       "      <td>Siddique N, Adeli H</td>\n",
       "      <td>This paper presents an overview of significant...</td>\n",
       "      <td>2015/12/23</td>\n",
       "    </tr>\n",
       "    <tr>\n",
       "      <th>77</th>\n",
       "      <td>What has paralleled the development of 'nature...</td>\n",
       "      <td>the emergence of the field of computational in...</td>\n",
       "      <td>A parallel development in the past two decades...</td>\n",
       "      <td>Nature Inspired Computing: An Overview and Som...</td>\n",
       "      <td>26693257</td>\n",
       "      <td>Siddique N, Adeli H</td>\n",
       "      <td>This paper presents an overview of significant...</td>\n",
       "      <td>2015/12/23</td>\n",
       "    </tr>\n",
       "    <tr>\n",
       "      <th>78</th>\n",
       "      <td>What is advocated by the authors in respect to...</td>\n",
       "      <td>more cross-fertilisation of the two emerging f...</td>\n",
       "      <td>The authors advocate and foresee more cross-fe...</td>\n",
       "      <td>Nature Inspired Computing: An Overview and Som...</td>\n",
       "      <td>26693257</td>\n",
       "      <td>Siddique N, Adeli H</td>\n",
       "      <td>This paper presents an overview of significant...</td>\n",
       "      <td>2015/12/23</td>\n",
       "    </tr>\n",
       "  </tbody>\n",
       "</table>\n",
       "<p>79 rows × 8 columns</p>\n",
       "</div>"
      ],
      "text/plain": [
       "                                             question  \\\n",
       "0   Who are the authors of the article on the disc...   \n",
       "1   What is the focus of the cognitive profile exa...   \n",
       "2   How many children with autism were part of the...   \n",
       "3   What percentage increase was observed in the d...   \n",
       "4   What are the two main perspectives focused on ...   \n",
       "..                                                ...   \n",
       "74  What signs of manipulation were found in the c...   \n",
       "75  Who are the authors of the paper on nature-ins...   \n",
       "76  What is the focus of the paper on nature-inspi...   \n",
       "77  What has paralleled the development of 'nature...   \n",
       "78  What is advocated by the authors in respect to...   \n",
       "\n",
       "                                               answer  \\\n",
       "0               Nader AM', 'Jelenic P', 'Soulieres I'   \n",
       "1   Examine the cognitive profile on the Wechsler ...   \n",
       "2                                                  51   \n",
       "3                                      nearly tripled   \n",
       "4   Two different perspectives are the main focus ...   \n",
       "..                                                ...   \n",
       "74  addition of glue on the boxes and the vials, d...   \n",
       "75                              Siddique N', 'Adeli H   \n",
       "76  significant advances made in the emerging fiel...   \n",
       "77  the emergence of the field of computational in...   \n",
       "78  more cross-fertilisation of the two emerging f...   \n",
       "\n",
       "                                          start_point  \\\n",
       "0    Author: ['Nader AM', 'Jelenic P', 'Soulieres I']   \n",
       "1   Abstract:The cognitive profile and measured in...   \n",
       "2   The third aim was to examine the impact of the...   \n",
       "3   Autistic children scored significantly higher ...   \n",
       "4                                                  69   \n",
       "..                                                ...   \n",
       "74                                               1171   \n",
       "75                  Author: ['Siddique N', 'Adeli H']   \n",
       "76  This paper presents an overview of significant...   \n",
       "77  A parallel development in the past two decades...   \n",
       "78  The authors advocate and foresee more cross-fe...   \n",
       "\n",
       "                                        article_title      PMID  \\\n",
       "0   Discrepancy between WISC-III and WISC-IV Cogni...  26673881   \n",
       "1   Discrepancy between WISC-III and WISC-IV Cogni...  26673881   \n",
       "2   Discrepancy between WISC-III and WISC-IV Cogni...  26673881   \n",
       "3   Discrepancy between WISC-III and WISC-IV Cogni...  26673881   \n",
       "4   Systems Medicine in Oncology: Signaling Networ...  26677185   \n",
       "..                                                ...       ...   \n",
       "74  Counterfeit analysis strategy illustrated by a...  26692552   \n",
       "75  Nature Inspired Computing: An Overview and Som...  26693257   \n",
       "76  Nature Inspired Computing: An Overview and Som...  26693257   \n",
       "77  Nature Inspired Computing: An Overview and Som...  26693257   \n",
       "78  Nature Inspired Computing: An Overview and Som...  26693257   \n",
       "\n",
       "                                               author  \\\n",
       "0                    Nader AM, Jelenic P, Soulieres I   \n",
       "1                    Nader AM, Jelenic P, Soulieres I   \n",
       "2                    Nader AM, Jelenic P, Soulieres I   \n",
       "3                    Nader AM, Jelenic P, Soulieres I   \n",
       "4   Parodi S, Riccardi G, Castagnino N, Tortolina ...   \n",
       "..                                                ...   \n",
       "74                                Degardin K, Roggo Y   \n",
       "75                                Siddique N, Adeli H   \n",
       "76                                Siddique N, Adeli H   \n",
       "77                                Siddique N, Adeli H   \n",
       "78                                Siddique N, Adeli H   \n",
       "\n",
       "                                              context article_date  \n",
       "0   The cognitive profile and measured intellectua...   2015/12/18  \n",
       "1   The cognitive profile and measured intellectua...   2015/12/18  \n",
       "2   The cognitive profile and measured intellectua...   2015/12/18  \n",
       "3   The cognitive profile and measured intellectua...   2015/12/18  \n",
       "4   Two different perspectives are the main focus ...   2015/12/18  \n",
       "..                                                ...          ...  \n",
       "74  Medicine counterfeiting is a current problem t...   2015/12/23  \n",
       "75  This paper presents an overview of significant...   2015/12/23  \n",
       "76  This paper presents an overview of significant...   2015/12/23  \n",
       "77  This paper presents an overview of significant...   2015/12/23  \n",
       "78  This paper presents an overview of significant...   2015/12/23  \n",
       "\n",
       "[79 rows x 8 columns]"
      ]
     },
     "execution_count": 5,
     "metadata": {},
     "output_type": "execute_result"
    }
   ],
   "source": [
    "df_c"
   ]
  },
  {
   "cell_type": "code",
   "execution_count": 3,
   "metadata": {},
   "outputs": [],
   "source": [
    "pd.options.mode.copy_on_write = True"
   ]
  },
  {
   "cell_type": "code",
   "execution_count": 7,
   "metadata": {},
   "outputs": [
    {
     "ename": "ValueError",
     "evalue": "substring not found",
     "output_type": "error",
     "traceback": [
      "\u001b[1;31m---------------------------------------------------------------------------\u001b[0m",
      "\u001b[1;31mValueError\u001b[0m                                Traceback (most recent call last)",
      "Cell \u001b[1;32mIn[7], line 12\u001b[0m\n\u001b[0;32m     10\u001b[0m new_context \u001b[38;5;241m=\u001b[39m \u001b[38;5;124mf\u001b[39m\u001b[38;5;124m\"\u001b[39m\u001b[38;5;124mTitle:\u001b[39m\u001b[38;5;132;01m{\u001b[39;00mdf_c[\u001b[38;5;124m'\u001b[39m\u001b[38;5;124marticle_title\u001b[39m\u001b[38;5;124m'\u001b[39m]\u001b[38;5;132;01m}\u001b[39;00m\u001b[38;5;130;01m\\n\u001b[39;00m\u001b[38;5;124mAuthor: \u001b[39m\u001b[38;5;132;01m{\u001b[39;00mdf_c[\u001b[38;5;124m'\u001b[39m\u001b[38;5;124mauthor\u001b[39m\u001b[38;5;124m'\u001b[39m]\u001b[38;5;132;01m}\u001b[39;00m\u001b[38;5;130;01m\\n\u001b[39;00m\u001b[38;5;124m Abstract:\u001b[39m\u001b[38;5;132;01m{\u001b[39;00mdf_c[\u001b[38;5;124m'\u001b[39m\u001b[38;5;124mcontext\u001b[39m\u001b[38;5;124m'\u001b[39m]\u001b[38;5;132;01m}\u001b[39;00m\u001b[38;5;130;01m\\n\u001b[39;00m\u001b[38;5;124m Article date:\u001b[39m\u001b[38;5;132;01m{\u001b[39;00mdf_c[\u001b[38;5;124m'\u001b[39m\u001b[38;5;124marticle_date\u001b[39m\u001b[38;5;124m'\u001b[39m]\u001b[38;5;132;01m}\u001b[39;00m\u001b[38;5;124m\"\u001b[39m\n\u001b[0;32m     11\u001b[0m \u001b[38;5;28;01mif\u001b[39;00m \u001b[38;5;129;01mnot\u001b[39;00m df_c[\u001b[38;5;124m'\u001b[39m\u001b[38;5;124mstart_point\u001b[39m\u001b[38;5;124m'\u001b[39m][i]\u001b[38;5;241m.\u001b[39misnumeric():\n\u001b[1;32m---> 12\u001b[0m     start_point \u001b[38;5;241m=\u001b[39m \u001b[43mnew_context\u001b[49m\u001b[38;5;241;43m.\u001b[39;49m\u001b[43mindex\u001b[49m\u001b[43m(\u001b[49m\u001b[38;5;124;43m'\u001b[39;49m\u001b[38;5;124;43m \u001b[39;49m\u001b[38;5;124;43m'\u001b[39;49m\u001b[38;5;241;43m.\u001b[39;49m\u001b[43mjoin\u001b[49m\u001b[43m(\u001b[49m\u001b[43mdf_c\u001b[49m\u001b[43m[\u001b[49m\u001b[38;5;124;43m'\u001b[39;49m\u001b[38;5;124;43mstart_point\u001b[39;49m\u001b[38;5;124;43m'\u001b[39;49m\u001b[43m]\u001b[49m\u001b[43m[\u001b[49m\u001b[43mi\u001b[49m\u001b[43m]\u001b[49m\u001b[38;5;241;43m.\u001b[39;49m\u001b[43msplit\u001b[49m\u001b[43m(\u001b[49m\u001b[43m)\u001b[49m\u001b[43m[\u001b[49m\u001b[38;5;241;43m0\u001b[39;49m\u001b[43m:\u001b[49m\u001b[38;5;241;43m2\u001b[39;49m\u001b[43m]\u001b[49m\u001b[43m)\u001b[49m\u001b[43m)\u001b[49m\n\u001b[0;32m     13\u001b[0m     df_latest\u001b[38;5;241m.\u001b[39mreplace({\u001b[38;5;124m\"\u001b[39m\u001b[38;5;124mstart_point\u001b[39m\u001b[38;5;124m\"\u001b[39m: {\n\u001b[0;32m     14\u001b[0m             df_c[\u001b[38;5;124m'\u001b[39m\u001b[38;5;124mstart_point\u001b[39m\u001b[38;5;124m'\u001b[39m][i]: \u001b[38;5;28mstr\u001b[39m([start_point])\n\u001b[0;32m     15\u001b[0m         }}, inplace\u001b[38;5;241m=\u001b[39m\u001b[38;5;28;01mTrue\u001b[39;00m)\n\u001b[0;32m     16\u001b[0m     temp_answer \u001b[38;5;241m=\u001b[39m {\u001b[38;5;124m'\u001b[39m\u001b[38;5;124mtext\u001b[39m\u001b[38;5;124m'\u001b[39m: [df_c[\u001b[38;5;124m'\u001b[39m\u001b[38;5;124manswer\u001b[39m\u001b[38;5;124m'\u001b[39m][i]], \u001b[38;5;124m'\u001b[39m\u001b[38;5;124manswer_start\u001b[39m\u001b[38;5;124m'\u001b[39m: [start_point]}\n",
      "\u001b[1;31mValueError\u001b[0m: substring not found"
     ]
    }
   ],
   "source": [
    "from copy import deepcopy\n",
    "df_latest = deepcopy(df_c)\n",
    "\n",
    "col_name=df_latest.columns.tolist() \n",
    "col_name.insert(0, 'id')\n",
    "\n",
    "df_latest = df_latest.reindex(columns=col_name)  \n",
    "\n",
    "for i in range(len(df_c['answer'])):\n",
    "    new_context = f\"{df_c['article_title'][i]}\\n{df_c['author'][i]}\\n{df_c['context'][i]}\\n{df_c['article_date'][i]}\\n{df_c['PMID'][i]}\"\n",
    "    if not df_c['start_point'][i].isnumeric():\n",
    "        start_point = new_context.index(' '.join(df_c['start_point'][i].split()[0:2]))\n",
    "        df_latest.replace({\"start_point\": {\n",
    "                df_c['start_point'][i]: str([start_point])\n",
    "            }}, inplace=True)\n",
    "        temp_answer = {'text': [df_c['answer'][i]], 'answer_start': [start_point]}\n",
    "    else:\n",
    "        temp_answer = {'text': [df_c['answer'][i]], 'answer_start': [df_c['start_point'][i]]}\n",
    "    df_latest.replace({\"answer\": {\n",
    "                df_c['answer'][i]: str(temp_answer)\n",
    "            }}, inplace=True)\n",
    "\n",
    "    df_latest.replace({\"context\": {\n",
    "                df_c['context'][i]: new_context\n",
    "            }}, inplace=True)\n",
    "    \n",
    "    df_latest.at[i, 'id']= str(int(i))"
   ]
  },
  {
   "cell_type": "code",
   "execution_count": 7,
   "metadata": {},
   "outputs": [
    {
     "data": {
      "text/html": [
       "<div>\n",
       "<style scoped>\n",
       "    .dataframe tbody tr th:only-of-type {\n",
       "        vertical-align: middle;\n",
       "    }\n",
       "\n",
       "    .dataframe tbody tr th {\n",
       "        vertical-align: top;\n",
       "    }\n",
       "\n",
       "    .dataframe thead th {\n",
       "        text-align: right;\n",
       "    }\n",
       "</style>\n",
       "<table border=\"1\" class=\"dataframe\">\n",
       "  <thead>\n",
       "    <tr style=\"text-align: right;\">\n",
       "      <th></th>\n",
       "      <th>id</th>\n",
       "      <th>question</th>\n",
       "      <th>answer</th>\n",
       "      <th>start_point</th>\n",
       "      <th>article_title</th>\n",
       "      <th>PMID</th>\n",
       "      <th>author</th>\n",
       "      <th>context</th>\n",
       "      <th>article_date</th>\n",
       "    </tr>\n",
       "  </thead>\n",
       "  <tbody>\n",
       "    <tr>\n",
       "      <th>0</th>\n",
       "      <td>0</td>\n",
       "      <td>What is the purpose of the prospective study m...</td>\n",
       "      <td>{'text': ['To define the very early neuropsych...</td>\n",
       "      <td>259</td>\n",
       "      <td>Neuropsychological profile in new-onset benign...</td>\n",
       "      <td>26667848</td>\n",
       "      <td>Filippini M, Ardu E, Stefanelli S, Boni A, Gob...</td>\n",
       "      <td>Neuropsychological profile in new-onset benign...</td>\n",
       "      <td>2015/12/16</td>\n",
       "    </tr>\n",
       "    <tr>\n",
       "      <th>1</th>\n",
       "      <td>1</td>\n",
       "      <td>How many children with BECTS were enrolled in ...</td>\n",
       "      <td>{'text': ['Fifteen school-aged children with B...</td>\n",
       "      <td>438</td>\n",
       "      <td>Neuropsychological profile in new-onset benign...</td>\n",
       "      <td>26667848</td>\n",
       "      <td>Filippini M, Ardu E, Stefanelli S, Boni A, Gob...</td>\n",
       "      <td>Neuropsychological profile in new-onset benign...</td>\n",
       "      <td>2015/12/16</td>\n",
       "    </tr>\n",
       "    <tr>\n",
       "      <th>2</th>\n",
       "      <td>2</td>\n",
       "      <td>What neuropsychological domains showed signifi...</td>\n",
       "      <td>{'text': ['Language, executive functions, and ...</td>\n",
       "      <td>1041</td>\n",
       "      <td>Neuropsychological profile in new-onset benign...</td>\n",
       "      <td>26667848</td>\n",
       "      <td>Filippini M, Ardu E, Stefanelli S, Boni A, Gob...</td>\n",
       "      <td>Neuropsychological profile in new-onset benign...</td>\n",
       "      <td>2015/12/16</td>\n",
       "    </tr>\n",
       "    <tr>\n",
       "      <th>3</th>\n",
       "      <td>3</td>\n",
       "      <td>What implications are drawn from the results r...</td>\n",
       "      <td>{'text': ['Children with new-onset BECTS may d...</td>\n",
       "      <td>2288</td>\n",
       "      <td>Neuropsychological profile in new-onset benign...</td>\n",
       "      <td>26667848</td>\n",
       "      <td>Filippini M, Ardu E, Stefanelli S, Boni A, Gob...</td>\n",
       "      <td>Neuropsychological profile in new-onset benign...</td>\n",
       "      <td>2015/12/16</td>\n",
       "    </tr>\n",
       "    <tr>\n",
       "      <th>4</th>\n",
       "      <td>4</td>\n",
       "      <td>What is the London Child Health and Developmen...</td>\n",
       "      <td>{'text': ['The London Child Health and Develop...</td>\n",
       "      <td>139</td>\n",
       "      <td>Toward earlier identification and preventative...</td>\n",
       "      <td>26670311</td>\n",
       "      <td>Laurens KR, Cullen AE</td>\n",
       "      <td>Toward earlier identification and preventative...</td>\n",
       "      <td>2015/12/17</td>\n",
       "    </tr>\n",
       "    <tr>\n",
       "      <th>5</th>\n",
       "      <td>5</td>\n",
       "      <td>What is the purpose of the London Child Health...</td>\n",
       "      <td>{'text': ['The purpose of the London Child Hea...</td>\n",
       "      <td>325</td>\n",
       "      <td>Toward earlier identification and preventative...</td>\n",
       "      <td>26670311</td>\n",
       "      <td>Laurens KR, Cullen AE</td>\n",
       "      <td>Toward earlier identification and preventative...</td>\n",
       "      <td>2015/12/17</td>\n",
       "    </tr>\n",
       "    <tr>\n",
       "      <th>6</th>\n",
       "      <td>6</td>\n",
       "      <td>What does the London Child Health and Developm...</td>\n",
       "      <td>{'text': ['The London Child Health and Develop...</td>\n",
       "      <td>621</td>\n",
       "      <td>Toward earlier identification and preventative...</td>\n",
       "      <td>26670311</td>\n",
       "      <td>Laurens KR, Cullen AE</td>\n",
       "      <td>Toward earlier identification and preventative...</td>\n",
       "      <td>2015/12/17</td>\n",
       "    </tr>\n",
       "    <tr>\n",
       "      <th>7</th>\n",
       "      <td>7</td>\n",
       "      <td>What are the findings of the London Child Heal...</td>\n",
       "      <td>{'text': ['The findings of the London Child He...</td>\n",
       "      <td>900</td>\n",
       "      <td>Toward earlier identification and preventative...</td>\n",
       "      <td>26670311</td>\n",
       "      <td>Laurens KR, Cullen AE</td>\n",
       "      <td>Toward earlier identification and preventative...</td>\n",
       "      <td>2015/12/17</td>\n",
       "    </tr>\n",
       "    <tr>\n",
       "      <th>8</th>\n",
       "      <td>8</td>\n",
       "      <td>What is the core hypothesis in developmental t...</td>\n",
       "      <td>{'text': ['genetic influences on intelligence ...</td>\n",
       "      <td>276</td>\n",
       "      <td>Large Cross-National Differences in Gene x Soc...</td>\n",
       "      <td>26671911</td>\n",
       "      <td>Tucker-Drob EM, Bates TC</td>\n",
       "      <td>Large Cross-National Differences in Gene x Soc...</td>\n",
       "      <td>2015/12/17</td>\n",
       "    </tr>\n",
       "    <tr>\n",
       "      <th>9</th>\n",
       "      <td>9</td>\n",
       "      <td>What did the meta-analysis by Tucker-Drob and ...</td>\n",
       "      <td>{'text': ['Gene x SES interaction on intellige...</td>\n",
       "      <td>287</td>\n",
       "      <td>Large Cross-National Differences in Gene x Soc...</td>\n",
       "      <td>26671911</td>\n",
       "      <td>Tucker-Drob EM, Bates TC</td>\n",
       "      <td>Large Cross-National Differences in Gene x Soc...</td>\n",
       "      <td>2015/12/17</td>\n",
       "    </tr>\n",
       "    <tr>\n",
       "      <th>10</th>\n",
       "      <td>10</td>\n",
       "      <td>Where were the clear Gene x SES effects found ...</td>\n",
       "      <td>{'text': ['U.S. studies'], 'answer_start': ['7...</td>\n",
       "      <td>713</td>\n",
       "      <td>Large Cross-National Differences in Gene x Soc...</td>\n",
       "      <td>26671911</td>\n",
       "      <td>Tucker-Drob EM, Bates TC</td>\n",
       "      <td>Large Cross-National Differences in Gene x Soc...</td>\n",
       "      <td>2015/12/17</td>\n",
       "    </tr>\n",
       "    <tr>\n",
       "      <th>11</th>\n",
       "      <td>11</td>\n",
       "      <td>In which regions were the Gene x SES effects z...</td>\n",
       "      <td>{'text': ['Western Europe and Australia'], 'an...</td>\n",
       "      <td>982</td>\n",
       "      <td>Large Cross-National Differences in Gene x Soc...</td>\n",
       "      <td>26671911</td>\n",
       "      <td>Tucker-Drob EM, Bates TC</td>\n",
       "      <td>Large Cross-National Differences in Gene x Soc...</td>\n",
       "      <td>2015/12/17</td>\n",
       "    </tr>\n",
       "    <tr>\n",
       "      <th>12</th>\n",
       "      <td>12</td>\n",
       "      <td>Who authored the article on multifactorial det...</td>\n",
       "      <td>{'text': ['Moncayo R and Ortner K'], 'answer_s...</td>\n",
       "      <td>[101]</td>\n",
       "      <td>Multifactorial determinants of cognition - Thy...</td>\n",
       "      <td>26672993</td>\n",
       "      <td>Moncayo R, Ortner K</td>\n",
       "      <td>Multifactorial determinants of cognition - Thy...</td>\n",
       "      <td>2015/12/18</td>\n",
       "    </tr>\n",
       "    <tr>\n",
       "      <th>13</th>\n",
       "      <td>13</td>\n",
       "      <td>What was considered to be a principal determin...</td>\n",
       "      <td>{'text': ['Iodine deficiency'], 'answer_start'...</td>\n",
       "      <td>[101]</td>\n",
       "      <td>Multifactorial determinants of cognition - Thy...</td>\n",
       "      <td>26672993</td>\n",
       "      <td>Moncayo R, Ortner K</td>\n",
       "      <td>Multifactorial determinants of cognition - Thy...</td>\n",
       "      <td>2015/12/18</td>\n",
       "    </tr>\n",
       "    <tr>\n",
       "      <th>14</th>\n",
       "      <td>14</td>\n",
       "      <td>According to recent studies, what type of stre...</td>\n",
       "      <td>{'text': ['Pre-natal stress'], 'answer_start':...</td>\n",
       "      <td>[474]</td>\n",
       "      <td>Multifactorial determinants of cognition - Thy...</td>\n",
       "      <td>26672993</td>\n",
       "      <td>Moncayo R, Ortner K</td>\n",
       "      <td>Multifactorial determinants of cognition - Thy...</td>\n",
       "      <td>2015/12/18</td>\n",
       "    </tr>\n",
       "    <tr>\n",
       "      <th>15</th>\n",
       "      <td>15</td>\n",
       "      <td>Aside from thyroid function, what are some add...</td>\n",
       "      <td>{'text': ['Nutrition, infection, prenatal stre...</td>\n",
       "      <td>[1036]</td>\n",
       "      <td>Multifactorial determinants of cognition - Thy...</td>\n",
       "      <td>26672993</td>\n",
       "      <td>Moncayo R, Ortner K</td>\n",
       "      <td>Multifactorial determinants of cognition - Thy...</td>\n",
       "      <td>2015/12/18</td>\n",
       "    </tr>\n",
       "    <tr>\n",
       "      <th>16</th>\n",
       "      <td>16</td>\n",
       "      <td>What is the significance of studying psycholog...</td>\n",
       "      <td>{'text': ['Psychological gender and emotional ...</td>\n",
       "      <td>497</td>\n",
       "      <td>Psychological Gender and Emotional Intelligenc...</td>\n",
       "      <td>26673062</td>\n",
       "      <td>Rutkowska K, Bergier J</td>\n",
       "      <td>Psychological Gender and Emotional Intelligenc...</td>\n",
       "      <td>2015/12/18</td>\n",
       "    </tr>\n",
       "    <tr>\n",
       "      <th>17</th>\n",
       "      <td>17</td>\n",
       "      <td>What is emotional intelligence defined as?</td>\n",
       "      <td>{'text': ['Emotional intelligence is defined a...</td>\n",
       "      <td>1979</td>\n",
       "      <td>Psychological Gender and Emotional Intelligenc...</td>\n",
       "      <td>26673062</td>\n",
       "      <td>Rutkowska K, Bergier J</td>\n",
       "      <td>Psychological Gender and Emotional Intelligenc...</td>\n",
       "      <td>2015/12/18</td>\n",
       "    </tr>\n",
       "    <tr>\n",
       "      <th>18</th>\n",
       "      <td>18</td>\n",
       "      <td>What tools were used in the research on female...</td>\n",
       "      <td>{'text': ['The Gender Assessment Inventory (IP...</td>\n",
       "      <td>691</td>\n",
       "      <td>Psychological Gender and Emotional Intelligenc...</td>\n",
       "      <td>26673062</td>\n",
       "      <td>Rutkowska K, Bergier J</td>\n",
       "      <td>Psychological Gender and Emotional Intelligenc...</td>\n",
       "      <td>2015/12/18</td>\n",
       "    </tr>\n",
       "    <tr>\n",
       "      <th>19</th>\n",
       "      <td>19</td>\n",
       "      <td>How does the level of emotional intelligence i...</td>\n",
       "      <td>{'text': ['The level of emotional intelligence...</td>\n",
       "      <td>1364</td>\n",
       "      <td>Psychological Gender and Emotional Intelligenc...</td>\n",
       "      <td>26673062</td>\n",
       "      <td>Rutkowska K, Bergier J</td>\n",
       "      <td>Psychological Gender and Emotional Intelligenc...</td>\n",
       "      <td>2015/12/18</td>\n",
       "    </tr>\n",
       "  </tbody>\n",
       "</table>\n",
       "</div>"
      ],
      "text/plain": [
       "    id                                           question  \\\n",
       "0    0  What is the purpose of the prospective study m...   \n",
       "1    1  How many children with BECTS were enrolled in ...   \n",
       "2    2  What neuropsychological domains showed signifi...   \n",
       "3    3  What implications are drawn from the results r...   \n",
       "4    4  What is the London Child Health and Developmen...   \n",
       "5    5  What is the purpose of the London Child Health...   \n",
       "6    6  What does the London Child Health and Developm...   \n",
       "7    7  What are the findings of the London Child Heal...   \n",
       "8    8  What is the core hypothesis in developmental t...   \n",
       "9    9  What did the meta-analysis by Tucker-Drob and ...   \n",
       "10  10  Where were the clear Gene x SES effects found ...   \n",
       "11  11  In which regions were the Gene x SES effects z...   \n",
       "12  12  Who authored the article on multifactorial det...   \n",
       "13  13  What was considered to be a principal determin...   \n",
       "14  14  According to recent studies, what type of stre...   \n",
       "15  15  Aside from thyroid function, what are some add...   \n",
       "16  16  What is the significance of studying psycholog...   \n",
       "17  17         What is emotional intelligence defined as?   \n",
       "18  18  What tools were used in the research on female...   \n",
       "19  19  How does the level of emotional intelligence i...   \n",
       "\n",
       "                                               answer start_point  \\\n",
       "0   {'text': ['To define the very early neuropsych...         259   \n",
       "1   {'text': ['Fifteen school-aged children with B...         438   \n",
       "2   {'text': ['Language, executive functions, and ...        1041   \n",
       "3   {'text': ['Children with new-onset BECTS may d...        2288   \n",
       "4   {'text': ['The London Child Health and Develop...         139   \n",
       "5   {'text': ['The purpose of the London Child Hea...         325   \n",
       "6   {'text': ['The London Child Health and Develop...         621   \n",
       "7   {'text': ['The findings of the London Child He...         900   \n",
       "8   {'text': ['genetic influences on intelligence ...         276   \n",
       "9   {'text': ['Gene x SES interaction on intellige...         287   \n",
       "10  {'text': ['U.S. studies'], 'answer_start': ['7...         713   \n",
       "11  {'text': ['Western Europe and Australia'], 'an...         982   \n",
       "12  {'text': ['Moncayo R and Ortner K'], 'answer_s...       [101]   \n",
       "13  {'text': ['Iodine deficiency'], 'answer_start'...       [101]   \n",
       "14  {'text': ['Pre-natal stress'], 'answer_start':...       [474]   \n",
       "15  {'text': ['Nutrition, infection, prenatal stre...      [1036]   \n",
       "16  {'text': ['Psychological gender and emotional ...         497   \n",
       "17  {'text': ['Emotional intelligence is defined a...        1979   \n",
       "18  {'text': ['The Gender Assessment Inventory (IP...         691   \n",
       "19  {'text': ['The level of emotional intelligence...        1364   \n",
       "\n",
       "                                        article_title      PMID  \\\n",
       "0   Neuropsychological profile in new-onset benign...  26667848   \n",
       "1   Neuropsychological profile in new-onset benign...  26667848   \n",
       "2   Neuropsychological profile in new-onset benign...  26667848   \n",
       "3   Neuropsychological profile in new-onset benign...  26667848   \n",
       "4   Toward earlier identification and preventative...  26670311   \n",
       "5   Toward earlier identification and preventative...  26670311   \n",
       "6   Toward earlier identification and preventative...  26670311   \n",
       "7   Toward earlier identification and preventative...  26670311   \n",
       "8   Large Cross-National Differences in Gene x Soc...  26671911   \n",
       "9   Large Cross-National Differences in Gene x Soc...  26671911   \n",
       "10  Large Cross-National Differences in Gene x Soc...  26671911   \n",
       "11  Large Cross-National Differences in Gene x Soc...  26671911   \n",
       "12  Multifactorial determinants of cognition - Thy...  26672993   \n",
       "13  Multifactorial determinants of cognition - Thy...  26672993   \n",
       "14  Multifactorial determinants of cognition - Thy...  26672993   \n",
       "15  Multifactorial determinants of cognition - Thy...  26672993   \n",
       "16  Psychological Gender and Emotional Intelligenc...  26673062   \n",
       "17  Psychological Gender and Emotional Intelligenc...  26673062   \n",
       "18  Psychological Gender and Emotional Intelligenc...  26673062   \n",
       "19  Psychological Gender and Emotional Intelligenc...  26673062   \n",
       "\n",
       "                                               author  \\\n",
       "0   Filippini M, Ardu E, Stefanelli S, Boni A, Gob...   \n",
       "1   Filippini M, Ardu E, Stefanelli S, Boni A, Gob...   \n",
       "2   Filippini M, Ardu E, Stefanelli S, Boni A, Gob...   \n",
       "3   Filippini M, Ardu E, Stefanelli S, Boni A, Gob...   \n",
       "4                               Laurens KR, Cullen AE   \n",
       "5                               Laurens KR, Cullen AE   \n",
       "6                               Laurens KR, Cullen AE   \n",
       "7                               Laurens KR, Cullen AE   \n",
       "8                            Tucker-Drob EM, Bates TC   \n",
       "9                            Tucker-Drob EM, Bates TC   \n",
       "10                           Tucker-Drob EM, Bates TC   \n",
       "11                           Tucker-Drob EM, Bates TC   \n",
       "12                                Moncayo R, Ortner K   \n",
       "13                                Moncayo R, Ortner K   \n",
       "14                                Moncayo R, Ortner K   \n",
       "15                                Moncayo R, Ortner K   \n",
       "16                             Rutkowska K, Bergier J   \n",
       "17                             Rutkowska K, Bergier J   \n",
       "18                             Rutkowska K, Bergier J   \n",
       "19                             Rutkowska K, Bergier J   \n",
       "\n",
       "                                              context article_date  \n",
       "0   Neuropsychological profile in new-onset benign...   2015/12/16  \n",
       "1   Neuropsychological profile in new-onset benign...   2015/12/16  \n",
       "2   Neuropsychological profile in new-onset benign...   2015/12/16  \n",
       "3   Neuropsychological profile in new-onset benign...   2015/12/16  \n",
       "4   Toward earlier identification and preventative...   2015/12/17  \n",
       "5   Toward earlier identification and preventative...   2015/12/17  \n",
       "6   Toward earlier identification and preventative...   2015/12/17  \n",
       "7   Toward earlier identification and preventative...   2015/12/17  \n",
       "8   Large Cross-National Differences in Gene x Soc...   2015/12/17  \n",
       "9   Large Cross-National Differences in Gene x Soc...   2015/12/17  \n",
       "10  Large Cross-National Differences in Gene x Soc...   2015/12/17  \n",
       "11  Large Cross-National Differences in Gene x Soc...   2015/12/17  \n",
       "12  Multifactorial determinants of cognition - Thy...   2015/12/18  \n",
       "13  Multifactorial determinants of cognition - Thy...   2015/12/18  \n",
       "14  Multifactorial determinants of cognition - Thy...   2015/12/18  \n",
       "15  Multifactorial determinants of cognition - Thy...   2015/12/18  \n",
       "16  Psychological Gender and Emotional Intelligenc...   2015/12/18  \n",
       "17  Psychological Gender and Emotional Intelligenc...   2015/12/18  \n",
       "18  Psychological Gender and Emotional Intelligenc...   2015/12/18  \n",
       "19  Psychological Gender and Emotional Intelligenc...   2015/12/18  "
      ]
     },
     "execution_count": 7,
     "metadata": {},
     "output_type": "execute_result"
    }
   ],
   "source": [
    "df_latest"
   ]
  },
  {
   "cell_type": "code",
   "execution_count": 8,
   "metadata": {},
   "outputs": [],
   "source": [
    "# from datasets import DatasetDict\n",
    "# dataset = DatasetDict.from_csv(\n",
    "#         path_or_paths{'train': '../testing_QA/reformatting_testing_qa.csv'},\n",
    "#         features: Optional[Features] = None,\n",
    "#         cache_dir: str = None,\n",
    "#         keep_in_memory: bool = False,\n",
    "#         **kwargs,\n",
    "#     )\n",
    "# or we can do\n",
    "# load_dataset(\"csv\", data_files=\"my_file.csv\")"
   ]
  },
  {
   "cell_type": "code",
   "execution_count": 9,
   "metadata": {},
   "outputs": [],
   "source": [
    "training_df = df_latest.sample(frac=0.8, axis=0, replace=False, random_state=0)"
   ]
  },
  {
   "cell_type": "code",
   "execution_count": 10,
   "metadata": {},
   "outputs": [],
   "source": [
    "testing_df = df_latest[~df_latest.index.isin(training_df.index)]"
   ]
  },
  {
   "cell_type": "code",
   "execution_count": 11,
   "metadata": {},
   "outputs": [],
   "source": [
    "# construct datasets\n",
    "training_data = Dataset.from_pandas(training_df, preserve_index=False)"
   ]
  },
  {
   "cell_type": "code",
   "execution_count": 12,
   "metadata": {},
   "outputs": [
    {
     "data": {
      "text/plain": [
       "Dataset({\n",
       "    features: ['id', 'question', 'answer', 'start_point', 'article_title', 'PMID', 'author', 'context', 'article_date'],\n",
       "    num_rows: 16\n",
       "})"
      ]
     },
     "execution_count": 12,
     "metadata": {},
     "output_type": "execute_result"
    }
   ],
   "source": [
    "training_data"
   ]
  },
  {
   "cell_type": "code",
   "execution_count": 13,
   "metadata": {},
   "outputs": [],
   "source": [
    "testing_data = Dataset.from_pandas(testing_df, preserve_index=False)"
   ]
  },
  {
   "cell_type": "code",
   "execution_count": 14,
   "metadata": {},
   "outputs": [],
   "source": [
    "dataset = DatasetDict()\n",
    "dataset['train'] = training_data\n",
    "dataset['validation'] = testing_data"
   ]
  },
  {
   "cell_type": "code",
   "execution_count": 8,
   "metadata": {},
   "outputs": [],
   "source": [
    "import numpy as np\n",
    "from transformers import AutoTokenizer\n",
    "from transformers import AutoModelForQuestionAnswering, TrainingArguments, Trainer\n",
    "from transformers import default_data_collator\n",
    "import torch\n",
    "import collections\n",
    "from tqdm.auto import tqdm\n",
    "import ast"
   ]
  },
  {
   "cell_type": "code",
   "execution_count": 9,
   "metadata": {},
   "outputs": [],
   "source": [
    "from transformers import AutoTokenizer\n",
    "    \n",
    "tokenizer = AutoTokenizer.from_pretrained(model_checkpoint)"
   ]
  },
  {
   "cell_type": "code",
   "execution_count": 10,
   "metadata": {},
   "outputs": [],
   "source": [
    "max_length = 384 # max length of input feature\n",
    "doc_stride = 128 # repeat tokens number between 2 slices"
   ]
  },
  {
   "cell_type": "code",
   "execution_count": 11,
   "metadata": {},
   "outputs": [],
   "source": [
    "import transformers\n",
    "assert isinstance(tokenizer, transformers.PreTrainedTokenizerFast)"
   ]
  },
  {
   "cell_type": "code",
   "execution_count": 12,
   "metadata": {},
   "outputs": [
    {
     "data": {
      "text/plain": [
       "{'input_ids': [101, 2054, 2003, 2115, 2171, 1029, 102], 'attention_mask': [1, 1, 1, 1, 1, 1, 1]}"
      ]
     },
     "execution_count": 12,
     "metadata": {},
     "output_type": "execute_result"
    }
   ],
   "source": [
    "tokenizer(\"What is your name?\")"
   ]
  },
  {
   "cell_type": "code",
   "execution_count": 13,
   "metadata": {},
   "outputs": [],
   "source": [
    "for i, example in enumerate(training_data):\n",
    "    if len(tokenizer(example[\"question\"], example[\"context\"])[\"input_ids\"]) > 384:\n",
    "        break\n",
    "example = training_data[i]"
   ]
  },
  {
   "cell_type": "code",
   "execution_count": 21,
   "metadata": {},
   "outputs": [
    {
     "data": {
      "text/plain": [
       "416"
      ]
     },
     "execution_count": 21,
     "metadata": {},
     "output_type": "execute_result"
    }
   ],
   "source": [
    "len(tokenizer(example[\"question\"], example[\"context\"])[\"input_ids\"])"
   ]
  },
  {
   "cell_type": "code",
   "execution_count": 22,
   "metadata": {},
   "outputs": [],
   "source": [
    "tokenized_example = tokenizer(\n",
    "    example[\"question\"], # question\n",
    "    example[\"context\"],  # abstract\n",
    "    max_length=max_length, \n",
    "    truncation=\"only_second\", # slice only in the context\n",
    "    return_overflowing_tokens=True,  # flag the slicing if exceed max length\n",
    "    return_offsets_mapping=True,\n",
    "    stride=doc_stride # slice step size\n",
    ")"
   ]
  },
  {
   "cell_type": "code",
   "execution_count": 23,
   "metadata": {},
   "outputs": [
    {
     "data": {
      "text/plain": [
       "[384, 181]"
      ]
     },
     "execution_count": 23,
     "metadata": {},
     "output_type": "execute_result"
    }
   ],
   "source": [
    "[len(x) for x in tokenized_example[\"input_ids\"]]"
   ]
  },
  {
   "cell_type": "code",
   "execution_count": 24,
   "metadata": {},
   "outputs": [
    {
     "name": "stdout",
     "output_type": "stream",
     "text": [
      "[(0, 0), (0, 4), (5, 10), (11, 15), (16, 20), (21, 23), (24, 27), (28, 36), (37, 39), (40, 46), (47, 53), (54, 61), (61, 62), (63, 76), (77, 83), (84, 87), (88, 97), (98, 110), (110, 111), (0, 0), (0, 13), (14, 20), (21, 24), (25, 34), (35, 47), (48, 50), (51, 56), (57, 63), (64, 70), (71, 78), (78, 79), (80, 82), (82, 83), (83, 86), (86, 89), (90, 91), (91, 92), (93, 97), (97, 100), (101, 102), (103, 107), (108, 114), (115, 116), (116, 119), (120, 128), (129, 135), (135, 136), (137, 140), (141, 147), (147, 154), (154, 156), (157, 166), (167, 169), (170, 171), (172, 176), (177, 185), (185, 186), (187, 191), (192, 194), (194, 195), (196, 200), (201, 204), (205, 209), (210, 215), (216, 222), (223, 225), (226, 232), (233, 244), (245, 253), (253, 254), (255, 260), (261, 264), (265, 271), (272, 274), (275, 280), (281, 289), (290, 303), (304, 316), (317, 320), (321, 324), (325, 333), (334, 336), (337, 342), (343, 348), (349, 354), (355, 365), (365, 366), (367, 384), (385, 392), (393, 397), (398, 401), (402, 408), (409, 411), (412, 417), (417, 418), (419, 428), (429, 432), (433, 446), (447, 454), (454, 455)]\n"
     ]
    }
   ],
   "source": [
    "print(tokenized_example[\"offset_mapping\"][0][:100])"
   ]
  },
  {
   "cell_type": "code",
   "execution_count": 25,
   "metadata": {},
   "outputs": [
    {
     "name": "stdout",
     "output_type": "stream",
     "text": [
      "[None, 0, 0, 0, 0, 0, 0, 0, 0, 0, 0, 0, 0, 0, 0, 0, 0, 0, 0, None, 1, 1, 1, 1, 1, 1, 1, 1, 1, 1, 1, 1, 1, 1, 1, 1, 1, 1, 1, 1, 1, 1, 1, 1, 1, 1, 1, 1, 1, 1, 1, 1, 1, 1, 1, 1, 1, 1, 1, 1, 1, 1, 1, 1, 1, 1, 1, 1, 1, 1, 1, 1, 1, 1, 1, 1, 1, 1, 1, 1, 1, 1, 1, 1, 1, 1, 1, 1, 1, 1, 1, 1, 1, 1, 1, 1, 1, 1, 1, 1, 1, 1, 1, 1, 1, 1, 1, 1, 1, 1, 1, 1, 1, 1, 1, 1, 1, 1, 1, 1, 1, 1, 1, 1, 1, 1, 1, 1, 1, 1, 1, 1, 1, 1, 1, 1, 1, 1, 1, 1, 1, 1, 1, 1, 1, 1, 1, 1, 1, 1, 1, 1, 1, 1, 1, 1, 1, 1, 1, 1, 1, 1, 1, 1, 1, 1, 1, 1, 1, 1, 1, 1, 1, 1, 1, 1, 1, 1, 1, 1, 1, 1, 1, 1, 1, 1, 1, 1, 1, 1, 1, 1, 1, 1, 1, 1, 1, 1, 1, 1, 1, 1, 1, 1, 1, 1, 1, 1, 1, 1, 1, 1, 1, 1, 1, 1, 1, 1, 1, 1, 1, 1, 1, 1, 1, 1, 1, 1, 1, 1, 1, 1, 1, 1, 1, 1, 1, 1, 1, 1, 1, 1, 1, 1, 1, 1, 1, 1, 1, 1, 1, 1, 1, 1, 1, 1, 1, 1, 1, 1, 1, 1, 1, 1, 1, 1, 1, 1, 1, 1, 1, 1, 1, 1, 1, 1, 1, 1, 1, 1, 1, 1, 1, 1, 1, 1, 1, 1, 1, 1, 1, 1, 1, 1, 1, 1, 1, 1, 1, 1, 1, 1, 1, 1, 1, 1, 1, 1, 1, 1, 1, 1, 1, 1, 1, 1, 1, 1, 1, 1, 1, 1, 1, 1, 1, 1, 1, 1, 1, 1, 1, 1, 1, 1, 1, 1, 1, 1, 1, 1, 1, 1, 1, 1, 1, 1, 1, 1, 1, 1, 1, 1, 1, 1, 1, 1, 1, 1, 1, 1, 1, 1, 1, 1, 1, 1, 1, 1, 1, 1, 1, 1, 1, 1, 1, 1, 1, 1, 1, 1, 1, 1, 1, None]\n"
     ]
    }
   ],
   "source": [
    "sequence_ids = tokenized_example.sequence_ids()\n",
    "print(sequence_ids)"
   ]
  },
  {
   "cell_type": "code",
   "execution_count": 14,
   "metadata": {},
   "outputs": [],
   "source": [
    "pad_on_right = tokenizer.padding_side == \"right\" #context on the right"
   ]
  },
  {
   "cell_type": "code",
   "execution_count": 15,
   "metadata": {},
   "outputs": [],
   "source": [
    "def prepare_train_features(examples):\n",
    "    # truncation and padding\n",
    "    tokenized_examples = tokenizer(\n",
    "        examples['question' if pad_on_right else \"context\"],\n",
    "        examples['context' if pad_on_right else \"question\"],\n",
    "        truncation=\"only_second\" if pad_on_right else \"only_first\",\n",
    "        max_length=max_length,\n",
    "        stride=doc_stride,\n",
    "        return_overflowing_tokens=True,\n",
    "        return_offsets_mapping=True,\n",
    "        padding=\"max_length\",\n",
    "    )\n",
    "\n",
    "    sample_mapping = tokenized_examples.pop(\"overflow_to_sample_mapping\")\n",
    "\n",
    "    offset_mapping = tokenized_examples.pop(\"offset_mapping\")\n",
    "\n",
    "    # tag data again\n",
    "    tokenized_examples[\"start_positions\"] = []\n",
    "    tokenized_examples[\"end_positions\"] = []\n",
    "\n",
    "    for i, offsets in enumerate(offset_mapping):\n",
    "        # each slice processing\n",
    "        # no answer sample tagged to CLS\n",
    "        input_ids = tokenized_examples[\"input_ids\"][i]\n",
    "        cls_index = input_ids.index(tokenizer.cls_token_id)\n",
    "\n",
    "        # distinguish question and context\n",
    "        sequence_ids = tokenized_examples.sequence_ids(i)\n",
    "\n",
    "        # original example index\n",
    "        sample_index = sample_mapping[i]\n",
    "        answers = examples[\"answer\"][sample_index]\n",
    "        # no answer, CLS location as answer\n",
    "        if type(answers)==str:\n",
    "            answers = ast.literal_eval(answers)\n",
    "        if len(answers[\"answer_start\"]) == 0:\n",
    "            tokenized_examples[\"start_positions\"].append(cls_index)\n",
    "            tokenized_examples[\"end_positions\"].append(cls_index)\n",
    "        else:\n",
    "            # character level's start/end\n",
    "            start_char = int(answers[\"answer_start\"][0])\n",
    "            end_char = start_char + len(answers[\"text\"][0])\n",
    "\n",
    "            # token level's index start\n",
    "            token_start_index = 0\n",
    "            while sequence_ids[token_start_index] != (1 if pad_on_right else 0):\n",
    "                token_start_index += 1\n",
    "\n",
    "            # token level's index end\n",
    "            token_end_index = len(input_ids) - 1\n",
    "            while sequence_ids[token_end_index] != (1 if pad_on_right else 0):\n",
    "                token_end_index -= 1\n",
    "\n",
    "            # checking if exceeding length，if so, CLS index as tag\n",
    "            if not (offsets[token_start_index][0] <= start_char and offsets[token_end_index][1] >= end_char):\n",
    "                tokenized_examples[\"start_positions\"].append(cls_index)\n",
    "                tokenized_examples[\"end_positions\"].append(cls_index)\n",
    "            else:\n",
    "                # Note: we could go after the last offset if the answer is the last word (edge case)\n",
    "                while token_start_index < len(offsets) and offsets[token_start_index][0] <= start_char:\n",
    "                    token_start_index += 1\n",
    "                tokenized_examples[\"start_positions\"].append(token_start_index - 1)\n",
    "                while offsets[token_end_index][1] >= end_char:\n",
    "                    token_end_index -= 1\n",
    "                tokenized_examples[\"end_positions\"].append(token_end_index + 1)\n",
    "\n",
    "    return tokenized_examples"
   ]
  },
  {
   "cell_type": "code",
   "execution_count": 28,
   "metadata": {},
   "outputs": [],
   "source": [
    "features = prepare_train_features(training_data[:5])\n"
   ]
  },
  {
   "cell_type": "code",
   "execution_count": 16,
   "metadata": {},
   "outputs": [
    {
     "data": {
      "application/vnd.jupyter.widget-view+json": {
       "model_id": "10b94747e86648ec8079ca672346c299",
       "version_major": 2,
       "version_minor": 0
      },
      "text/plain": [
       "Map:   0%|          | 0/63 [00:00<?, ? examples/s]"
      ]
     },
     "metadata": {},
     "output_type": "display_data"
    },
    {
     "data": {
      "application/vnd.jupyter.widget-view+json": {
       "model_id": "1451b07c166a40d68aed81154c5f9f38",
       "version_major": 2,
       "version_minor": 0
      },
      "text/plain": [
       "Map:   0%|          | 0/16 [00:00<?, ? examples/s]"
      ]
     },
     "metadata": {},
     "output_type": "display_data"
    }
   ],
   "source": [
    "tokenized_datasets = dataset.map(prepare_train_features, batched=True, remove_columns=training_data.column_names)"
   ]
  },
  {
   "cell_type": "code",
   "execution_count": 122,
   "metadata": {},
   "outputs": [
    {
     "data": {
      "text/plain": [
       "DatasetDict({\n",
       "    train: Dataset({\n",
       "        features: ['input_ids', 'attention_mask', 'start_positions', 'end_positions'],\n",
       "        num_rows: 26\n",
       "    })\n",
       "    validation: Dataset({\n",
       "        features: ['input_ids', 'attention_mask', 'start_positions', 'end_positions'],\n",
       "        num_rows: 6\n",
       "    })\n",
       "})"
      ]
     },
     "execution_count": 122,
     "metadata": {},
     "output_type": "execute_result"
    }
   ],
   "source": [
    "tokenized_datasets"
   ]
  },
  {
   "cell_type": "code",
   "execution_count": 17,
   "metadata": {},
   "outputs": [
    {
     "name": "stderr",
     "output_type": "stream",
     "text": [
      "Some weights of DistilBertForQuestionAnswering were not initialized from the model checkpoint at distilbert-base-uncased and are newly initialized: ['qa_outputs.bias', 'qa_outputs.weight']\n",
      "You should probably TRAIN this model on a down-stream task to be able to use it for predictions and inference.\n"
     ]
    }
   ],
   "source": [
    "from transformers import AutoModelForQuestionAnswering, TrainingArguments, Trainer\n",
    "\n",
    "model = AutoModelForQuestionAnswering.from_pretrained(model_checkpoint)"
   ]
  },
  {
   "cell_type": "code",
   "execution_count": 18,
   "metadata": {},
   "outputs": [],
   "source": [
    "args = TrainingArguments(\n",
    "    \"transformer_qa_with_batch\",\n",
    "    evaluation_strategy = \"epoch\",\n",
    "    learning_rate=2e-5, \n",
    "    per_device_train_batch_size=batch_size,\n",
    "    per_device_eval_batch_size=batch_size,\n",
    "    num_train_epochs=3, \n",
    "    weight_decay=0.01,\n",
    ")"
   ]
  },
  {
   "cell_type": "code",
   "execution_count": 19,
   "metadata": {},
   "outputs": [],
   "source": [
    "from transformers import default_data_collator\n",
    "\n",
    "data_collator = default_data_collator"
   ]
  },
  {
   "cell_type": "code",
   "execution_count": 20,
   "metadata": {},
   "outputs": [],
   "source": [
    "pushing_args = TrainingArguments(\n",
    "    output_dir= \"transformer_qa_with_batch\",\n",
    "    evaluation_strategy = \"epoch\",\n",
    "    learning_rate=2e-5, \n",
    "    per_device_train_batch_size=batch_size,\n",
    "    per_device_eval_batch_size=batch_size,\n",
    "    num_train_epochs=3, \n",
    "    weight_decay=0.01,\n",
    "    push_to_hub= True\n",
    ")\n"
   ]
  },
  {
   "cell_type": "code",
   "execution_count": 23,
   "metadata": {},
   "outputs": [],
   "source": [
    "trainer = Trainer(\n",
    "    model,\n",
    "    pushing_args,\n",
    "    train_dataset=tokenized_datasets[\"train\"],\n",
    "    eval_dataset=tokenized_datasets[\"validation\"],\n",
    "    data_collator=data_collator,\n",
    "    tokenizer=tokenizer,\n",
    ")"
   ]
  },
  {
   "cell_type": "code",
   "execution_count": 24,
   "metadata": {},
   "outputs": [
    {
     "data": {
      "application/vnd.jupyter.widget-view+json": {
       "model_id": "396cc51beb2c4862bb3b98921cfb37cb",
       "version_major": 2,
       "version_minor": 0
      },
      "text/plain": [
       "  0%|          | 0/18 [00:00<?, ?it/s]"
      ]
     },
     "metadata": {},
     "output_type": "display_data"
    },
    {
     "data": {
      "application/vnd.jupyter.widget-view+json": {
       "model_id": "43c7a14be10841e38254ecb10203e0d5",
       "version_major": 2,
       "version_minor": 0
      },
      "text/plain": [
       "  0%|          | 0/2 [00:00<?, ?it/s]"
      ]
     },
     "metadata": {},
     "output_type": "display_data"
    },
    {
     "name": "stdout",
     "output_type": "stream",
     "text": [
      "{'eval_loss': 5.836179256439209, 'eval_runtime': 4.3529, 'eval_samples_per_second': 5.514, 'eval_steps_per_second': 0.459, 'epoch': 1.0}\n"
     ]
    },
    {
     "data": {
      "application/vnd.jupyter.widget-view+json": {
       "model_id": "ed8f528b6eba49fab6130b2fa8edf9c0",
       "version_major": 2,
       "version_minor": 0
      },
      "text/plain": [
       "  0%|          | 0/2 [00:00<?, ?it/s]"
      ]
     },
     "metadata": {},
     "output_type": "display_data"
    },
    {
     "name": "stdout",
     "output_type": "stream",
     "text": [
      "{'eval_loss': 5.672811985015869, 'eval_runtime': 4.4191, 'eval_samples_per_second': 5.431, 'eval_steps_per_second': 0.453, 'epoch': 2.0}\n"
     ]
    },
    {
     "data": {
      "application/vnd.jupyter.widget-view+json": {
       "model_id": "ea6a109e1b874380815b4c023530094b",
       "version_major": 2,
       "version_minor": 0
      },
      "text/plain": [
       "  0%|          | 0/2 [00:00<?, ?it/s]"
      ]
     },
     "metadata": {},
     "output_type": "display_data"
    },
    {
     "name": "stdout",
     "output_type": "stream",
     "text": [
      "{'eval_loss': 5.591075897216797, 'eval_runtime': 5.7212, 'eval_samples_per_second': 4.195, 'eval_steps_per_second': 0.35, 'epoch': 3.0}\n",
      "{'train_runtime': 163.073, 'train_samples_per_second': 1.766, 'train_steps_per_second': 0.11, 'train_loss': 5.717903984917535, 'epoch': 3.0}\n"
     ]
    },
    {
     "data": {
      "text/plain": [
       "TrainOutput(global_step=18, training_loss=5.717903984917535, metrics={'train_runtime': 163.073, 'train_samples_per_second': 1.766, 'train_steps_per_second': 0.11, 'train_loss': 5.717903984917535, 'epoch': 3.0})"
      ]
     },
     "execution_count": 24,
     "metadata": {},
     "output_type": "execute_result"
    }
   ],
   "source": [
    "trainer.train()"
   ]
  },
  {
   "cell_type": "code",
   "execution_count": 25,
   "metadata": {},
   "outputs": [
    {
     "data": {
      "application/vnd.jupyter.widget-view+json": {
       "model_id": "2a7a40df9a6b4e89abec6546755992aa",
       "version_major": 2,
       "version_minor": 0
      },
      "text/plain": [
       "model.safetensors:   0%|          | 0.00/265M [00:00<?, ?B/s]"
      ]
     },
     "metadata": {},
     "output_type": "display_data"
    },
    {
     "data": {
      "application/vnd.jupyter.widget-view+json": {
       "model_id": "f7da424f8b5248ef990dd48c5e0dd7d0",
       "version_major": 2,
       "version_minor": 0
      },
      "text/plain": [
       "model.bin:   0%|          | 0.00/265M [00:00<?, ?B/s]"
      ]
     },
     "metadata": {},
     "output_type": "display_data"
    },
    {
     "data": {
      "application/vnd.jupyter.widget-view+json": {
       "model_id": "16be544e6d9944f0919ef3a878043c57",
       "version_major": 2,
       "version_minor": 0
      },
      "text/plain": [
       "training_args.bin:   0%|          | 0.00/4.66k [00:00<?, ?B/s]"
      ]
     },
     "metadata": {},
     "output_type": "display_data"
    },
    {
     "data": {
      "application/vnd.jupyter.widget-view+json": {
       "model_id": "2d19af4689f74d0c8b211d75138119c0",
       "version_major": 2,
       "version_minor": 0
      },
      "text/plain": [
       "Upload 3 LFS files:   0%|          | 0/3 [00:00<?, ?it/s]"
      ]
     },
     "metadata": {},
     "output_type": "display_data"
    },
    {
     "data": {
      "text/plain": [
       "CommitInfo(commit_url='https://huggingface.co/choichoi/transformer_qa_with_batch/commit/b8cd893ee9bde943b9d2aa29c78f9e18110bdc14', commit_message='transformer_qa_with_batch', commit_description='', oid='b8cd893ee9bde943b9d2aa29c78f9e18110bdc14', pr_url=None, pr_revision=None, pr_num=None)"
      ]
     },
     "execution_count": 25,
     "metadata": {},
     "output_type": "execute_result"
    }
   ],
   "source": [
    "trainer.push_to_hub(\"transformer_qa_with_batch\")"
   ]
  },
  {
   "cell_type": "code",
   "execution_count": 26,
   "metadata": {},
   "outputs": [],
   "source": [
    "\n",
    "trainer.save_model(f\"transformer_qa_with_batch\")\n",
    "torch.save(model.state_dict(),f\"transformer_qa_with_batch/model.bin\")\n",
    "# trainer.save_model(\"test-qa-trained\")"
   ]
  },
  {
   "cell_type": "code",
   "execution_count": null,
   "metadata": {},
   "outputs": [],
   "source": [
    "# from transformers import AutoModelForQuestionAnswering\n",
    "# import torch\n",
    "# model_custom = AutoModelForQuestionAnswering.from_pretrained(\"transformer_qa_with_batch\")\n",
    "# model_custom.load_state_dict(torch.load(\"transformer_qa_with_batch/model.bin\"))"
   ]
  },
  {
   "cell_type": "markdown",
   "metadata": {},
   "source": [
    "## Evaluation"
   ]
  },
  {
   "cell_type": "code",
   "execution_count": 27,
   "metadata": {},
   "outputs": [
    {
     "data": {
      "text/plain": [
       "odict_keys(['loss', 'start_logits', 'end_logits'])"
      ]
     },
     "execution_count": 27,
     "metadata": {},
     "output_type": "execute_result"
    }
   ],
   "source": [
    "import torch\n",
    "\n",
    "for batch in trainer.get_eval_dataloader():\n",
    "    break\n",
    "batch = {k: v.to(torch.device('cpu')) for k, v in batch.items()}\n",
    "with torch.no_grad():\n",
    "    output = trainer.model(**batch)\n",
    "output.keys()\n"
   ]
  },
  {
   "cell_type": "code",
   "execution_count": 28,
   "metadata": {},
   "outputs": [
    {
     "data": {
      "text/plain": [
       "(torch.Size([16, 384]), torch.Size([16, 384]))"
      ]
     },
     "execution_count": 28,
     "metadata": {},
     "output_type": "execute_result"
    }
   ],
   "source": [
    "output.start_logits.shape, output.end_logits.shape"
   ]
  },
  {
   "cell_type": "markdown",
   "metadata": {},
   "source": [
    "## Testing Answer"
   ]
  },
  {
   "cell_type": "code",
   "execution_count": 29,
   "metadata": {},
   "outputs": [
    {
     "data": {
      "text/plain": [
       "(tensor([0, 0, 0, 0, 0, 0, 1, 1, 0, 0, 0, 0, 0, 0, 0, 0]),\n",
       " tensor([0, 0, 0, 0, 0, 0, 4, 0, 0, 0, 0, 0, 0, 0, 0, 0]))"
      ]
     },
     "execution_count": 29,
     "metadata": {},
     "output_type": "execute_result"
    }
   ],
   "source": [
    "output.start_logits.argmax(dim=-1), output.end_logits.argmax(dim=-1)"
   ]
  },
  {
   "cell_type": "code",
   "execution_count": 30,
   "metadata": {},
   "outputs": [],
   "source": [
    "n_best_size = 20"
   ]
  },
  {
   "cell_type": "code",
   "execution_count": 31,
   "metadata": {},
   "outputs": [],
   "source": [
    "def prepare_validation_features(examples):\n",
    "    # Tokenize our examples with truncation and maybe padding, but keep the overflows using a stride. This results\n",
    "    # in one example possible giving several features when a context is long, each of those features having a\n",
    "    # context that overlaps a bit the context of the previous feature.\n",
    "    tokenized_examples = tokenizer(\n",
    "        examples[\"question\" if pad_on_right else \"context\"],\n",
    "        examples[\"context\" if pad_on_right else \"question\"],\n",
    "        truncation=\"only_second\" if pad_on_right else \"only_first\",\n",
    "        max_length=max_length,\n",
    "        stride=doc_stride,\n",
    "        return_overflowing_tokens=True,\n",
    "        return_offsets_mapping=True,\n",
    "        padding=\"max_length\",\n",
    "    )\n",
    "\n",
    "    # Since one example might give us several features if it has a long context, we need a map from a feature to\n",
    "    # its corresponding example. This key gives us just that.\n",
    "    sample_mapping = tokenized_examples.pop(\"overflow_to_sample_mapping\")\n",
    "\n",
    "    # We keep the example_id that gave us this feature and we will store the offset mappings.\n",
    "    tokenized_examples[\"example_id\"] = []\n",
    "\n",
    "    for i in range(len(tokenized_examples[\"input_ids\"])):\n",
    "        # Grab the sequence corresponding to that example (to know what is the context and what is the question).\n",
    "        sequence_ids = tokenized_examples.sequence_ids(i)\n",
    "        context_index = 1 if pad_on_right else 0\n",
    "\n",
    "        # One example can give several spans, this is the index of the example containing this span of text.\n",
    "        sample_index = sample_mapping[i]\n",
    "        tokenized_examples[\"example_id\"].append(examples[\"id\"][sample_index])\n",
    "\n",
    "        # Set to None the offset_mapping that are not part of the context so it's easy to determine if a token\n",
    "        # position is part of the context or not.\n",
    "        tokenized_examples[\"offset_mapping\"][i] = [\n",
    "            (o if sequence_ids[k] == context_index else None)\n",
    "            for k, o in enumerate(tokenized_examples[\"offset_mapping\"][i])\n",
    "        ]\n",
    "\n",
    "    return tokenized_examples"
   ]
  },
  {
   "cell_type": "code",
   "execution_count": 43,
   "metadata": {},
   "outputs": [],
   "source": [
    "f_t = prepare_validation_features(testing_data[:5])"
   ]
  },
  {
   "cell_type": "code",
   "execution_count": 32,
   "metadata": {},
   "outputs": [
    {
     "data": {
      "application/vnd.jupyter.widget-view+json": {
       "model_id": "33e9c6ebdc3642c0aa0c3bbd96b63a73",
       "version_major": 2,
       "version_minor": 0
      },
      "text/plain": [
       "Map:   0%|          | 0/16 [00:00<?, ? examples/s]"
      ]
     },
     "metadata": {},
     "output_type": "display_data"
    }
   ],
   "source": [
    "validation_features = dataset[\"validation\"].map(\n",
    "    prepare_validation_features,\n",
    "    batched=True,\n",
    "    remove_columns=dataset[\"validation\"].column_names\n",
    ")"
   ]
  },
  {
   "cell_type": "code",
   "execution_count": 33,
   "metadata": {},
   "outputs": [
    {
     "data": {
      "application/vnd.jupyter.widget-view+json": {
       "model_id": "1ea1b9d9db694826a98e257259be0d8d",
       "version_major": 2,
       "version_minor": 0
      },
      "text/plain": [
       "  0%|          | 0/2 [00:00<?, ?it/s]"
      ]
     },
     "metadata": {},
     "output_type": "display_data"
    }
   ],
   "source": [
    "raw_predictions = trainer.predict(validation_features)"
   ]
  },
  {
   "cell_type": "code",
   "execution_count": 34,
   "metadata": {},
   "outputs": [],
   "source": [
    "validation_features.set_format(type=validation_features.format[\"type\"], columns=list(validation_features.features.keys()))"
   ]
  },
  {
   "cell_type": "code",
   "execution_count": 35,
   "metadata": {},
   "outputs": [],
   "source": [
    "max_answer_length = 30"
   ]
  },
  {
   "cell_type": "code",
   "execution_count": 36,
   "metadata": {},
   "outputs": [],
   "source": [
    "start_logits = output.start_logits[0].cpu().numpy()\n",
    "end_logits = output.end_logits[0].cpu().numpy()\n",
    "offset_mapping = validation_features[0][\"offset_mapping\"]\n",
    "# The first feature comes from the first example. For the more general case, we will need to be match the example_id to\n",
    "# an example index\n",
    "context = dataset[\"validation\"][0][\"context\"]\n",
    "\n",
    "# Gather the indices the best start/end logits:\n",
    "start_indexes = np.argsort(start_logits)[-1 : -n_best_size - 1 : -1].tolist()\n",
    "end_indexes = np.argsort(end_logits)[-1 : -n_best_size - 1 : -1].tolist()\n",
    "valid_answers = []\n",
    "for start_index in start_indexes:\n",
    "    for end_index in end_indexes:\n",
    "        # Don't consider out-of-scope answers, either because the indices are out of bounds or correspond\n",
    "        # to part of the input_ids that are not in the context.\n",
    "        if (\n",
    "            start_index >= len(offset_mapping)\n",
    "            or end_index >= len(offset_mapping)\n",
    "            or offset_mapping[start_index] is None\n",
    "            or offset_mapping[end_index] is None\n",
    "        ):\n",
    "            continue\n",
    "        # Don't consider answers with a length that is either < 0 or > max_answer_length.\n",
    "        if end_index < start_index or end_index - start_index + 1 > max_answer_length:\n",
    "            continue\n",
    "        if start_index <= end_index: # We need to refine that test to check the answer is inside the context\n",
    "            start_char = offset_mapping[start_index][0]\n",
    "            end_char = offset_mapping[end_index][1]\n",
    "            valid_answers.append(\n",
    "                {\n",
    "                    \"score\": start_logits[start_index] + end_logits[end_index],\n",
    "                    \"text\": context[start_char: end_char]\n",
    "                }\n",
    "            )\n",
    "\n",
    "valid_answers = sorted(valid_answers, key=lambda x: x[\"score\"], reverse=True)[:n_best_size]\n"
   ]
  },
  {
   "cell_type": "code",
   "execution_count": 37,
   "metadata": {},
   "outputs": [
    {
     "data": {
      "text/plain": [
       "[{'score': 1.1055446, 'text': 'Author'},\n",
       " {'score': 1.0915706, 'text': 'Abstract'},\n",
       " {'score': 1.0342126,\n",
       "  'text': 'Author: Collaer ML, Hindmarsh PC, Pasterski V, Fane BA, Hines M\\n Abstract'},\n",
       " {'score': 0.9810459,\n",
       "  'text': 'Title:Reduced short term memory in congenital adrenal hyperplasia (CAH) and its relationship to spatial and quantitative performance.\\nAuthor'},\n",
       " {'score': 0.93660593,\n",
       "  'text': 'term memory in congenital adrenal hyperplasia (CAH) and its relationship to spatial and quantitative performance.\\nAuthor'},\n",
       " {'score': 0.9266681,\n",
       "  'text': 'plasia (CAH) and its relationship to spatial and quantitative performance.\\nAuthor'},\n",
       " {'score': 0.9163219,\n",
       "  'text': 'memory in congenital adrenal hyperplasia (CAH) and its relationship to spatial and quantitative performance.\\nAuthor'},\n",
       " {'score': 0.9044931, 'text': 'Abstract:'},\n",
       " {'score': 0.8851044,\n",
       "  'text': 'Abstract:Girls and women with classical congenital adrenal hyperplasia ('},\n",
       " {'score': 0.8693588,\n",
       "  'text': 'Author: Collaer ML, Hindmarsh PC, Pasterski V, Fane BA,'},\n",
       " {'score': 0.84713507,\n",
       "  'text': 'Author: Collaer ML, Hindmarsh PC, Pasterski V, Fane BA, Hines M\\n Abstract:'},\n",
       " {'score': 0.84312207,\n",
       "  'text': 'rements in these domains, perhaps due to reduced short-term-memory (STM). Adolescent and adult individuals with CAH (40 female'},\n",
       " {'score': 0.8300895, 'text': 'rski V, Fane BA, Hines M\\n Abstract'},\n",
       " {'score': 0.7973411,\n",
       "  'text': 'Title:Reduced short term memory in congenital adrenal hyperplasia (CAH) and its'},\n",
       " {'score': 0.79344225, 'text': 'investigated two alternative hyp'},\n",
       " {'score': 0.78512985, 'text': 'eses, that: (a) early androgen exposure in'},\n",
       " {'score': 0.77735865, 'text': 'hypothesis of'},\n",
       " {'score': 0.7756903, 'text': 'investigated two alternative h'},\n",
       " {'score': 0.7529011,\n",
       "  'text': 'term memory in congenital adrenal hyperplasia (CAH) and its'},\n",
       " {'score': 0.7499581,\n",
       "  'text': 'ents in these domains, perhaps due to reduced short-term-memory (STM). Adolescent and adult individuals with CAH (40 female'}]"
      ]
     },
     "execution_count": 37,
     "metadata": {},
     "output_type": "execute_result"
    }
   ],
   "source": [
    "valid_answers"
   ]
  },
  {
   "cell_type": "code",
   "execution_count": 38,
   "metadata": {},
   "outputs": [
    {
     "data": {
      "text/plain": [
       "'How are individuals with congenital adrenal hyperplasia (CAH) compared to controls in terms of spatial perception and quantitative abilities?'"
      ]
     },
     "execution_count": 38,
     "metadata": {},
     "output_type": "execute_result"
    }
   ],
   "source": [
    "dataset[\"validation\"][0]['question']"
   ]
  },
  {
   "cell_type": "code",
   "execution_count": 39,
   "metadata": {},
   "outputs": [
    {
     "data": {
      "text/plain": [
       "\"{'text': ['Individuals with congenital adrenal hyperplasia (CAH) scored lower on spatial perception and a quantitative composite compared to controls.'], 'answer_start': ['881']}\""
      ]
     },
     "execution_count": 39,
     "metadata": {},
     "output_type": "execute_result"
    }
   ],
   "source": [
    "dataset[\"validation\"][0][\"answer\"]"
   ]
  },
  {
   "cell_type": "code",
   "execution_count": 40,
   "metadata": {},
   "outputs": [
    {
     "data": {
      "text/plain": [
       "'Title:Reduced short term memory in congenital adrenal hyperplasia (CAH) and its relationship to spatial and quantitative performance.\\nAuthor: Collaer ML, Hindmarsh PC, Pasterski V, Fane BA, Hines M\\n Abstract:Girls and women with classical congenital adrenal hyperplasia (CAH) experience elevated androgens prenatally and show increased male-typical development for certain behaviors. Further, individuals with CAH receive glucocorticoid (GC) treatment postnatally, and this GC treatment could have negative cognitive consequences. We investigated two alternative hypotheses, that: (a) early androgen exposure in females with CAH masculinizes (improves) spatial perception and quantitative abilities at which males typically outperform females, or (b) CAH is associated with performance decrements in these domains, perhaps due to reduced short-term-memory (STM). Adolescent and adult individuals with CAH (40 female and 29 male) were compared with relative controls (29 female and 30 male) on spatial perception and quantitative abilities as well as on Digit Span (DS) to assess STM and on Vocabulary to assess general intelligence. Females with CAH did not perform better (more male-typical) on spatial perception or quantitative abilities than control females, failing to support the hypothesis of cognitive masculinization. Rather, in the sample as a whole individuals with CAH scored lower on spatial perception (p </= .009), a quantitative composite (p </= .036), and DS (p </= .001), despite no differences in general intelligence. Separate analyses of adolescent and adult participants suggested the spatial and quantitative effects might be present only in adult patients with CAH; however, reduced DS performance was found in patients with CAH regardless of age group. Separate regression analyses showed that DS predicted both spatial perception and quantitative performance (both p </= .001), when age, sex, and diagnosis status were controlled. Thus, reduced STM in CAH patients versus controls may have more general cognitive consequences, potentially reducing spatial perception and quantitative skills. Although hyponatremia or other aspects of salt-wasting crises or additional hormone abnormalities cannot be ruled out as potential contributors, elevated GCs appear to be the most likely contributor to reductions in STM. Additional efforts to monitor GC administration protocols may help achieve optimal cognitive outcomes. Educational intervention for individuals with CAH might also be useful.\\n Article date:2015/12/19'"
      ]
     },
     "execution_count": 40,
     "metadata": {},
     "output_type": "execute_result"
    }
   ],
   "source": [
    "dataset[\"validation\"][0][\"context\"]"
   ]
  },
  {
   "cell_type": "code",
   "execution_count": 198,
   "metadata": {},
   "outputs": [],
   "source": [
    "from transformers import AutoModelForQuestionAnswering\n",
    "model = AutoModelForQuestionAnswering.from_pretrained(\"choichoi/transformer_qa_with_batch\")"
   ]
  },
  {
   "cell_type": "code",
   "execution_count": 208,
   "metadata": {},
   "outputs": [
    {
     "data": {
      "text/plain": [
       "odict_keys(['loss', 'start_logits', 'end_logits'])"
      ]
     },
     "execution_count": 208,
     "metadata": {},
     "output_type": "execute_result"
    }
   ],
   "source": [
    "# import torch\n",
    "# testing_data = prepare_train_features(dataset['validation'])\n",
    "# testing_data_m = {k: torch.tensor(v) for k, v in testing_data.items()}\n",
    "# with torch.no_grad():\n",
    "#     output = model(**testing_data_m)\n",
    "# output.keys()"
   ]
  },
  {
   "cell_type": "code",
   "execution_count": 54,
   "metadata": {},
   "outputs": [],
   "source": [
    "from transformers import pipeline\n",
    "pipe = pipeline(\"question-answering\", model=model, tokenizer=tokenizer)\n"
   ]
  },
  {
   "cell_type": "code",
   "execution_count": 63,
   "metadata": {},
   "outputs": [
    {
     "data": {
      "text/plain": [
       "'Title:Reduced short term memory in congenital adrenal hyperplasia (CAH) and its relationship to spatial and quantitative performance.\\nAuthor: Collaer ML, Hindmarsh PC, Pasterski V, Fane BA, Hines M\\n Abstract:Girls and women with classical congenital adrenal hyperplasia (CAH) experience elevated androgens prenatally and show increased male-typical development for certain behaviors. Further, individuals with CAH receive glucocorticoid (GC) treatment postnatally, and this GC treatment could have negative cognitive consequences. We investigated two alternative hypotheses, that: (a) early androgen exposure in females with CAH masculinizes (improves) spatial perception and quantitative abilities at which males typically outperform females, or (b) CAH is associated with performance decrements in these domains, perhaps due to reduced short-term-memory (STM). Adolescent and adult individuals with CAH (40 female and 29 male) were compared with relative controls (29 female and 30 male) on spatial perception and quantitative abilities as well as on Digit Span (DS) to assess STM and on Vocabulary to assess general intelligence. Females with CAH did not perform better (more male-typical) on spatial perception or quantitative abilities than control females, failing to support the hypothesis of cognitive masculinization. Rather, in the sample as a whole individuals with CAH scored lower on spatial perception (p </= .009), a quantitative composite (p </= .036), and DS (p </= .001), despite no differences in general intelligence. Separate analyses of adolescent and adult participants suggested the spatial and quantitative effects might be present only in adult patients with CAH; however, reduced DS performance was found in patients with CAH regardless of age group. Separate regression analyses showed that DS predicted both spatial perception and quantitative performance (both p </= .001), when age, sex, and diagnosis status were controlled. Thus, reduced STM in CAH patients versus controls may have more general cognitive consequences, potentially reducing spatial perception and quantitative skills. Although hyponatremia or other aspects of salt-wasting crises or additional hormone abnormalities cannot be ruled out as potential contributors, elevated GCs appear to be the most likely contributor to reductions in STM. Additional efforts to monitor GC administration protocols may help achieve optimal cognitive outcomes. Educational intervention for individuals with CAH might also be useful.\\n Article date:2015/12/19'"
      ]
     },
     "execution_count": 63,
     "metadata": {},
     "output_type": "execute_result"
    }
   ],
   "source": [
    "dataset['validation'][0]['context']"
   ]
  },
  {
   "cell_type": "code",
   "execution_count": 65,
   "metadata": {},
   "outputs": [
    {
     "data": {
      "text/plain": [
       "'Reduced short term memory in congenital adrenal hyperplasia (CAH) and its relationship to spatial and quantitative performance.'"
      ]
     },
     "execution_count": 65,
     "metadata": {},
     "output_type": "execute_result"
    }
   ],
   "source": [
    "dataset['validation'][0]['article_title']"
   ]
  },
  {
   "cell_type": "code",
   "execution_count": 75,
   "metadata": {},
   "outputs": [],
   "source": [
    "context = dataset['validation'][3]['context']\n",
    "result = pipe({\"question\":dataset['validation'][3]['question'], 'context': context}, function_to_apply=\"none\")"
   ]
  },
  {
   "cell_type": "code",
   "execution_count": 76,
   "metadata": {},
   "outputs": [
    {
     "data": {
      "text/plain": [
       "'How many children were involved in the study on smart-tablet-based neurofeedback training?'"
      ]
     },
     "execution_count": 76,
     "metadata": {},
     "output_type": "execute_result"
    }
   ],
   "source": [
    "dataset['validation'][3]['question']"
   ]
  },
  {
   "cell_type": "code",
   "execution_count": 77,
   "metadata": {},
   "outputs": [
    {
     "data": {
      "text/plain": [
       "\"{'text': ['Forty children'], 'answer_start': ['55']}\""
      ]
     },
     "execution_count": 77,
     "metadata": {},
     "output_type": "execute_result"
    }
   ],
   "source": [
    "dataset['validation'][3]['answer']"
   ]
  },
  {
   "cell_type": "code",
   "execution_count": 78,
   "metadata": {},
   "outputs": [
    {
     "data": {
      "text/plain": [
       "{'score': 4.407166852615774e-05,\n",
       " 'start': 1135,\n",
       " 'end': 1154,\n",
       " 'answer': 'study suggests that'}"
      ]
     },
     "execution_count": 78,
     "metadata": {},
     "output_type": "execute_result"
    }
   ],
   "source": [
    "result"
   ]
  },
  {
   "cell_type": "code",
   "execution_count": null,
   "metadata": {},
   "outputs": [],
   "source": []
  },
  {
   "cell_type": "markdown",
   "metadata": {},
   "source": [
    "## Evaluation with Bleu, Rouge, Bestscore"
   ]
  },
  {
   "cell_type": "code",
   "execution_count": 79,
   "metadata": {},
   "outputs": [],
   "source": [
    "import evaluate\n",
    "### your code ###\n",
    "bleu = evaluate.load('bleu')\n",
    "rouge = evaluate.load('rouge')\n",
    "bertscore = evaluate.load(\"bertscore\")\n",
    "### your code ###"
   ]
  },
  {
   "cell_type": "code",
   "execution_count": 82,
   "metadata": {},
   "outputs": [],
   "source": [
    "predict_ans = []\n",
    "for i in dataset['train']:\n",
    "    context = i['context']\n",
    "    result = pipe({\"question\":i['question'], 'context': context}, function_to_apply=\"none\")\n",
    "    predict_ans.append(result['answer'])"
   ]
  },
  {
   "cell_type": "code",
   "execution_count": 83,
   "metadata": {},
   "outputs": [
    {
     "data": {
      "text/plain": [
       "['Autism Spectrum Disorder Symptoms.\\nAuthor',\n",
       " 'Attention Problems.\\nAuthor',\n",
       " 'RESULTS: Examination of a 100 patients showed a significant',\n",
       " 'RESULTS: Five polymorphisms were associated with',\n",
       " 'study supports the',\n",
       " 'RESULTS: In',\n",
       " 'study.\\nAuthor',\n",
       " 'Overview and Some Future Directions.\\nAuthor',\n",
       " 'Autism Spectrum Disorder Symptoms.\\nAuthor',\n",
       " 'Review of Intelligent Driving Style Analysis Systems and Related Artificial Intelligence Algorithms.\\nAuthor',\n",
       " 'RESULTS: A number of',\n",
       " 'RESULTS: Five polymorphisms were associated with',\n",
       " 'examine the impact of the',\n",
       " 'study.\\nAuthor',\n",
       " 'investigation is to evaluate the possibilities for unique driver identification utilizing the approaches identified in',\n",
       " 'Article',\n",
       " 'examine the impact of the',\n",
       " 'Challenges in',\n",
       " 'report briefly about one of the most important projects in',\n",
       " 'Attention Problems.\\nAuthor',\n",
       " 'RESULTS: A number of',\n",
       " \"explores the early history of Herbert Simon's principle of\",\n",
       " 'RESULTS: A number of',\n",
       " 'Overview and Some Future Directions.\\nAuthor',\n",
       " 'Review of Intelligent Driving Style Analysis Systems and Related Artificial Intelligence Algorithms.\\nAuthor',\n",
       " 'Author',\n",
       " 'The Intelligent Behavior of Plants.\\nAuthor',\n",
       " 'The Intelligent Behavior of Plants.\\nAuthor',\n",
       " 'report briefly about one of the most important projects in',\n",
       " 'investigation is to evaluate the possibilities for unique driver identification utilizing the approaches identified in',\n",
       " 'study.\\nAuthor',\n",
       " 'report briefly about one of the most important projects in',\n",
       " 'data from',\n",
       " 'mean score of 80.8%',\n",
       " 'RESULTS: Examination of a 100 patients showed a significant',\n",
       " 'analyses of adolescent and adult participants suggested',\n",
       " 'autism spectrum disorder (ASD). The relationship',\n",
       " 'Challenges in',\n",
       " 'analyses of adolescent and adult participants suggested',\n",
       " 'RESULTS: Examination of a 100 patients showed a significant',\n",
       " 'RESULTS: A number of',\n",
       " 'The Intelligent Behavior of Plants.\\nAuthor',\n",
       " 'examine the impact of the',\n",
       " 'Article',\n",
       " 'frequency',\n",
       " 'study investigated proactive',\n",
       " 'mean score of 80.8%',\n",
       " 'Author',\n",
       " 'RESULTS: Examination of a 100 patients showed a significant',\n",
       " 'Attention Problems.\\nAuthor',\n",
       " 'data from',\n",
       " 'Author',\n",
       " 'examine the impact of the',\n",
       " 'Overview and Some Future Directions.\\nAuthor',\n",
       " 'results indicate',\n",
       " 'report briefly about one of the most important projects in',\n",
       " 'RESULTS: In',\n",
       " 'Author',\n",
       " 'Spectrum Disorder Symptoms.\\nAuthor',\n",
       " 'Challenges in',\n",
       " 'study.\\nAuthor',\n",
       " 'analyses of adolescent and adult participants suggested',\n",
       " 'RESULTS']"
      ]
     },
     "execution_count": 83,
     "metadata": {},
     "output_type": "execute_result"
    }
   ],
   "source": [
    "predict_ans"
   ]
  },
  {
   "cell_type": "code",
   "execution_count": 90,
   "metadata": {},
   "outputs": [],
   "source": [
    "ground_truth = []\n",
    "for j in dataset['train']['answer']:\n",
    "    answers = ast.literal_eval(j)\n",
    "    ground_truth.append(answers['text'][0])\n"
   ]
  },
  {
   "cell_type": "code",
   "execution_count": 91,
   "metadata": {},
   "outputs": [
    {
     "data": {
      "text/plain": [
       "['Padilla N, Eklof E, Martensson GE, Bolte S, Lagercrantz H, Aden U',\n",
       " 'Yes, the improvements remained through the follow-up assessment',\n",
       " 'a P value </= 0.05',\n",
       " 'Five polymorphisms',\n",
       " \"['Olsen JP', 'Fellows RP', 'Rivera-Mindt M', 'Morgello S', 'Byrd DA']\",\n",
       " 'The children were assessed for ADHD symptoms in grades 1-5.',\n",
       " 'addition of glue on the boxes and the vials, dilution of genuine stolen goods with water, introduction of a different active ingredient in a vial',\n",
       " 'significant advances made in the emerging field of nature-inspired computing (NIC) with a focus on the physics- and biology-based approaches and algorithms',\n",
       " 'Poor Brain Growth in Extremely Preterm Neonates Long Before the Onset of Autism Spectrum Disorder Symptoms.',\n",
       " 'Fuzzy Logic inference systems, Hidden Markov Models and Support Vector Machines',\n",
       " \"the concepts of recovery and social inclusion in mental health nurse education curricula at Master's level\",\n",
       " 'crucially involved in the physiology of the prefrontal cortex during working memory',\n",
       " '51',\n",
       " 'Medicine counterfeiting',\n",
       " '2015/12/23',\n",
       " 'DBM (deformation-based morphometry) Jacobian mapping',\n",
       " 'nearly tripled',\n",
       " 'November 2014',\n",
       " 'IBM Watson US Cancer Centers',\n",
       " 'general intelligence, visual and auditory attention, attentional shifting, response inhibition, and behavior rating scales',\n",
       " 'recovery and social inclusion',\n",
       " \"The early history of Herbert Simon's principle of bounded rationality in the context of his Artificial Intelligence research in the mid 1950s\",\n",
       " 'literature-based critical review',\n",
       " 'more cross-fertilisation of the two emerging fields',\n",
       " 'various driving style analysis solutions',\n",
       " 'Emotional Intelligence (EI) and resilience',\n",
       " 'Their ability to learn from experience and to memorize previous experiences in order to optimize fitness',\n",
       " 'abiotic stresses as well as microbial and insect attack',\n",
       " 'Extended dynamic modeling',\n",
       " 'Meiring GA, Myburgh HC',\n",
       " 'near infrared and infrared spectroscopy, capillary zone electrophoresis and ultraviolet-visible spectrophotometry',\n",
       " 'Two different perspectives are the main focus of this book chapter',\n",
       " 'deformation-based morphometry (DBM) Jacobian mapping',\n",
       " \"Eapen M', 'Korah R', 'Geetha G'\",\n",
       " 'to search for correlations between magnetic resonance imaging findings and the retinal nerve fiber layer thickness at the macula and head of the optic nerve and WAIS-R Scores that assess multiple domains of intelligence',\n",
       " 'elevated GCs',\n",
       " '84 preterm children born at <27 weeks of gestation.',\n",
       " '9,162 contacts',\n",
       " 'Digit Span (DS) to assess STM',\n",
       " 'a significant correlation',\n",
       " 'Emotional intelligence theory',\n",
       " 'by balancing appropriate defensive reactions',\n",
       " 'Examine the cognitive profile on the Wechsler Intelligence Scales for Children (WISC-IV)',\n",
       " 'to correct the cranial vault morphology and to allow for normalized brain growth with the goal of improving cognitive function',\n",
       " 'To evaluate the presence of symptoms of attention deficit and hyperactivity disorder (ADHD) in intellectually gifted adults and children.',\n",
       " 'WAIS-IV',\n",
       " 'Liver segmentation from contrast-enhanced abdominal CT volumes',\n",
       " 'a positive association',\n",
       " 'A prospective cross-sectional study',\n",
       " 'to determine whether smart-tablet-based neurofeedback could improve executive function-including attention, working memory, and self-regulation-in children with attention problems',\n",
       " 'adolescents with sNSC in this cohort had few areas of brain dysmorphology many years after surgery',\n",
       " 'by means of the German version of the Mayer-Salovey-Caruso-Emotional-Intelligence Test (MSCEIT)',\n",
       " \"Nader AM', 'Jelenic P', 'Soulieres I'\",\n",
       " 'the emergence of the field of computational intelligence (CI) consisting primarily of the three fields of neural networks, evolutionary computing and fuzzy logic',\n",
       " 'carry-over effects of these tests',\n",
       " 'A sufficiently in-depth molecular diagnosis of the personal cancer of a given patient',\n",
       " 'Adult Self-Report Scale (ASRS-18) was used to assess ADHD symptoms in gifted adults.',\n",
       " 'Emotional Intelligence (EI) and resilience',\n",
       " 'temporal, occipital, insular, and limbic regions and in the brain areas involved in social/behavior and salience integration.',\n",
       " 'Challenges in data availability and quality',\n",
       " '17',\n",
       " 'congenital adrenal hyperplasia (CAH)',\n",
       " 'One hundred and eighty']"
      ]
     },
     "execution_count": 91,
     "metadata": {},
     "output_type": "execute_result"
    }
   ],
   "source": [
    "ground_truth"
   ]
  },
  {
   "cell_type": "code",
   "execution_count": 92,
   "metadata": {},
   "outputs": [],
   "source": [
    "bleu_simple = bleu.compute(predictions=predict_ans, references=ground_truth)\n"
   ]
  },
  {
   "cell_type": "code",
   "execution_count": 93,
   "metadata": {},
   "outputs": [
    {
     "data": {
      "text/plain": [
       "{'bleu': 0.021234976208991882,\n",
       " 'precisions': [0.09269662921348315,\n",
       "  0.04778156996587031,\n",
       "  0.03361344537815126,\n",
       "  0.031746031746031744],\n",
       " 'brevity_penalty': 0.45542835928760594,\n",
       " 'length_ratio': 0.559748427672956,\n",
       " 'translation_length': 356,\n",
       " 'reference_length': 636}"
      ]
     },
     "execution_count": 93,
     "metadata": {},
     "output_type": "execute_result"
    }
   ],
   "source": [
    "bleu_simple"
   ]
  },
  {
   "cell_type": "code",
   "execution_count": 94,
   "metadata": {},
   "outputs": [
    {
     "data": {
      "text/plain": [
       "{'rouge1': 0.07121220296386915,\n",
       " 'rouge2': 0.03434138253747762,\n",
       " 'rougeL': 0.06965937247015196,\n",
       " 'rougeLsum': 0.06946379441308448}"
      ]
     },
     "execution_count": 94,
     "metadata": {},
     "output_type": "execute_result"
    }
   ],
   "source": [
    "rouge_simple = rouge.compute(predictions=predict_ans,references=ground_truth)\n",
    "rouge_simple"
   ]
  },
  {
   "cell_type": "code",
   "execution_count": null,
   "metadata": {},
   "outputs": [],
   "source": [
    "import numpy as np\n",
    "\n",
    "# Locally not work\n",
    "bertscore_simple = bertscore.compute(predictions=predict_ans, references=ground_truth, lang=\"en\")\n",
    "bertscore_simple_averaged={}\n",
    "for key in bertscore_simple.keys():\n",
    "  if key!='hashcode':\n",
    "    bertscore_simple_averaged[key]=np.mean(bertscore_simple[key])\n",
    "\n",
    "### your code ###\n",
    "print(\"Simple system:\")\n",
    "print(bertscore_simple_averaged)"
   ]
  },
  {
   "cell_type": "markdown",
   "metadata": {},
   "source": [
    "## continue treaining\n"
   ]
  },
  {
   "cell_type": "code",
   "execution_count": 1,
   "metadata": {},
   "outputs": [],
   "source": [
    "answer_all = True\n",
    "# load Bert\n",
    "model_checkpoint = \"distilbert-base-uncased\"\n",
    "\n",
    "batch_size = 16\n"
   ]
  },
  {
   "cell_type": "code",
   "execution_count": 2,
   "metadata": {},
   "outputs": [],
   "source": [
    "# qa pairs\n",
    "import pandas as pd\n",
    "from datasets import Dataset, DatasetDict\n",
    "with open('../testing_QA/reformatting_testing_qa_extracted.csv','r',encoding='utf-8') as f:\n",
    "    df_c = pd.read_csv(f)\n"
   ]
  },
  {
   "cell_type": "code",
   "execution_count": 3,
   "metadata": {},
   "outputs": [
    {
     "data": {
      "text/html": [
       "<div>\n",
       "<style scoped>\n",
       "    .dataframe tbody tr th:only-of-type {\n",
       "        vertical-align: middle;\n",
       "    }\n",
       "\n",
       "    .dataframe tbody tr th {\n",
       "        vertical-align: top;\n",
       "    }\n",
       "\n",
       "    .dataframe thead th {\n",
       "        text-align: right;\n",
       "    }\n",
       "</style>\n",
       "<table border=\"1\" class=\"dataframe\">\n",
       "  <thead>\n",
       "    <tr style=\"text-align: right;\">\n",
       "      <th></th>\n",
       "      <th>question</th>\n",
       "      <th>answer</th>\n",
       "      <th>start_point</th>\n",
       "      <th>article_title</th>\n",
       "      <th>PMID</th>\n",
       "      <th>author</th>\n",
       "      <th>context</th>\n",
       "      <th>article_date</th>\n",
       "    </tr>\n",
       "  </thead>\n",
       "  <tbody>\n",
       "    <tr>\n",
       "      <th>0</th>\n",
       "      <td>Who are the authors of the article on the disc...</td>\n",
       "      <td>Nader AM', 'Jelenic P', 'Soulieres I'</td>\n",
       "      <td>Author: ['Nader AM', 'Jelenic P', 'Soulieres I']</td>\n",
       "      <td>Discrepancy between WISC-III and WISC-IV Cogni...</td>\n",
       "      <td>26673881</td>\n",
       "      <td>Nader AM, Jelenic P, Soulieres I</td>\n",
       "      <td>The cognitive profile and measured intellectua...</td>\n",
       "      <td>2015/12/18</td>\n",
       "    </tr>\n",
       "    <tr>\n",
       "      <th>1</th>\n",
       "      <td>What is the focus of the cognitive profile exa...</td>\n",
       "      <td>Examine the cognitive profile on the Wechsler ...</td>\n",
       "      <td>Abstract:The cognitive profile and measured in...</td>\n",
       "      <td>Discrepancy between WISC-III and WISC-IV Cogni...</td>\n",
       "      <td>26673881</td>\n",
       "      <td>Nader AM, Jelenic P, Soulieres I</td>\n",
       "      <td>The cognitive profile and measured intellectua...</td>\n",
       "      <td>2015/12/18</td>\n",
       "    </tr>\n",
       "    <tr>\n",
       "      <th>2</th>\n",
       "      <td>How many children with autism were part of the...</td>\n",
       "      <td>51</td>\n",
       "      <td>The third aim was to examine the impact of the...</td>\n",
       "      <td>Discrepancy between WISC-III and WISC-IV Cogni...</td>\n",
       "      <td>26673881</td>\n",
       "      <td>Nader AM, Jelenic P, Soulieres I</td>\n",
       "      <td>The cognitive profile and measured intellectua...</td>\n",
       "      <td>2015/12/18</td>\n",
       "    </tr>\n",
       "    <tr>\n",
       "      <th>3</th>\n",
       "      <td>What percentage increase was observed in the d...</td>\n",
       "      <td>nearly tripled</td>\n",
       "      <td>Autistic children scored significantly higher ...</td>\n",
       "      <td>Discrepancy between WISC-III and WISC-IV Cogni...</td>\n",
       "      <td>26673881</td>\n",
       "      <td>Nader AM, Jelenic P, Soulieres I</td>\n",
       "      <td>The cognitive profile and measured intellectua...</td>\n",
       "      <td>2015/12/18</td>\n",
       "    </tr>\n",
       "    <tr>\n",
       "      <th>4</th>\n",
       "      <td>What are the two main perspectives focused on ...</td>\n",
       "      <td>Two different perspectives are the main focus ...</td>\n",
       "      <td>69</td>\n",
       "      <td>Systems Medicine in Oncology: Signaling Networ...</td>\n",
       "      <td>26677185</td>\n",
       "      <td>Parodi S, Riccardi G, Castagnino N, Tortolina ...</td>\n",
       "      <td>Two different perspectives are the main focus ...</td>\n",
       "      <td>2015/12/18</td>\n",
       "    </tr>\n",
       "    <tr>\n",
       "      <th>...</th>\n",
       "      <td>...</td>\n",
       "      <td>...</td>\n",
       "      <td>...</td>\n",
       "      <td>...</td>\n",
       "      <td>...</td>\n",
       "      <td>...</td>\n",
       "      <td>...</td>\n",
       "      <td>...</td>\n",
       "    </tr>\n",
       "    <tr>\n",
       "      <th>74</th>\n",
       "      <td>What signs of manipulation were found in the c...</td>\n",
       "      <td>addition of glue on the boxes and the vials, d...</td>\n",
       "      <td>1171</td>\n",
       "      <td>Counterfeit analysis strategy illustrated by a...</td>\n",
       "      <td>26692552</td>\n",
       "      <td>Degardin K, Roggo Y</td>\n",
       "      <td>Medicine counterfeiting is a current problem t...</td>\n",
       "      <td>2015/12/23</td>\n",
       "    </tr>\n",
       "    <tr>\n",
       "      <th>75</th>\n",
       "      <td>Who are the authors of the paper on nature-ins...</td>\n",
       "      <td>Siddique N', 'Adeli H</td>\n",
       "      <td>Author: ['Siddique N', 'Adeli H']</td>\n",
       "      <td>Nature Inspired Computing: An Overview and Som...</td>\n",
       "      <td>26693257</td>\n",
       "      <td>Siddique N, Adeli H</td>\n",
       "      <td>This paper presents an overview of significant...</td>\n",
       "      <td>2015/12/23</td>\n",
       "    </tr>\n",
       "    <tr>\n",
       "      <th>76</th>\n",
       "      <td>What is the focus of the paper on nature-inspi...</td>\n",
       "      <td>significant advances made in the emerging fiel...</td>\n",
       "      <td>This paper presents an overview of significant...</td>\n",
       "      <td>Nature Inspired Computing: An Overview and Som...</td>\n",
       "      <td>26693257</td>\n",
       "      <td>Siddique N, Adeli H</td>\n",
       "      <td>This paper presents an overview of significant...</td>\n",
       "      <td>2015/12/23</td>\n",
       "    </tr>\n",
       "    <tr>\n",
       "      <th>77</th>\n",
       "      <td>What has paralleled the development of 'nature...</td>\n",
       "      <td>the emergence of the field of computational in...</td>\n",
       "      <td>A parallel development in the past two decades...</td>\n",
       "      <td>Nature Inspired Computing: An Overview and Som...</td>\n",
       "      <td>26693257</td>\n",
       "      <td>Siddique N, Adeli H</td>\n",
       "      <td>This paper presents an overview of significant...</td>\n",
       "      <td>2015/12/23</td>\n",
       "    </tr>\n",
       "    <tr>\n",
       "      <th>78</th>\n",
       "      <td>What is advocated by the authors in respect to...</td>\n",
       "      <td>more cross-fertilisation of the two emerging f...</td>\n",
       "      <td>The authors advocate and foresee more cross-fe...</td>\n",
       "      <td>Nature Inspired Computing: An Overview and Som...</td>\n",
       "      <td>26693257</td>\n",
       "      <td>Siddique N, Adeli H</td>\n",
       "      <td>This paper presents an overview of significant...</td>\n",
       "      <td>2015/12/23</td>\n",
       "    </tr>\n",
       "  </tbody>\n",
       "</table>\n",
       "<p>79 rows × 8 columns</p>\n",
       "</div>"
      ],
      "text/plain": [
       "                                             question  \\\n",
       "0   Who are the authors of the article on the disc...   \n",
       "1   What is the focus of the cognitive profile exa...   \n",
       "2   How many children with autism were part of the...   \n",
       "3   What percentage increase was observed in the d...   \n",
       "4   What are the two main perspectives focused on ...   \n",
       "..                                                ...   \n",
       "74  What signs of manipulation were found in the c...   \n",
       "75  Who are the authors of the paper on nature-ins...   \n",
       "76  What is the focus of the paper on nature-inspi...   \n",
       "77  What has paralleled the development of 'nature...   \n",
       "78  What is advocated by the authors in respect to...   \n",
       "\n",
       "                                               answer  \\\n",
       "0               Nader AM', 'Jelenic P', 'Soulieres I'   \n",
       "1   Examine the cognitive profile on the Wechsler ...   \n",
       "2                                                  51   \n",
       "3                                      nearly tripled   \n",
       "4   Two different perspectives are the main focus ...   \n",
       "..                                                ...   \n",
       "74  addition of glue on the boxes and the vials, d...   \n",
       "75                              Siddique N', 'Adeli H   \n",
       "76  significant advances made in the emerging fiel...   \n",
       "77  the emergence of the field of computational in...   \n",
       "78  more cross-fertilisation of the two emerging f...   \n",
       "\n",
       "                                          start_point  \\\n",
       "0    Author: ['Nader AM', 'Jelenic P', 'Soulieres I']   \n",
       "1   Abstract:The cognitive profile and measured in...   \n",
       "2   The third aim was to examine the impact of the...   \n",
       "3   Autistic children scored significantly higher ...   \n",
       "4                                                  69   \n",
       "..                                                ...   \n",
       "74                                               1171   \n",
       "75                  Author: ['Siddique N', 'Adeli H']   \n",
       "76  This paper presents an overview of significant...   \n",
       "77  A parallel development in the past two decades...   \n",
       "78  The authors advocate and foresee more cross-fe...   \n",
       "\n",
       "                                        article_title      PMID  \\\n",
       "0   Discrepancy between WISC-III and WISC-IV Cogni...  26673881   \n",
       "1   Discrepancy between WISC-III and WISC-IV Cogni...  26673881   \n",
       "2   Discrepancy between WISC-III and WISC-IV Cogni...  26673881   \n",
       "3   Discrepancy between WISC-III and WISC-IV Cogni...  26673881   \n",
       "4   Systems Medicine in Oncology: Signaling Networ...  26677185   \n",
       "..                                                ...       ...   \n",
       "74  Counterfeit analysis strategy illustrated by a...  26692552   \n",
       "75  Nature Inspired Computing: An Overview and Som...  26693257   \n",
       "76  Nature Inspired Computing: An Overview and Som...  26693257   \n",
       "77  Nature Inspired Computing: An Overview and Som...  26693257   \n",
       "78  Nature Inspired Computing: An Overview and Som...  26693257   \n",
       "\n",
       "                                               author  \\\n",
       "0                    Nader AM, Jelenic P, Soulieres I   \n",
       "1                    Nader AM, Jelenic P, Soulieres I   \n",
       "2                    Nader AM, Jelenic P, Soulieres I   \n",
       "3                    Nader AM, Jelenic P, Soulieres I   \n",
       "4   Parodi S, Riccardi G, Castagnino N, Tortolina ...   \n",
       "..                                                ...   \n",
       "74                                Degardin K, Roggo Y   \n",
       "75                                Siddique N, Adeli H   \n",
       "76                                Siddique N, Adeli H   \n",
       "77                                Siddique N, Adeli H   \n",
       "78                                Siddique N, Adeli H   \n",
       "\n",
       "                                              context article_date  \n",
       "0   The cognitive profile and measured intellectua...   2015/12/18  \n",
       "1   The cognitive profile and measured intellectua...   2015/12/18  \n",
       "2   The cognitive profile and measured intellectua...   2015/12/18  \n",
       "3   The cognitive profile and measured intellectua...   2015/12/18  \n",
       "4   Two different perspectives are the main focus ...   2015/12/18  \n",
       "..                                                ...          ...  \n",
       "74  Medicine counterfeiting is a current problem t...   2015/12/23  \n",
       "75  This paper presents an overview of significant...   2015/12/23  \n",
       "76  This paper presents an overview of significant...   2015/12/23  \n",
       "77  This paper presents an overview of significant...   2015/12/23  \n",
       "78  This paper presents an overview of significant...   2015/12/23  \n",
       "\n",
       "[79 rows x 8 columns]"
      ]
     },
     "execution_count": 3,
     "metadata": {},
     "output_type": "execute_result"
    }
   ],
   "source": [
    "df_c"
   ]
  },
  {
   "cell_type": "code",
   "execution_count": 4,
   "metadata": {},
   "outputs": [
    {
     "name": "stderr",
     "output_type": "stream",
     "text": [
      "C:\\Users\\Choi\\AppData\\Local\\Temp\\ipykernel_9252\\2352966882.py:27: FutureWarning: Setting an item of incompatible dtype is deprecated and will raise in a future error of pandas. Value '0' has dtype incompatible with float64, please explicitly cast to a compatible dtype first.\n",
      "  df_latest.at[i, 'id']= str(int(i))\n"
     ]
    }
   ],
   "source": [
    "from copy import deepcopy\n",
    "df_latest = deepcopy(df_c)\n",
    "\n",
    "col_name=df_latest.columns.tolist() \n",
    "col_name.insert(0, 'id')\n",
    "\n",
    "df_latest = df_latest.reindex(columns=col_name)  \n",
    "\n",
    "for i in range(len(df_c['answer'])):\n",
    "    new_context = f\"Title:{df_c['article_title'][i]}\\nAuthor: {df_c['author'][i]}\\n Abstract:{df_c['context'][i]}\\n Article date:{df_c['article_date'][i]}\"\n",
    "    if not df_c['start_point'][i].isnumeric():\n",
    "        start_point = new_context.index(' '.join(df_c['start_point'][i].replace('[','').replace(']','').replace('\\'','').split())[0:2])\n",
    "        df_latest.replace({\"start_point\": {\n",
    "                df_c['start_point'][i]: str([start_point])\n",
    "            }}, inplace=True)\n",
    "        temp_answer = {'text': [df_c['answer'][i]], 'answer_start': [start_point]}\n",
    "    else:\n",
    "        temp_answer = {'text': [df_c['answer'][i]], 'answer_start': [df_c['start_point'][i]]}\n",
    "    df_latest.replace({\"answer\": {\n",
    "                df_c['answer'][i]: str(temp_answer)\n",
    "            }}, inplace=True)\n",
    "\n",
    "    df_latest.replace({\"context\": {\n",
    "                df_c['context'][i]: new_context\n",
    "            }}, inplace=True)\n",
    "    \n",
    "    df_latest.at[i, 'id']= str(int(i))"
   ]
  },
  {
   "cell_type": "code",
   "execution_count": 5,
   "metadata": {},
   "outputs": [],
   "source": [
    "# new data\n",
    "training_df = df_latest.sample(frac=0.8, axis=0, replace=False, random_state=0)\n",
    "testing_df = df_latest[~df_latest.index.isin(training_df.index)]\n"
   ]
  },
  {
   "cell_type": "code",
   "execution_count": 6,
   "metadata": {},
   "outputs": [],
   "source": [
    "training_data = Dataset.from_pandas(training_df, preserve_index=False)\n",
    "testing_data = Dataset.from_pandas(testing_df, preserve_index=False)"
   ]
  },
  {
   "cell_type": "code",
   "execution_count": 7,
   "metadata": {},
   "outputs": [],
   "source": [
    "dataset = DatasetDict()\n",
    "dataset['train'] = training_data\n",
    "dataset['validation'] = testing_data"
   ]
  },
  {
   "cell_type": "code",
   "execution_count": 53,
   "metadata": {},
   "outputs": [
    {
     "data": {
      "application/vnd.jupyter.widget-view+json": {
       "model_id": "b3f3beae2b8e4b8a8bad98440506dc1e",
       "version_major": 2,
       "version_minor": 0
      },
      "text/plain": [
       "tokenizer_config.json:   0%|          | 0.00/1.20k [00:00<?, ?B/s]"
      ]
     },
     "metadata": {},
     "output_type": "display_data"
    },
    {
     "name": "stderr",
     "output_type": "stream",
     "text": [
      "f:\\Heidelberg\\semester_5\\INLPT\\Final Project\\.venv\\lib\\site-packages\\huggingface_hub\\file_download.py:149: UserWarning: `huggingface_hub` cache-system uses symlinks by default to efficiently store duplicated files but your machine does not support them in C:\\Users\\Choi\\.cache\\huggingface\\hub\\models--choichoi--transformer_qa_with_batch. Caching files will still work but in a degraded version that might require more space on your disk. This warning can be disabled by setting the `HF_HUB_DISABLE_SYMLINKS_WARNING` environment variable. For more details, see https://huggingface.co/docs/huggingface_hub/how-to-cache#limitations.\n",
      "To support symlinks on Windows, you either need to activate Developer Mode or to run Python as an administrator. In order to see activate developer mode, see this article: https://docs.microsoft.com/en-us/windows/apps/get-started/enable-your-device-for-development\n",
      "  warnings.warn(message)\n"
     ]
    },
    {
     "data": {
      "application/vnd.jupyter.widget-view+json": {
       "model_id": "80027934ad20478ca6ad698d8bd6f34c",
       "version_major": 2,
       "version_minor": 0
      },
      "text/plain": [
       "vocab.txt:   0%|          | 0.00/232k [00:00<?, ?B/s]"
      ]
     },
     "metadata": {},
     "output_type": "display_data"
    },
    {
     "data": {
      "application/vnd.jupyter.widget-view+json": {
       "model_id": "18461199c290453ca11106daffd6372b",
       "version_major": 2,
       "version_minor": 0
      },
      "text/plain": [
       "tokenizer.json:   0%|          | 0.00/712k [00:00<?, ?B/s]"
      ]
     },
     "metadata": {},
     "output_type": "display_data"
    },
    {
     "data": {
      "application/vnd.jupyter.widget-view+json": {
       "model_id": "21be6b119d574be29960a6b785ae3ace",
       "version_major": 2,
       "version_minor": 0
      },
      "text/plain": [
       "special_tokens_map.json:   0%|          | 0.00/125 [00:00<?, ?B/s]"
      ]
     },
     "metadata": {},
     "output_type": "display_data"
    }
   ],
   "source": [
    "from transformers import AutoTokenizer\n",
    "    \n",
    "\n",
    "tokenizer = AutoTokenizer.from_pretrained(\"choichoi/transformer_qa_with_batch\")"
   ]
  },
  {
   "cell_type": "code",
   "execution_count": 27,
   "metadata": {},
   "outputs": [],
   "source": [
    "from transformers import TrainingArguments\n",
    "pushing_args = TrainingArguments(\n",
    "    output_dir= \"transformer_qa_with_batch\",\n",
    "    evaluation_strategy = \"epoch\",\n",
    "    learning_rate=2e-5, \n",
    "    per_device_train_batch_size=batch_size,\n",
    "    per_device_eval_batch_size=batch_size,\n",
    "    num_train_epochs=3, \n",
    "    weight_decay=0.01,\n",
    "    # push_to_hub= True\n",
    ")"
   ]
  },
  {
   "cell_type": "code",
   "execution_count": 33,
   "metadata": {},
   "outputs": [],
   "source": [
    "pad_on_right = tokenizer.padding_side == \"right\" #context on the right"
   ]
  },
  {
   "cell_type": "code",
   "execution_count": 35,
   "metadata": {},
   "outputs": [],
   "source": [
    "max_length = 384 # max length of input feature\n",
    "doc_stride = 128 # repeat tokens number between 2 slices"
   ]
  },
  {
   "cell_type": "code",
   "execution_count": 37,
   "metadata": {},
   "outputs": [
    {
     "data": {
      "application/vnd.jupyter.widget-view+json": {
       "model_id": "08eb5a016a254bce9aca939c8645bac0",
       "version_major": 2,
       "version_minor": 0
      },
      "text/plain": [
       "Map:   0%|          | 0/63 [00:00<?, ? examples/s]"
      ]
     },
     "metadata": {},
     "output_type": "display_data"
    },
    {
     "data": {
      "application/vnd.jupyter.widget-view+json": {
       "model_id": "9cd8d5f67b164dd78bdb91c0d5d8fb3a",
       "version_major": 2,
       "version_minor": 0
      },
      "text/plain": [
       "Map:   0%|          | 0/16 [00:00<?, ? examples/s]"
      ]
     },
     "metadata": {},
     "output_type": "display_data"
    }
   ],
   "source": [
    "import ast\n",
    "\n",
    "tokenized_datasets = dataset.map(prepare_train_features, batched=True, remove_columns=training_data.column_names)"
   ]
  },
  {
   "cell_type": "code",
   "execution_count": 28,
   "metadata": {},
   "outputs": [],
   "source": [
    "from transformers import default_data_collator, Trainer\n",
    "\n",
    "data_collator = default_data_collator"
   ]
  },
  {
   "cell_type": "code",
   "execution_count": null,
   "metadata": {},
   "outputs": [],
   "source": [
    "from transformers import AutoModelForQuestionAnswering\n",
    "pre_model = AutoModelForQuestionAnswering.from_pretrained(\"choichoi/transformer_qa_with_batch\")"
   ]
  },
  {
   "cell_type": "code",
   "execution_count": 38,
   "metadata": {},
   "outputs": [
    {
     "ename": "NameError",
     "evalue": "name 'Trainer' is not defined",
     "output_type": "error",
     "traceback": [
      "\u001b[1;31m---------------------------------------------------------------------------\u001b[0m",
      "\u001b[1;31mNameError\u001b[0m                                 Traceback (most recent call last)",
      "Cell \u001b[1;32mIn[38], line 1\u001b[0m\n\u001b[1;32m----> 1\u001b[0m trainer \u001b[38;5;241m=\u001b[39m \u001b[43mTrainer\u001b[49m(\n\u001b[0;32m      2\u001b[0m     pre_model,\n\u001b[0;32m      3\u001b[0m     pushing_args,\n\u001b[0;32m      4\u001b[0m     train_dataset\u001b[38;5;241m=\u001b[39mtokenized_datasets[\u001b[38;5;124m\"\u001b[39m\u001b[38;5;124mtrain\u001b[39m\u001b[38;5;124m\"\u001b[39m],\n\u001b[0;32m      5\u001b[0m     eval_dataset\u001b[38;5;241m=\u001b[39mtokenized_datasets[\u001b[38;5;124m\"\u001b[39m\u001b[38;5;124mvalidation\u001b[39m\u001b[38;5;124m\"\u001b[39m],\n\u001b[0;32m      6\u001b[0m     data_collator\u001b[38;5;241m=\u001b[39mdata_collator,\n\u001b[0;32m      7\u001b[0m     tokenizer\u001b[38;5;241m=\u001b[39mtokenizer,\n\u001b[0;32m      8\u001b[0m )\n",
      "\u001b[1;31mNameError\u001b[0m: name 'Trainer' is not defined"
     ]
    }
   ],
   "source": [
    "trainer = Trainer(\n",
    "    pre_model,\n",
    "    pushing_args,\n",
    "    train_dataset=tokenized_datasets[\"train\"],\n",
    "    eval_dataset=tokenized_datasets[\"validation\"],\n",
    "    data_collator=data_collator,\n",
    "    tokenizer=tokenizer,\n",
    ")"
   ]
  },
  {
   "cell_type": "code",
   "execution_count": null,
   "metadata": {},
   "outputs": [],
   "source": [
    "trainer.train()"
   ]
  },
  {
   "cell_type": "code",
   "execution_count": null,
   "metadata": {},
   "outputs": [],
   "source": [
    "trainer.push_to_hub(\"transformer_qa_with_batch\")"
   ]
  }
 ],
 "metadata": {
  "kernelspec": {
   "display_name": ".venv",
   "language": "python",
   "name": "python3"
  },
  "language_info": {
   "codemirror_mode": {
    "name": "ipython",
    "version": 3
   },
   "file_extension": ".py",
   "mimetype": "text/x-python",
   "name": "python",
   "nbconvert_exporter": "python",
   "pygments_lexer": "ipython3",
   "version": "3.10.11"
  }
 },
 "nbformat": 4,
 "nbformat_minor": 2
}
