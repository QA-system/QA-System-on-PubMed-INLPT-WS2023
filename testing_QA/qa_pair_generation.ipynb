{
 "cells": [
  {
   "cell_type": "code",
   "execution_count": 1,
   "metadata": {},
   "outputs": [],
   "source": [
    "from openai import OpenAI\n",
    "import os\n",
    "from dotenv import load_dotenv\n",
    "\n",
    "load_dotenv()\n",
    "\n",
    "client_open_ai = OpenAI(api_key=os.environ.get(\"OPEN_AI_API_KEY\"))"
   ]
  },
  {
   "cell_type": "code",
   "execution_count": 2,
   "metadata": {},
   "outputs": [],
   "source": [
    "from opensearchpy import OpenSearch\n",
    "\n",
    "def get_open_search_client():\n",
    "    host = 'localhost'\n",
    "    port = 9200\n",
    "\n",
    "    auth = ('admin', 'admin')\n",
    "\n",
    "    client_open_search = OpenSearch(\n",
    "        hosts = [{'host': host, 'port': port}],\n",
    "        http_auth = auth,\n",
    "        use_ssl = True,\n",
    "        verify_certs = False\n",
    "    )\n",
    "    return client_open_search"
   ]
  },
  {
   "cell_type": "code",
   "execution_count": 3,
   "metadata": {},
   "outputs": [],
   "source": [
    "def open_search_quary(search_body, index_name, client_open_search, size, from_where: int=None):\n",
    "    response = client_open_search.search(index=index_name, body=search_body, size=size, from_=from_where)\n",
    "    if len(response['hits'])>0:\n",
    "        return response['hits']['hits']\n",
    "    else:\n",
    "        print('There is no hits in open search DB.')\n",
    "        return None"
   ]
  },
  {
   "cell_type": "code",
   "execution_count": 4,
   "metadata": {},
   "outputs": [],
   "source": [
    "def query_with_open_AI(paper_detail):\n",
    "  completion = client_open_ai.chat.completions.create(\n",
    "    model=\"gpt-3.5-turbo\",\n",
    "    messages=[\n",
    "      {\"role\": \"system\", \"content\": 'Generate 4 QA pairs for these information, inforamtion is seperated with \\\\n'},\n",
    "      {\"role\": \"user\", \"content\": f\"{paper_detail['Title']}\\n{paper_detail['Authors']}\\n{paper_detail['Abstract']}\\n{paper_detail['ArticleDate']}\"},\n",
    "      {\"role\": \"system\", \"content\": 'Output question and answer as dictionary of list'},\n",
    "    ],\n",
    "  )\n",
    "  print(f\"{completion.choices[0].message.content}\\n\")\n",
    "\n",
    "  return completion.choices[0].message.content\n",
    "\n"
   ]
  },
  {
   "cell_type": "code",
   "execution_count": 5,
   "metadata": {},
   "outputs": [],
   "source": [
    "import time\n",
    "import ast\n",
    "def generate_qa_pairs(paper_detail):\n",
    "    data = []\n",
    "    for i in paper_detail:\n",
    "        paper = i['_source']\n",
    "        result = query_with_open_AI(paper)\n",
    "        result_cleaned = result.replace('\\n', '')\n",
    "        formatted_qa_dict = ast.literal_eval(result_cleaned)\n",
    "        questions_list = formatted_qa_dict['questions']\n",
    "        answers_list = [answer[0] if len(answer)>0 and type(answer)==list else answer for answer in formatted_qa_dict['answers']]\n",
    "\n",
    "        article_title = paper['Title']\n",
    "        PMID = paper['PMID']\n",
    "        author = paper['Authors']\n",
    "        article_date = paper['ArticleDate']\n",
    "        context = paper['Abstract']\n",
    "        final_result = [[qu, an, article_title, PMID, author, context ,article_date] for qu, an in zip(questions_list, answers_list)]\n",
    "        data+=final_result\n",
    "        # Avoid OpenAI blocking\n",
    "        time.sleep(10)\n",
    "    return data"
   ]
  },
  {
   "cell_type": "code",
   "execution_count": 6,
   "metadata": {},
   "outputs": [
    {
     "name": "stderr",
     "output_type": "stream",
     "text": [
      "f:\\Heidelberg\\semester_5\\INLPT\\Final Project\\.venv\\lib\\site-packages\\opensearchpy\\connection\\http_urllib3.py:208: UserWarning: Connecting to https://localhost:9200 using SSL with verify_certs=False is insecure.\n",
      "  warnings.warn(\n"
     ]
    }
   ],
   "source": [
    "import csv\n",
    "import urllib3\n",
    "\n",
    "urllib3.disable_warnings(urllib3.exceptions.InsecureRequestWarning)\n",
    "\n",
    "index_name = 'pubmed_intelligence'\n",
    "\n",
    "saving_file_name = 'reformatting_testing_qa.csv'\n",
    "\n",
    "header = ['question', 'answer', 'article_title', 'PMID', 'author', 'context', 'article_date']\n",
    "\n",
    "client_open_search = get_open_search_client()\n",
    "\n",
    "search_body = {\n",
    "    \"query\": {\n",
    "        \"match\": {\n",
    "            \"_index\": index_name\n",
    "        }\n",
    "    },\n",
    "}\n",
    "\n",
    "query_result = open_search_quary(search_body,index_name,client_open_search, 5, 2)\n"
   ]
  },
  {
   "cell_type": "code",
   "execution_count": 9,
   "metadata": {},
   "outputs": [
    {
     "name": "stdout",
     "output_type": "stream",
     "text": [
      "{\n",
      "  \"questions\": [\n",
      "    \"What was the purpose of the study on new-onset benign epilepsy with centrotemporal spikes (BECTS)?\",\n",
      "    \"How many children with BECTS and healthy children were enrolled in the study?\",\n",
      "    \"Which domains showed significant differences between patients with BECTS and healthy controls?\",\n",
      "    \"What implications did the study's results suggest for the assessment and intervention of children with new-onset BECTS?\"\n",
      "  ],\n",
      "  \"answers\": [\n",
      "    \"The purpose of the study was to define the very early neuropsychological profile of children with benign epilepsy with centrotemporal spikes (BECTS), focusing on executive functions.\",\n",
      "    \"Fifteen school-aged children with BECTS and fifteen healthy children were enrolled in the study.\",\n",
      "    \"Significant differences between patients and controls emerged in the domains of language, executive functions, and academic skills.\",\n",
      "    \"The study results suggested that children with new-onset BECTS may demonstrate neuropsychological dysfunctions affecting executive attention, language, and academic skills, indicating a frontal dysfunction that warrants the inclusion of executive functions in both assessment and intervention from the very onset to prevent persistent academic difficulties.\"\n",
      "  ]\n",
      "}\n",
      "\n",
      "{\n",
      "\t\"questions\": [\n",
      "\t\t\"What is the purpose of the London Child Health and Development Study (CHADS)?\",\n",
      "\t\t\"What methods were used in the review of the London Child Health and Development Study findings?\",\n",
      "\t\t\"What were the results of the community-based screening of 9-11-year olds in the CHADS programme?\",\n",
      "\t\t\"What are the potential benefits of early intervention in the premorbid phases of schizophrenia according to the CHADS programme?\"\n",
      "\t],\n",
      "\t\"answers\": [\n",
      "\t\t[\"The purpose of the London Child Health and Development Study (CHADS) is to characterise developmental trajectories of psychological, cognitive, and biological functioning in at-risk children and identify potential targets for early preventative intervention.\"],\n",
      "\t\t[\"The review of the London Child Health and Development Study findings included epidemiological information on developmental antecedents of schizophrenia, evidence of psychosocial, cognitive, and biological dysfunctions in at-risk children, and related findings from help-seeking children receiving intervention.\"],\n",
      "\t\t[\"Community-based screening of 9-11-year olds in the CHADS programme identified approximately 9% with a triad of antecedents of schizophrenia, including psychotic-like experiences (PLEs), who exhibited increased exposure and responsivity to stressors, impairments in intelligence and cognitive functions, brain abnormalities, and neuromotor dysfunction.\"],\n",
      "\t\t[\"According to the CHADS programme, early intervention in the premorbid phases of schizophrenia may alleviate current difficulties and prevent future onset of the illness using benign treatments.\"]\n",
      "\t]\n",
      "}\n",
      "\n",
      "{\n",
      "    \"questions\": [\n",
      "        \"What is the core hypothesis in developmental theory regarding gene x childhood socioeconomic status interaction on intelligence and academic achievement?\",\n",
      "        \"What did a meta-analysis of tests of gene x socioeconomic status interaction on intelligence and academic-achievement test scores find in U.S. studies?\",\n",
      "        \"In what regions did Gene x SES effects show zero or reversed results, according to the study?\",\n",
      "        \"When was the study on large cross-national differences in gene x socioeconomic status interaction on intelligence conducted?\"\n",
      "    ],\n",
      "    \"answers\": [\n",
      "        \"The core hypothesis predicts that genetic influences are suppressed under conditions of socioeconomic privation and fully realized under conditions of socioeconomic advantage.\",\n",
      "        \"In U.S. studies, clear support for moderately sized Gene x SES effects was found.\",\n",
      "        \"Gene x SES effects showed zero or reversed results in studies from Western Europe and Australia.\",\n",
      "        \"The study was conducted on December 17, 2015.\"\n",
      "    ]\n",
      "}\n",
      "\n",
      "{\n",
      "  \"questions\": [\n",
      "    \"Who are the authors of the study on multifactorial determinants of cognition?\",\n",
      "    \"What has been considered a principal determinant of cognition development since the 1960s?\",\n",
      "    \"What factors, in addition to thyroid function, have been found to be relevant to cognition?\",\n",
      "    \"What is the importance of magnesium deficiency in relation to changes in thyroid function and cognition?\"\n",
      "  ],\n",
      "  \"answers\": [\n",
      "    [\"Moncayo R\", \"Ortner K\"],\n",
      "    [\"Hypothyroidism together with iodine deficiency\"],\n",
      "    [\"Nutrition, infection, prenatal stress, and early life stress\"],\n",
      "    [\"Magnesium deficiency appears to be a basic mechanism for changes in thyroid function as well as of cognition\"]\n",
      "  ]\n",
      "}\n",
      "\n",
      "{\n",
      "  \"questions\": [\n",
      "    \"What is the significance of studying the psychological profile of female soccer players?\",\n",
      "    \"How does emotional intelligence impact human adaptability and psychosocial functioning?\",\n",
      "    \"What tools were used in the research on psychological gender and emotional intelligence in female soccer players?\",\n",
      "    \"What were the key findings regarding psychological gender and emotional intelligence in the study of female soccer players?\"\n",
      "  ],\n",
      "  \"answers\": [\n",
      "    [\"Studying the psychological profile of female soccer players provides insights into the specific character of female youth sport and aids in identifying areas for improvement in athletic training programs, especially in mental training.\"],\n",
      "    [\"Emotional intelligence plays a significant role in human adaptability and the efficiency of psychosocial functioning, influencing the effectiveness of human behaviors.\"],\n",
      "    [\"The Gender Assessment Inventory (IPP) developed by Kuczynska and the Emotional Intelligence Questionnaire (INTE) created by Jaworowska and Matczak were used in the research.\"],\n",
      "    [\"Most female soccer players in the study were androgynous, indicating a balanced psychological gender, and their emotional intelligence levels were significantly higher compared to other participants. However, some players exhibited average or low levels of emotional intelligence, suggesting the need for intervention measures.\"]\n",
      "  ]\n",
      "}\n",
      "\n"
     ]
    }
   ],
   "source": [
    "if query_result is not None:\n",
    "\n",
    "    data = generate_qa_pairs(query_result)\n",
    "\n",
    "    with open(saving_file_name, 'a+') as f:\n",
    "        writer = csv.writer(f)\n",
    "        # write the header\n",
    "        writer.writerow(header)\n",
    "        # write the data\n",
    "        writer.writerows(data)"
   ]
  }
 ],
 "metadata": {
  "kernelspec": {
   "display_name": ".venv",
   "language": "python",
   "name": "python3"
  },
  "language_info": {
   "codemirror_mode": {
    "name": "ipython",
    "version": 3
   },
   "file_extension": ".py",
   "mimetype": "text/x-python",
   "name": "python",
   "nbconvert_exporter": "python",
   "pygments_lexer": "ipython3",
   "version": "3.10.11"
  }
 },
 "nbformat": 4,
 "nbformat_minor": 2
}
