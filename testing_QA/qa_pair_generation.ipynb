{
 "cells": [
  {
   "cell_type": "code",
   "execution_count": 1,
   "metadata": {},
   "outputs": [],
   "source": [
    "from openai import OpenAI\n",
    "import os\n",
    "from dotenv import load_dotenv\n",
    "import json\n",
    "\n",
    "load_dotenv()\n",
    "\n",
    "client_open_ai = OpenAI(api_key=os.environ.get(\"OPEN_AI_API_KEY\"))"
   ]
  },
  {
   "cell_type": "code",
   "execution_count": 2,
   "metadata": {},
   "outputs": [],
   "source": [
    "from opensearchpy import OpenSearch\n",
    "\n",
    "def get_open_search_client():\n",
    "    host = 'localhost'\n",
    "    port = 9200\n",
    "\n",
    "    auth = ('admin', 'admin')\n",
    "\n",
    "    client_open_search = OpenSearch(\n",
    "        hosts = [{'host': host, 'port': port}],\n",
    "        http_auth = auth,\n",
    "        use_ssl = True,\n",
    "        verify_certs = False\n",
    "    )\n",
    "    return client_open_search"
   ]
  },
  {
   "cell_type": "code",
   "execution_count": 3,
   "metadata": {},
   "outputs": [],
   "source": [
    "def open_search_quary(search_body, index_name, client_open_search, size, from_where: int=None):\n",
    "    response = client_open_search.search(index=index_name, body=search_body, size=size, from_=from_where)\n",
    "    if len(response['hits'])>0:\n",
    "        return response['hits']['hits']\n",
    "    else:\n",
    "        print('There is no hits in open search DB.')\n",
    "        return None"
   ]
  },
  {
   "cell_type": "code",
   "execution_count": 4,
   "metadata": {},
   "outputs": [],
   "source": [
    "def query_with_open_AI(paper_detail):\n",
    "  completion = client_open_ai.chat.completions.create(\n",
    "    model=\"gpt-3.5-turbo\",\n",
    "    messages=[\n",
    "      {\"role\": \"system\", \"content\": 'Generate 4 QA pairs for these information, inforamtion is seperated with \\\\n'},\n",
    "      {\"role\": \"user\", \"content\": f\"{paper_detail['Title']}\\n{paper_detail['Authors']}\\n{paper_detail['Abstract']}\\n{paper_detail['ArticleDate']}\"},\n",
    "      {\"role\": \"system\", \"content\": 'Return a dictionary with question and answer as keyword, the values of them are lists of generated results, like {\"question\":[\"{question1}\"...],\"answer\":[\"{answer1}\"...]}'},\n",
    "    ],\n",
    "  )\n",
    "  print(f\"{completion.choices[0].message.content}\\n\")\n",
    "\n",
    "  return json.loads(completion.choices[0].message.content)\n",
    "\n"
   ]
  },
  {
   "cell_type": "code",
   "execution_count": 5,
   "metadata": {},
   "outputs": [],
   "source": [
    "import time\n",
    "def generate_qa_pairs(paper_detail):\n",
    "    data = []\n",
    "    for i in paper_detail:\n",
    "        paper = i['_source']\n",
    "        result = query_with_open_AI(paper)\n",
    "        \n",
    "        questions_list=result['question']\n",
    "        answers_list=result['answer']\n",
    "\n",
    "        article_title = paper['Title']\n",
    "        PMID = paper['PMID']\n",
    "        author = ', '.join(paper['Authors'])\n",
    "        article_date = paper['ArticleDate']\n",
    "        context = paper['Abstract']\n",
    "        final_result = [[qu, an, article_title, PMID, author, context ,article_date] for qu, an in zip(questions_list, answers_list)]\n",
    "        data+=final_result\n",
    "        # Avoid OpenAI blocking\n",
    "        time.sleep(10)\n",
    "    return data"
   ]
  },
  {
   "cell_type": "code",
   "execution_count": 6,
   "metadata": {},
   "outputs": [
    {
     "name": "stderr",
     "output_type": "stream",
     "text": [
      "f:\\Heidelberg\\semester_5\\INLPT\\Final Project\\.venv\\lib\\site-packages\\opensearchpy\\connection\\http_urllib3.py:208: UserWarning: Connecting to https://localhost:9200 using SSL with verify_certs=False is insecure.\n",
      "  warnings.warn(\n"
     ]
    }
   ],
   "source": [
    "import csv\n",
    "import urllib3\n",
    "\n",
    "urllib3.disable_warnings(urllib3.exceptions.InsecureRequestWarning)\n",
    "\n",
    "index_name = 'pubmed_intelligence'\n",
    "\n",
    "saving_file_name = 'reformatting_testing_qa.csv'\n",
    "\n",
    "header = ['question', 'answer', 'article_title', 'PMID', 'author', 'context', 'article_date']\n",
    "\n",
    "client_open_search = get_open_search_client()\n",
    "\n",
    "search_body = {\n",
    "    \"query\": {\n",
    "        \"match\": {\n",
    "            \"_index\": index_name\n",
    "        }\n",
    "    },\n",
    "}\n",
    "\n",
    "query_result = open_search_quary(search_body,index_name,client_open_search, 5, 2)\n"
   ]
  },
  {
   "cell_type": "code",
   "execution_count": 7,
   "metadata": {},
   "outputs": [
    {
     "name": "stdout",
     "output_type": "stream",
     "text": [
      "{\n",
      "\"question\": [\n",
      "\"What is the focus of the study on new-onset benign epilepsy with centrotemporal spikes (BECTS)?\",\n",
      "\"How many children with BECTS were enrolled in the study?\",\n",
      "\"What were the significant findings in the study related to language?\",\n",
      "\"What can be inferred about the neuropsychological profile of children with new-onset BECTS based on the study?\"\n",
      "],\n",
      "\"answer\": [\n",
      "\"The focus of the study was on the neuropsychological profile, specifically on executive functions, of children with new-onset benign epilepsy with centrotemporal spikes (BECTS).\",\n",
      "\"Fifteen children with BECTS were enrolled in the study.\",\n",
      "\"The significant findings related to language in the study included difficulties in color naming, spoonerism, and phonemic synthesis in children with BECTS.\",\n",
      "\"The study suggests that children with new-onset BECTS may demonstrate neuropsychological dysfunctions, particularly affecting executive attention, despite normal IQ, low frequency of NREM sleep discharges, and absence of drugs.\"\n",
      "]\n",
      "}\n",
      "\n",
      "{\n",
      "    \"question\": [\n",
      "        \"What is the purpose of the London Child Health and Development Study (CHADS)?\",\n",
      "        \"What information does the London CHADS study aim to characterize in at-risk children?\",\n",
      "        \"What are some key findings of the London CHADS study?\",\n",
      "        \"How can early intervention in premorbid phases of schizophrenia be beneficial according to the CHADS study?\"\n",
      "    ],\n",
      "    \"answer\": [\n",
      "        \"The purpose of the London Child Health and Development Study (CHADS) is to investigate children aged 9-11 years with premorbid risk markers for schizophrenia, aiming to identify potential targets for early preventative intervention.\",\n",
      "        \"The London CHADS study aims to characterize developmental trajectories of psychological, cognitive, and biological functioning in at-risk children.\",\n",
      "        \"Key findings of the London CHADS study include identifying ~9% of at-risk 9-11-year olds with a triad of antecedents of schizophrenia, such as exposure to stressors, cognitive impairments, brain abnormalities, and neuromotor dysfunction.\",\n",
      "        \"According to the CHADS study, early intervention in premorbid phases of schizophrenia might alleviate current difficulties and prevent future schizophrenia using benign treatments.\"\n",
      "    ]\n",
      "}\n",
      "\n",
      "{\n",
      "\"question\": [\n",
      "\"What is the core hypothesis in developmental theory regarding genetic influences on intelligence?\",\n",
      "\"What were the findings of the meta-analysis on Gene x SES interaction on intelligence from studies in the United States?\",\n",
      "\"What were the findings of the meta-analysis on Gene x SES interaction on intelligence from studies in Western Europe and Australia?\",\n",
      "\"What did the authors find in regards to Gene x Childhood Socioeconomic Status effects based on national differences in their meta-analysis?\"\n",
      "],\n",
      "\"answer\": [\n",
      "\"The core hypothesis in developmental theory predicts that genetic influences on intelligence and academic achievement are suppressed under conditions of socioeconomic privation and more fully realized under conditions of socioeconomic advantage.\",\n",
      "\"The meta-analysis found clear support for moderately sized Gene x SES effects in studies conducted in the United States.\",\n",
      "\"In studies from Western Europe and Australia, where social policies ensure more uniform access to high-quality education and health care, Gene x SES effects were zero or reversed.\",\n",
      "\"The authors found large cross-national differences in Gene x Socioeconomic Status interaction on intelligence, with U.S. studies showing support for Gene x SES effects while studies in Western Europe and Australia showed zero or reversed effects.\"\n",
      "]\n",
      "}\n",
      "\n",
      "{\n",
      "    \"question\": [\n",
      "        \"What has been considered a principal determinant of cognition development since the 1960s?\",\n",
      "        \"What are some additional factors relevant to cognition besides thyroid function?\",\n",
      "        \"What are some frequent elements in subjects with thyroid dysfunction that can impact cognition?\",\n",
      "        \"According to recent studies, what failed to show an influence on intellectual development during pregnancy?\"\n",
      "    ],\n",
      "    \"answer\": [\n",
      "        [\"Hypothyroidism together with iodine deficiency.\", \"Iodine deficiency and hypothyroidism have been considered as principal determinants of cognition development since the 1960s.\"],\n",
      "        [\"Nutrition, infection, prenatal stress, and early life stress.\", \"Besides thyroid function, factors relevant to cognition include nutrition, infection, prenatal stress, and early life stress.\"],\n",
      "        [\"Both physical and psychological stress.\", \"Physical and psychological stress are frequent elements in subjects with thyroid dysfunction that can impact cognition.\"],\n",
      "        [\"Thyroid medication during pregnancy.\", \"According to recent studies, thyroid medication during pregnancy failed to show an influence on intellectual development.\"]\n",
      "    ]\n",
      "}\n",
      "\n",
      "{\n",
      "\"question\": [\"What is the focus of the research on female youth soccer players?\", \"Why is it important to study psychological gender in female soccer players?\", \"What tools were used in the research on female soccer players?\", \"What were the findings regarding emotional intelligence in female soccer players?\"],\n",
      "\"answer\": [\"The focus of the research is on the psychological gender and emotional intelligence of female youth soccer players.\", \"Studying psychological gender in female soccer players is important to understand their social behaviors and improve athletic training programmes.\", \"The tools used in the research were the Gender Assessment Inventory (IPP) and the Emotional Intelligence Questionnaire (INTE).\", \"The findings showed that most female soccer players in the study were androgynous and had significantly higher levels of emotional intelligence compared to other participants. However, some players had average or low emotional intelligence levels.\"]\n",
      "}\n",
      "\n"
     ]
    }
   ],
   "source": [
    "if query_result is not None:\n",
    "\n",
    "    data = generate_qa_pairs(query_result)\n",
    "\n",
    "    with open(saving_file_name, 'a+') as f:\n",
    "        writer = csv.writer(f)\n",
    "        # write the header\n",
    "        writer.writerow(header)\n",
    "        # write the data\n",
    "        writer.writerows(data)"
   ]
  }
 ],
 "metadata": {
  "kernelspec": {
   "display_name": ".venv",
   "language": "python",
   "name": "python3"
  },
  "language_info": {
   "codemirror_mode": {
    "name": "ipython",
    "version": 3
   },
   "file_extension": ".py",
   "mimetype": "text/x-python",
   "name": "python",
   "nbconvert_exporter": "python",
   "pygments_lexer": "ipython3",
   "version": "3.10.11"
  }
 },
 "nbformat": 4,
 "nbformat_minor": 2
}
