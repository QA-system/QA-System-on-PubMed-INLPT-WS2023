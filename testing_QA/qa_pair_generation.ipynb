{
 "cells": [
  {
   "cell_type": "code",
   "execution_count": 1,
   "metadata": {},
   "outputs": [],
   "source": [
    "from openai import OpenAI\n",
    "import os\n",
    "from dotenv import load_dotenv\n",
    "import json\n",
    "\n",
    "load_dotenv()\n",
    "\n",
    "client_open_ai = OpenAI(api_key=os.environ.get(\"OPEN_AI_API_KEY\"))"
   ]
  },
  {
   "cell_type": "code",
   "execution_count": 2,
   "metadata": {},
   "outputs": [],
   "source": [
    "from opensearchpy import OpenSearch\n",
    "\n",
    "def get_open_search_client():\n",
    "    host = 'localhost'\n",
    "    port = 9200\n",
    "\n",
    "    auth = ('admin', 'admin')\n",
    "\n",
    "    client_open_search = OpenSearch(\n",
    "        hosts = [{'host': host, 'port': port}],\n",
    "        http_auth = auth,\n",
    "        use_ssl = True,\n",
    "        verify_certs = False\n",
    "    )\n",
    "    return client_open_search"
   ]
  },
  {
   "cell_type": "code",
   "execution_count": 3,
   "metadata": {},
   "outputs": [],
   "source": [
    "def open_search_quary(search_body, index_name, client_open_search, size, from_where: int=None):\n",
    "    response = client_open_search.search(index=index_name, body=search_body, size=size, from_=from_where)\n",
    "    if len(response['hits'])>0:\n",
    "        return response['hits']['hits']\n",
    "    else:\n",
    "        print('There is no hits in open search DB.')\n",
    "        return None"
   ]
  },
  {
   "cell_type": "code",
   "execution_count": 4,
   "metadata": {},
   "outputs": [],
   "source": [
    "def query_with_open_AI(paper_detail):\n",
    "  completion = client_open_ai.chat.completions.create(\n",
    "    model=\"gpt-3.5-turbo\",\n",
    "    messages=[\n",
    "      {\"role\": \"system\", \"content\": 'Generate around 4 QA pairs as well as the answer start point number for training for these information, inforamtion is seperated with \\\\n'},\n",
    "      {\"role\": \"user\", \"content\": f\"Title:{paper_detail['Title']}\\nAuthor: {paper_detail['Authors']}\\n Abstract:{paper_detail['Abstract']}\\n Article date:{paper_detail['ArticleDate']}\"},\n",
    "      {\"role\": \"system\", \"content\": 'Return a dictionary with question, answer, answer_start_point as keyword, the values of them are lists of generated results, the keyword should be presented!! Like {\"question\":[\"{question1}\"...],\"answer\":[\"{answer1}\"...]},\"start_point\":[\"{answer1_start_point}\"...]'},\n",
    "      {\"role\": \"system\", \"content\": 'Every answer needs to be extractable from the context.'},\n",
    "      {\"role\": \"system\", \"content\": 'answer_start_point should be digits of position where the answer starts.'},\n",
    "    ],\n",
    "  )\n",
    "  print(f\"{completion.choices[0].message.content}\\n\")\n",
    "\n",
    "  return json.loads(completion.choices[0].message.content)\n",
    "\n"
   ]
  },
  {
   "cell_type": "code",
   "execution_count": 5,
   "metadata": {},
   "outputs": [],
   "source": [
    "import time\n",
    "def generate_qa_pairs(paper_detail):\n",
    "    data = []\n",
    "    for i in paper_detail:\n",
    "        paper = i['_source']\n",
    "        result = query_with_open_AI(paper)\n",
    "        \n",
    "        questions_list=result['question']\n",
    "        answers_list=result['answer']\n",
    "        answers_start_point = result['start_point']\n",
    "\n",
    "        article_title = paper['Title']\n",
    "        PMID = paper['PMID']\n",
    "        author = ', '.join(paper['Authors'])\n",
    "        article_date = paper['ArticleDate']\n",
    "        context = paper['Abstract']\n",
    "        final_result = [[qu, an, an_s_p, article_title, PMID, author, context ,article_date] for qu, an, an_s_p in zip(questions_list, \\\n",
    "                                                                                                answers_list, answers_start_point)]\n",
    "        data+=final_result\n",
    "        # Avoid OpenAI blocking\n",
    "        time.sleep(10)\n",
    "    return data"
   ]
  },
  {
   "cell_type": "code",
   "execution_count": 6,
   "metadata": {},
   "outputs": [
    {
     "name": "stderr",
     "output_type": "stream",
     "text": [
      "f:\\Heidelberg\\semester_5\\INLPT\\Final Project\\.venv\\lib\\site-packages\\opensearchpy\\connection\\http_urllib3.py:208: UserWarning: Connecting to https://localhost:9200 using SSL with verify_certs=False is insecure.\n",
      "  warnings.warn(\n"
     ]
    }
   ],
   "source": [
    "import csv\n",
    "import urllib3\n",
    "\n",
    "urllib3.disable_warnings(urllib3.exceptions.InsecureRequestWarning)\n",
    "\n",
    "index_name = 'pubmed_intelligence'\n",
    "\n",
    "# saving_file_name = 'reformatting_testing_qa.csv'\n",
    "\n",
    "saving_file_name = 'reformatting_testing_qa_extracted.csv'\n",
    "\n",
    "header = ['question', 'answer', 'start_point', 'article_title', 'PMID', 'author', 'context', 'article_date']\n",
    "\n",
    "client_open_search = get_open_search_client()\n",
    "\n",
    "search_body = {\n",
    "    \"query\": {\n",
    "        \"match\": {\n",
    "            \"_index\": index_name\n",
    "        }\n",
    "    },\n",
    "}\n",
    "\n",
    "query_result = open_search_quary(search_body,index_name,client_open_search, 20, 8)\n"
   ]
  },
  {
   "cell_type": "code",
   "execution_count": 7,
   "metadata": {},
   "outputs": [
    {
     "name": "stdout",
     "output_type": "stream",
     "text": [
      "{\n",
      "\"question\": [\n",
      "\"What is the title of the article?\",\n",
      "\"Who are the authors of the article?\",\n",
      "\"What was the first aim of the study?\",\n",
      "\"How did the cognitive profiles of autistic children on the WISC-IV compare to those on the WISC-III?\"\n",
      "],\n",
      "\"answer\": [\n",
      "\"Discrepancy between WISC-III and WISC-IV Cognitive Profile in Autism Spectrum: What Does It Reveal about Autistic Cognition?\",\n",
      "\"['Nader AM', 'Jelenic P', 'Soulieres I']\",\n",
      "\"To examine the cognitive profile on the current version of the most widely used test, the Wechsler Intelligence Scales for Children (WISC-IV), for a homogenous subgroup of children on the autism spectrum, i.e. corresponding to DSM-IV diagnosis of 'autism'.\",\n",
      "\"Autistic children scored significantly higher on the Perceptual Reasoning Index than on the Verbal Comprehension Index, a discrepancy that nearly tripled in comparison to WISC-III results.\"\n",
      "],\n",
      "\"start_point\": [\n",
      "7,\n",
      "33,\n",
      "425,\n",
      "857\n",
      "]\n",
      "}\n",
      "\n",
      "{\n",
      "\"question\": [\n",
      "\"Who are the authors of the book chapter on Systems Medicine in Oncology?\",\n",
      "\"What are the two main perspectives discussed in the book chapter?\",\n",
      "What is the goal of devising rational associations of targeted inhibitors against altered signaling-network pathways based on?\",\n",
      "\"What is mentioned as one of the most important projects in the field of artificial intelligence and cancer-related data integration in the book chapter?\"\n",
      "],\n",
      "\"answer\": [\n",
      "\"['Parodi S', 'Riccardi G', 'Castagnino N', 'Tortolina L', 'Maffei M', 'Zoppoli G', 'Nencioni A', 'Ballestrero A', 'Patrone F']\",\n",
      "\"One perspective looks to the future with the goal of rational associations of targeted inhibitors against altered signaling-network pathways, The other perspective is about supporting the choice of the most convenient treatment for individual cancer patients as of today.\",\n",
      "\"A sufficiently in-depth molecular diagnosis of the personal cancer of a given patient.\",\n",
      "\"IBM Watson US Cancer Centers.\"\n",
      "],\n",
      "\"start_point\": [\n",
      "45,\n",
      "308,\n",
      "374,\n",
      "872\n",
      "]\n",
      "}\n",
      "\n"
     ]
    },
    {
     "ename": "JSONDecodeError",
     "evalue": "Expecting value: line 5 column 1 (char 161)",
     "output_type": "error",
     "traceback": [
      "\u001b[1;31m---------------------------------------------------------------------------\u001b[0m",
      "\u001b[1;31mJSONDecodeError\u001b[0m                           Traceback (most recent call last)",
      "Cell \u001b[1;32mIn[7], line 3\u001b[0m\n\u001b[0;32m      1\u001b[0m \u001b[38;5;28;01mif\u001b[39;00m query_result \u001b[38;5;129;01mis\u001b[39;00m \u001b[38;5;129;01mnot\u001b[39;00m \u001b[38;5;28;01mNone\u001b[39;00m:\n\u001b[1;32m----> 3\u001b[0m     data \u001b[38;5;241m=\u001b[39m \u001b[43mgenerate_qa_pairs\u001b[49m\u001b[43m(\u001b[49m\u001b[43mquery_result\u001b[49m\u001b[43m)\u001b[49m\n\u001b[0;32m      5\u001b[0m     \u001b[38;5;28;01mwith\u001b[39;00m \u001b[38;5;28mopen\u001b[39m(saving_file_name, \u001b[38;5;124m'\u001b[39m\u001b[38;5;124ma+\u001b[39m\u001b[38;5;124m'\u001b[39m) \u001b[38;5;28;01mas\u001b[39;00m f:\n\u001b[0;32m      6\u001b[0m         writer \u001b[38;5;241m=\u001b[39m csv\u001b[38;5;241m.\u001b[39mwriter(f)\n",
      "Cell \u001b[1;32mIn[5], line 6\u001b[0m, in \u001b[0;36mgenerate_qa_pairs\u001b[1;34m(paper_detail)\u001b[0m\n\u001b[0;32m      4\u001b[0m \u001b[38;5;28;01mfor\u001b[39;00m i \u001b[38;5;129;01min\u001b[39;00m paper_detail:\n\u001b[0;32m      5\u001b[0m     paper \u001b[38;5;241m=\u001b[39m i[\u001b[38;5;124m'\u001b[39m\u001b[38;5;124m_source\u001b[39m\u001b[38;5;124m'\u001b[39m]\n\u001b[1;32m----> 6\u001b[0m     result \u001b[38;5;241m=\u001b[39m \u001b[43mquery_with_open_AI\u001b[49m\u001b[43m(\u001b[49m\u001b[43mpaper\u001b[49m\u001b[43m)\u001b[49m\n\u001b[0;32m      8\u001b[0m     questions_list\u001b[38;5;241m=\u001b[39mresult[\u001b[38;5;124m'\u001b[39m\u001b[38;5;124mquestion\u001b[39m\u001b[38;5;124m'\u001b[39m]\n\u001b[0;32m      9\u001b[0m     answers_list\u001b[38;5;241m=\u001b[39mresult[\u001b[38;5;124m'\u001b[39m\u001b[38;5;124manswer\u001b[39m\u001b[38;5;124m'\u001b[39m]\n",
      "Cell \u001b[1;32mIn[4], line 14\u001b[0m, in \u001b[0;36mquery_with_open_AI\u001b[1;34m(paper_detail)\u001b[0m\n\u001b[0;32m      2\u001b[0m completion \u001b[38;5;241m=\u001b[39m client_open_ai\u001b[38;5;241m.\u001b[39mchat\u001b[38;5;241m.\u001b[39mcompletions\u001b[38;5;241m.\u001b[39mcreate(\n\u001b[0;32m      3\u001b[0m   model\u001b[38;5;241m=\u001b[39m\u001b[38;5;124m\"\u001b[39m\u001b[38;5;124mgpt-3.5-turbo\u001b[39m\u001b[38;5;124m\"\u001b[39m,\n\u001b[0;32m      4\u001b[0m   messages\u001b[38;5;241m=\u001b[39m[\n\u001b[1;32m   (...)\u001b[0m\n\u001b[0;32m     10\u001b[0m   ],\n\u001b[0;32m     11\u001b[0m )\n\u001b[0;32m     12\u001b[0m \u001b[38;5;28mprint\u001b[39m(\u001b[38;5;124mf\u001b[39m\u001b[38;5;124m\"\u001b[39m\u001b[38;5;132;01m{\u001b[39;00mcompletion\u001b[38;5;241m.\u001b[39mchoices[\u001b[38;5;241m0\u001b[39m]\u001b[38;5;241m.\u001b[39mmessage\u001b[38;5;241m.\u001b[39mcontent\u001b[38;5;132;01m}\u001b[39;00m\u001b[38;5;130;01m\\n\u001b[39;00m\u001b[38;5;124m\"\u001b[39m)\n\u001b[1;32m---> 14\u001b[0m \u001b[38;5;28;01mreturn\u001b[39;00m \u001b[43mjson\u001b[49m\u001b[38;5;241;43m.\u001b[39;49m\u001b[43mloads\u001b[49m\u001b[43m(\u001b[49m\u001b[43mcompletion\u001b[49m\u001b[38;5;241;43m.\u001b[39;49m\u001b[43mchoices\u001b[49m\u001b[43m[\u001b[49m\u001b[38;5;241;43m0\u001b[39;49m\u001b[43m]\u001b[49m\u001b[38;5;241;43m.\u001b[39;49m\u001b[43mmessage\u001b[49m\u001b[38;5;241;43m.\u001b[39;49m\u001b[43mcontent\u001b[49m\u001b[43m)\u001b[49m\n",
      "File \u001b[1;32mD:\\Python3.10\\lib\\json\\__init__.py:346\u001b[0m, in \u001b[0;36mloads\u001b[1;34m(s, cls, object_hook, parse_float, parse_int, parse_constant, object_pairs_hook, **kw)\u001b[0m\n\u001b[0;32m    341\u001b[0m     s \u001b[38;5;241m=\u001b[39m s\u001b[38;5;241m.\u001b[39mdecode(detect_encoding(s), \u001b[38;5;124m'\u001b[39m\u001b[38;5;124msurrogatepass\u001b[39m\u001b[38;5;124m'\u001b[39m)\n\u001b[0;32m    343\u001b[0m \u001b[38;5;28;01mif\u001b[39;00m (\u001b[38;5;28mcls\u001b[39m \u001b[38;5;129;01mis\u001b[39;00m \u001b[38;5;28;01mNone\u001b[39;00m \u001b[38;5;129;01mand\u001b[39;00m object_hook \u001b[38;5;129;01mis\u001b[39;00m \u001b[38;5;28;01mNone\u001b[39;00m \u001b[38;5;129;01mand\u001b[39;00m\n\u001b[0;32m    344\u001b[0m         parse_int \u001b[38;5;129;01mis\u001b[39;00m \u001b[38;5;28;01mNone\u001b[39;00m \u001b[38;5;129;01mand\u001b[39;00m parse_float \u001b[38;5;129;01mis\u001b[39;00m \u001b[38;5;28;01mNone\u001b[39;00m \u001b[38;5;129;01mand\u001b[39;00m\n\u001b[0;32m    345\u001b[0m         parse_constant \u001b[38;5;129;01mis\u001b[39;00m \u001b[38;5;28;01mNone\u001b[39;00m \u001b[38;5;129;01mand\u001b[39;00m object_pairs_hook \u001b[38;5;129;01mis\u001b[39;00m \u001b[38;5;28;01mNone\u001b[39;00m \u001b[38;5;129;01mand\u001b[39;00m \u001b[38;5;129;01mnot\u001b[39;00m kw):\n\u001b[1;32m--> 346\u001b[0m     \u001b[38;5;28;01mreturn\u001b[39;00m \u001b[43m_default_decoder\u001b[49m\u001b[38;5;241;43m.\u001b[39;49m\u001b[43mdecode\u001b[49m\u001b[43m(\u001b[49m\u001b[43ms\u001b[49m\u001b[43m)\u001b[49m\n\u001b[0;32m    347\u001b[0m \u001b[38;5;28;01mif\u001b[39;00m \u001b[38;5;28mcls\u001b[39m \u001b[38;5;129;01mis\u001b[39;00m \u001b[38;5;28;01mNone\u001b[39;00m:\n\u001b[0;32m    348\u001b[0m     \u001b[38;5;28mcls\u001b[39m \u001b[38;5;241m=\u001b[39m JSONDecoder\n",
      "File \u001b[1;32mD:\\Python3.10\\lib\\json\\decoder.py:337\u001b[0m, in \u001b[0;36mJSONDecoder.decode\u001b[1;34m(self, s, _w)\u001b[0m\n\u001b[0;32m    332\u001b[0m \u001b[38;5;28;01mdef\u001b[39;00m \u001b[38;5;21mdecode\u001b[39m(\u001b[38;5;28mself\u001b[39m, s, _w\u001b[38;5;241m=\u001b[39mWHITESPACE\u001b[38;5;241m.\u001b[39mmatch):\n\u001b[0;32m    333\u001b[0m \u001b[38;5;250m    \u001b[39m\u001b[38;5;124;03m\"\"\"Return the Python representation of ``s`` (a ``str`` instance\u001b[39;00m\n\u001b[0;32m    334\u001b[0m \u001b[38;5;124;03m    containing a JSON document).\u001b[39;00m\n\u001b[0;32m    335\u001b[0m \n\u001b[0;32m    336\u001b[0m \u001b[38;5;124;03m    \"\"\"\u001b[39;00m\n\u001b[1;32m--> 337\u001b[0m     obj, end \u001b[38;5;241m=\u001b[39m \u001b[38;5;28;43mself\u001b[39;49m\u001b[38;5;241;43m.\u001b[39;49m\u001b[43mraw_decode\u001b[49m\u001b[43m(\u001b[49m\u001b[43ms\u001b[49m\u001b[43m,\u001b[49m\u001b[43m \u001b[49m\u001b[43midx\u001b[49m\u001b[38;5;241;43m=\u001b[39;49m\u001b[43m_w\u001b[49m\u001b[43m(\u001b[49m\u001b[43ms\u001b[49m\u001b[43m,\u001b[49m\u001b[43m \u001b[49m\u001b[38;5;241;43m0\u001b[39;49m\u001b[43m)\u001b[49m\u001b[38;5;241;43m.\u001b[39;49m\u001b[43mend\u001b[49m\u001b[43m(\u001b[49m\u001b[43m)\u001b[49m\u001b[43m)\u001b[49m\n\u001b[0;32m    338\u001b[0m     end \u001b[38;5;241m=\u001b[39m _w(s, end)\u001b[38;5;241m.\u001b[39mend()\n\u001b[0;32m    339\u001b[0m     \u001b[38;5;28;01mif\u001b[39;00m end \u001b[38;5;241m!=\u001b[39m \u001b[38;5;28mlen\u001b[39m(s):\n",
      "File \u001b[1;32mD:\\Python3.10\\lib\\json\\decoder.py:355\u001b[0m, in \u001b[0;36mJSONDecoder.raw_decode\u001b[1;34m(self, s, idx)\u001b[0m\n\u001b[0;32m    353\u001b[0m     obj, end \u001b[38;5;241m=\u001b[39m \u001b[38;5;28mself\u001b[39m\u001b[38;5;241m.\u001b[39mscan_once(s, idx)\n\u001b[0;32m    354\u001b[0m \u001b[38;5;28;01mexcept\u001b[39;00m \u001b[38;5;167;01mStopIteration\u001b[39;00m \u001b[38;5;28;01mas\u001b[39;00m err:\n\u001b[1;32m--> 355\u001b[0m     \u001b[38;5;28;01mraise\u001b[39;00m JSONDecodeError(\u001b[38;5;124m\"\u001b[39m\u001b[38;5;124mExpecting value\u001b[39m\u001b[38;5;124m\"\u001b[39m, s, err\u001b[38;5;241m.\u001b[39mvalue) \u001b[38;5;28;01mfrom\u001b[39;00m \u001b[38;5;28;01mNone\u001b[39;00m\n\u001b[0;32m    356\u001b[0m \u001b[38;5;28;01mreturn\u001b[39;00m obj, end\n",
      "\u001b[1;31mJSONDecodeError\u001b[0m: Expecting value: line 5 column 1 (char 161)"
     ]
    }
   ],
   "source": [
    "if query_result is not None:\n",
    "\n",
    "    data = generate_qa_pairs(query_result)\n",
    "\n",
    "    with open(saving_file_name, 'a+') as f:\n",
    "        writer = csv.writer(f)\n",
    "        # write the header\n",
    "        writer.writerow(header)\n",
    "        # write the data\n",
    "        writer.writerows(data)"
   ]
  }
 ],
 "metadata": {
  "kernelspec": {
   "display_name": ".venv",
   "language": "python",
   "name": "python3"
  },
  "language_info": {
   "codemirror_mode": {
    "name": "ipython",
    "version": 3
   },
   "file_extension": ".py",
   "mimetype": "text/x-python",
   "name": "python",
   "nbconvert_exporter": "python",
   "pygments_lexer": "ipython3",
   "version": "3.10.11"
  }
 },
 "nbformat": 4,
 "nbformat_minor": 2
}
