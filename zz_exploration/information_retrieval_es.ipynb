{
 "cells": [
  {
   "cell_type": "markdown",
   "id": "7ddb725d",
   "metadata": {},
   "source": [
    "## Open search directly"
   ]
  },
  {
   "cell_type": "code",
   "execution_count": 1,
   "id": "69963b68",
   "metadata": {},
   "outputs": [],
   "source": [
    "import spacy\n",
    "\n",
    "from src.connection import client\n",
    "from src.config import index_name\n",
    "from src.utils import process_query, construct_elasticsearch_query"
   ]
  },
  {
   "cell_type": "code",
   "execution_count": 2,
   "id": "633ba96e",
   "metadata": {},
   "outputs": [],
   "source": [
    "# Load the spaCy model\n",
    "model = 'en_core_sci_sm'\n",
    "nlp = spacy.load(model)\n",
    "\n",
    "# List of stop words to be added\n",
    "stop_words = ['.', ':', ',', '(',')', '[',']','?', '\\\\','/', '+', '-','\\\"','\\'','1','2',' ']\n",
    "# Add stop words to nlp.vocab\n",
    "for word in stop_words:\n",
    "    nlp.vocab[word].is_stop = True\n"
   ]
  },
  {
   "cell_type": "code",
   "execution_count": 3,
   "id": "da1f1926",
   "metadata": {},
   "outputs": [
    {
     "name": "stdout",
     "output_type": "stream",
     "text": [
      "Processed Tokens: ['key', 'cognitive', 'abilities', 'associated', 'human', 'intelligence']\n",
      "Named Entities: [('cognitive abilities', 'ENTITY'), ('associated with', 'ENTITY'), ('human', 'ENTITY'), ('intelligence', 'ENTITY')]\n"
     ]
    }
   ],
   "source": [
    "# Example usage\n",
    "query = \"What are the key cognitive abilities associated with human intelligence?\"\n",
    "tokens, entities = process_query(query,nlp)\n",
    "\n",
    "print(\"Processed Tokens:\", tokens)\n",
    "print(\"Named Entities:\", entities)"
   ]
  },
  {
   "cell_type": "code",
   "execution_count": 4,
   "id": "f7e2845a",
   "metadata": {
    "scrolled": true
   },
   "outputs": [
    {
     "name": "stdout",
     "output_type": "stream",
     "text": [
      "======Document ID: 37536528, Score: 114.51836\n",
      "Cognitive abilities are associated with specific conjunctions of structural and functional neural subnetworks.\n",
      "======Document ID: 30787863, Score: 111.55712\n",
      "Brain Activation Time-Locked to Sleep Spindles Associated With Human Cognitive Abilities.\n",
      "======Document ID: 36335015, Score: 110.72405\n",
      "Capturing advanced human cognitive abilities with deep neural networks.\n",
      "======Document ID: 35865139, Score: 106.44287\n",
      "What do neuroanatomical networks reveal about the ontology of human cognitive abilities?\n",
      "======Document ID: 33343437, Score: 98.89558\n",
      "Towards a Model of Valued Human Cognitive Abilities: An African Perspective Based on a Systematic Review.\n"
     ]
    }
   ],
   "source": [
    "pub_date_range = [\"2019/01/01\", \"2023/12/31\"]\n",
    "# authors = [\"Munion A\", \"Malanchini M\"]\n",
    "\n",
    "top_n = 5\n",
    "es_query = construct_elasticsearch_query(tokens, entities,top_n, pub_date_range)\n",
    "# print(es_query)\n",
    "\n",
    "result = client.search(index=index_name, body=es_query)\n",
    "hits = result[\"hits\"][\"hits\"]\n",
    "\n",
    "# Output the document hits\n",
    "for hit in hits:\n",
    "    print(f\"======Document ID: {hit['_id']}, Score: {hit['_score']}\")\n",
    "    print(hit['_source']['Title'])\n",
    "#     print(hit['_source']['Abstract'])"
   ]
  }
 ],
 "metadata": {
  "kernelspec": {
   "display_name": "Python 3 (ipykernel)",
   "language": "python",
   "name": "python3"
  },
  "language_info": {
   "codemirror_mode": {
    "name": "ipython",
    "version": 3
   },
   "file_extension": ".py",
   "mimetype": "text/x-python",
   "name": "python",
   "nbconvert_exporter": "python",
   "pygments_lexer": "ipython3",
   "version": "3.8.9"
  }
 },
 "nbformat": 4,
 "nbformat_minor": 5
}
